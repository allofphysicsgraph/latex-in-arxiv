{
 "cells": [
  {
   "cell_type": "code",
   "execution_count": null,
   "metadata": {},
   "outputs": [],
   "source": [
    "from nltk import v"
   ]
  },
  {
   "cell_type": "code",
   "execution_count": null,
   "metadata": {},
   "outputs": [],
   "source": []
  },
  {
   "cell_type": "raw",
   "metadata": {},
   "source": [
    "!wget https://www.cs.cornell.edu/projects/kddcup/download/hep-th-2003.tar.gz\n",
    "!tar xzvf hep-th-2003.tar.gz"
   ]
  },
  {
   "cell_type": "code",
   "execution_count": 1,
   "metadata": {},
   "outputs": [],
   "source": [
    "import glob\n",
    "import re"
   ]
  },
  {
   "cell_type": "code",
   "execution_count": 2,
   "metadata": {},
   "outputs": [],
   "source": [
    "list_of_files = glob.glob('2003/*')"
   ]
  },
  {
   "cell_type": "code",
   "execution_count": 3,
   "metadata": {},
   "outputs": [],
   "source": [
    "dct = {}\n",
    "trie = {}\n",
    "#files = [x for x in listdir('.') if x.endswith('.tex')]\n",
    "def insert(trie,value,mapped_value):\n",
    "    dct = False\n",
    "    if value:\n",
    "        first, rest = value[0], value[1:]\n",
    "        if first not in trie:\n",
    "            trie[first] = {}\n",
    "            insert(trie[first], rest,mapped_value)\n",
    "        else:\n",
    "            insert(trie[first],rest,mapped_value)\n",
    "    else:\n",
    "        trie['value'] = mapped_value\n"
   ]
  },
  {
   "cell_type": "code",
   "execution_count": 4,
   "metadata": {},
   "outputs": [],
   "source": [
    "for f_name in list_of_files:\n",
    "    f = open(f_name,'r',encoding=\"ISO-8859-1\")\n",
    "    data = f.read()\n",
    "    f.close()\n",
    "    \n",
    "    matches = re.findall(r'\\$(.*?)\\$',data,re.DOTALL)\n",
    "    for match in matches:\n",
    "        if match not in dct.keys():\n",
    "            dct[match] = 1\n",
    "        else:\n",
    "            dct[match] += 1\n"
   ]
  },
  {
   "cell_type": "code",
   "execution_count": 5,
   "metadata": {},
   "outputs": [],
   "source": [
    "with open('common_expressions.txt','a+') as f:\n",
    "    for ix in sorted(dct.items(),key=lambda x: -x[1]):\n",
    "        if ix[1] > 5:\n",
    "            f.write(ix[0])\n",
    "            f.write('\\n')\n",
    "\n",
    "\n",
    "with open('common_expressions.txt','r') as f:\n",
    "    data =[x.replace('\\n','') for x in f.readlines()]"
   ]
  },
  {
   "cell_type": "code",
   "execution_count": 6,
   "metadata": {},
   "outputs": [
    {
     "data": {
      "text/plain": [
       "{'value': '\\\\gamma',\n",
       " ' ': {'value': '\\\\gamma ',\n",
       "  '=': {'0': {'value': '\\\\gamma =0'},\n",
       "   ' ': {'\\\\': {'p': {'i': {'/': {'2': {'value': '\\\\gamma = \\\\pi/2'}}}}},\n",
       "    '0': {'value': '\\\\gamma = 0'}}},\n",
       "  '_': {'1': {'value': '\\\\gamma _1'}, '2': {'value': '\\\\gamma _2'}},\n",
       "  '\\\\': {'g': {'g': {' ': {'1': {'value': '\\\\gamma \\\\gg 1'}}}}}},\n",
       " '_': {'i': {'value': '\\\\gamma_i'},\n",
       "  '5': {'value': '\\\\gamma_5'},\n",
       "  '{': {'i': {'j': {'}': {'value': '\\\\gamma_{ij}'}}},\n",
       "   '\\\\': {'m': {'u': {'\\\\': {'n': {'u': {'}': {'value': '\\\\gamma_{\\\\mu\\\\nu}'}}}}}}},\n",
       "   '4': {'}': {'value': '\\\\gamma_{4}'}},\n",
       "   'a': {'b': {'}': {'value': '\\\\gamma_{ab}'}}}},\n",
       "  '2': {'value': '\\\\gamma_2'},\n",
       "  '0': {'value': '\\\\gamma_0'},\n",
       "  '\\\\': {'m': {'u': {'value': '\\\\gamma_\\\\mu'}},\n",
       "   'a': {'l': {'p': {'h': {'a': {'value': '\\\\gamma_\\\\alpha'}}}}}},\n",
       "  'a': {'value': '\\\\gamma_a'},\n",
       "  '1': {'value': '\\\\gamma_1'},\n",
       "  'j': {'value': '\\\\gamma_j'}},\n",
       " '=': {'0': {'value': '\\\\gamma=0'},\n",
       "  '1': {'/': {'3': {'value': '\\\\gamma=1/3'}}}},\n",
       " '^': {'a': {'value': '\\\\gamma^a'},\n",
       "  '5': {'value': '\\\\gamma^5'},\n",
       "  'i': {'value': '\\\\gamma^i'},\n",
       "  '\\\\': {'m': {'u': {'value': '\\\\gamma^\\\\mu'}}},\n",
       "  '{': {'-': {'1': {'}': {'value': '\\\\gamma^{-1}'}}}}},\n",
       " '\\\\': {'r': {'i': {'g': {'h': {'t': {'a': {'r': {'r': {'o': {'w': {' ': {'0': {'value': '\\\\gamma\\\\rightarrow 0'}}}}}}}}}}}}}}"
      ]
     },
     "execution_count": 6,
     "metadata": {},
     "output_type": "execute_result"
    }
   ],
   "source": [
    "for item in data:\n",
    "    insert(trie,item,item)\n",
    "\n",
    "\n",
    "trie['\\\\']['g']['a']['m']['m']['a']"
   ]
  },
  {
   "cell_type": "code",
   "execution_count": 7,
   "metadata": {},
   "outputs": [],
   "source": [
    "def trie_query(search_string):\n",
    "    resp = trie.get(search_string[0])\n",
    "    for letter in search_string[1:]:\n",
    "        resp = resp.get(letter)\n",
    "    return resp"
   ]
  },
  {
   "cell_type": "code",
   "execution_count": 8,
   "metadata": {},
   "outputs": [],
   "source": [
    "def get_trie_query_values(search_string):\n",
    "    lst = []\n",
    "    seen = set()\n",
    "    seen.add(search_string)\n",
    "    for k,v in trie_query(search_string).items():\n",
    "        if k !='value':\n",
    "            lst.append(search_string+k)\n",
    "        else:\n",
    "            lst.append(v)\n",
    "            seen.add(v)\n",
    "\n",
    "    for search_string in lst:\n",
    "        for k,v in trie_query(search_string).items():\n",
    "            if k !='value':\n",
    "                new_string = search_string+k\n",
    "                if new_string not in lst:\n",
    "                    lst.append(search_string+k)\n",
    "            else:\n",
    "                if v not in lst:\n",
    "                    lst.append(v)\n",
    "                seen.add(v)\n",
    "    return seen"
   ]
  },
  {
   "cell_type": "code",
   "execution_count": 9,
   "metadata": {},
   "outputs": [
    {
     "data": {
      "text/plain": [
       "{'\\\\mu=',\n",
       " '\\\\mu=-\\\\frac{4}{27\\\\epsilon^2}',\n",
       " '\\\\mu=0',\n",
       " '\\\\mu=0,1',\n",
       " '\\\\mu=0,1,2,3',\n",
       " '\\\\mu=1',\n",
       " '\\\\mu=\\\\pi',\n",
       " '\\\\mu=\\\\pi/2'}"
      ]
     },
     "execution_count": 9,
     "metadata": {},
     "output_type": "execute_result"
    }
   ],
   "source": [
    "get_trie_query_values('\\\\mu=')"
   ]
  },
  {
   "cell_type": "code",
   "execution_count": null,
   "metadata": {},
   "outputs": [],
   "source": []
  }
 ],
 "metadata": {
  "kernelspec": {
   "display_name": "Python 3",
   "language": "python",
   "name": "python3"
  },
  "language_info": {
   "codemirror_mode": {
    "name": "ipython",
    "version": 3
   },
   "file_extension": ".py",
   "mimetype": "text/x-python",
   "name": "python",
   "nbconvert_exporter": "python",
   "pygments_lexer": "ipython3",
   "version": "3.7.3"
  }
 },
 "nbformat": 4,
 "nbformat_minor": 2
}
