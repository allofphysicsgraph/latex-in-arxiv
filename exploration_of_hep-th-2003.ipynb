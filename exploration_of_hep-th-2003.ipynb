{
 "cells": [
  {
   "cell_type": "markdown",
   "metadata": {},
   "source": [
    "# download data"
   ]
  },
  {
   "cell_type": "markdown",
   "metadata": {},
   "source": [
    "https://www.cs.cornell.edu/projects/kddcup/datasets.html"
   ]
  },
  {
   "cell_type": "raw",
   "metadata": {},
   "source": [
    "!wget https://www.cs.cornell.edu/projects/kddcup/download/hep-th-2003.tar.gz"
   ]
  },
  {
   "cell_type": "raw",
   "metadata": {},
   "source": [
    "!tar xzvf hep-th-2003.tar.gz"
   ]
  },
  {
   "cell_type": "raw",
   "metadata": {},
   "source": [
    "!ls -hal 2003/ | wc -l"
   ]
  },
  {
   "cell_type": "markdown",
   "metadata": {},
   "source": [
    "# load libraries"
   ]
  },
  {
   "cell_type": "code",
   "execution_count": 3,
   "metadata": {},
   "outputs": [
    {
     "name": "stdout",
     "output_type": "stream",
     "text": [
      "Collecting tex2py\n",
      "  Downloading https://files.pythonhosted.org/packages/27/12/d84bce93b73ed369fd48882636bb344c6d99da8ccf729c36dc879303862d/tex2py-0.0.5.tar.gz\n",
      "Collecting TexSoup==0.1.4 (from tex2py)\n",
      "  Downloading https://files.pythonhosted.org/packages/01/35/bfdbdbc2e6716c777fe3433cda59ae2ae0a6fe5b1ec7c3dea5c50d8974ba/TexSoup-0.1.4.tar.gz\n",
      "Collecting pptree==2.0 (from tex2py)\n",
      "  Downloading https://files.pythonhosted.org/packages/19/62/1e4c3c30b722d6c41c3c92cd8cef723e93b48dde9adb1ae64b30583543b4/pptree-2.0.tar.gz\n",
      "Collecting pytest (from tex2py)\n",
      "\u001b[?25l  Downloading https://files.pythonhosted.org/packages/6c/f9/9f2b6c672c8f8bb87a4c1bd52c1b57213627b035305aad745d015b2a62ae/pytest-5.4.2-py3-none-any.whl (247kB)\n",
      "\u001b[K    100% |████████████████████████████████| 256kB 688kB/s \n",
      "\u001b[?25hCollecting pytest-cov==2.5.1 (from tex2py)\n",
      "  Downloading https://files.pythonhosted.org/packages/30/7d/7f6a78ae44a1248ee28cc777586c18b28a1df903470e5d34a6e25712b8aa/pytest_cov-2.5.1-py2.py3-none-any.whl\n",
      "Collecting coverage==3.7.1 (from tex2py)\n",
      "\u001b[?25l  Downloading https://files.pythonhosted.org/packages/09/4f/89b06c7fdc09687bca507dc411c342556ef9c5a3b26756137a4878ff19bf/coverage-3.7.1.tar.gz (284kB)\n",
      "\u001b[K    100% |████████████████████████████████| 286kB 911kB/s \n",
      "\u001b[?25hCollecting coveralls==1.1 (from tex2py)\n",
      "  Downloading https://files.pythonhosted.org/packages/81/f9/da2ad9334f60e418cb229c58724330be2635b369676d3eec8f61e1f85faa/coveralls-1.1-py2.py3-none-any.whl\n",
      "Requirement already satisfied: wcwidth in /opt/conda/lib/python3.6/site-packages (from pytest->tex2py) (0.1.7)\n",
      "Collecting importlib-metadata>=0.12; python_version < \"3.8\" (from pytest->tex2py)\n",
      "  Downloading https://files.pythonhosted.org/packages/ad/e4/891bfcaf868ccabc619942f27940c77a8a4b45fd8367098955bb7e152fb1/importlib_metadata-1.6.0-py2.py3-none-any.whl\n",
      "Requirement already satisfied: packaging in /opt/conda/lib/python3.6/site-packages (from pytest->tex2py) (18.0)\n",
      "Collecting py>=1.5.0 (from pytest->tex2py)\n",
      "\u001b[?25l  Downloading https://files.pythonhosted.org/packages/99/8d/21e1767c009211a62a8e3067280bfce76e89c9f876180308515942304d2d/py-1.8.1-py2.py3-none-any.whl (83kB)\n",
      "\u001b[K    100% |████████████████████████████████| 92kB 731kB/s \n",
      "\u001b[?25hRequirement already satisfied: attrs>=17.4.0 in /opt/conda/lib/python3.6/site-packages (from pytest->tex2py) (18.2.0)\n",
      "Collecting pluggy<1.0,>=0.12 (from pytest->tex2py)\n",
      "  Downloading https://files.pythonhosted.org/packages/a0/28/85c7aa31b80d150b772fbe4a229487bc6644da9ccb7e427dd8cc60cb8a62/pluggy-0.13.1-py2.py3-none-any.whl\n",
      "Collecting more-itertools>=4.0.0 (from pytest->tex2py)\n",
      "\u001b[?25l  Downloading https://files.pythonhosted.org/packages/06/b1/2dcadc4861c505a807d5c6d88928450fe5afcf352f205432572a10d74657/more_itertools-8.3.0-py3-none-any.whl (44kB)\n",
      "\u001b[K    100% |████████████████████████████████| 51kB 630kB/s \n",
      "\u001b[?25hCollecting docopt>=0.6.1 (from coveralls==1.1->tex2py)\n",
      "  Downloading https://files.pythonhosted.org/packages/a2/55/8f8cab2afd404cf578136ef2cc5dfb50baa1761b68c9da1fb1e4eed343c9/docopt-0.6.2.tar.gz\n",
      "Requirement already satisfied: requests>=1.0.0 in /opt/conda/lib/python3.6/site-packages (from coveralls==1.1->tex2py) (2.20.1)\n",
      "Collecting zipp>=0.5 (from importlib-metadata>=0.12; python_version < \"3.8\"->pytest->tex2py)\n",
      "  Downloading https://files.pythonhosted.org/packages/b2/34/bfcb43cc0ba81f527bc4f40ef41ba2ff4080e047acb0586b56b3d017ace4/zipp-3.1.0-py3-none-any.whl\n",
      "Requirement already satisfied: six in /opt/conda/lib/python3.6/site-packages (from packaging->pytest->tex2py) (1.11.0)\n",
      "Requirement already satisfied: pyparsing>=2.0.2 in /opt/conda/lib/python3.6/site-packages (from packaging->pytest->tex2py) (2.3.0)\n",
      "Requirement already satisfied: idna<2.8,>=2.5 in /opt/conda/lib/python3.6/site-packages (from requests>=1.0.0->coveralls==1.1->tex2py) (2.7)\n",
      "Requirement already satisfied: urllib3<1.25,>=1.21.1 in /opt/conda/lib/python3.6/site-packages (from requests>=1.0.0->coveralls==1.1->tex2py) (1.23)\n",
      "Requirement already satisfied: chardet<3.1.0,>=3.0.2 in /opt/conda/lib/python3.6/site-packages (from requests>=1.0.0->coveralls==1.1->tex2py) (3.0.4)\n",
      "Requirement already satisfied: certifi>=2017.4.17 in /opt/conda/lib/python3.6/site-packages (from requests>=1.0.0->coveralls==1.1->tex2py) (2018.11.29)\n",
      "Building wheels for collected packages: tex2py, TexSoup, pptree, coverage, docopt\n",
      "  Running setup.py bdist_wheel for tex2py ... \u001b[?25ldone\n",
      "\u001b[?25h  Stored in directory: /home/jovyan/.cache/pip/wheels/77/43/07/10150a9d41c4aad9cfc3c21cfaf566b888f9973cc68f28c904\n",
      "  Running setup.py bdist_wheel for TexSoup ... \u001b[?25ldone\n",
      "\u001b[?25h  Stored in directory: /home/jovyan/.cache/pip/wheels/da/c1/73/bead51d40371f22dbc368a557b39dc3271d94a71248dd7d39c\n",
      "  Running setup.py bdist_wheel for pptree ... \u001b[?25ldone\n",
      "\u001b[?25h  Stored in directory: /home/jovyan/.cache/pip/wheels/68/b2/d4/6028fa5c48fc258dd13129ddb85dedc8e0ca85a11fdaff9829\n",
      "  Running setup.py bdist_wheel for coverage ... \u001b[?25ldone\n",
      "\u001b[?25h  Stored in directory: /home/jovyan/.cache/pip/wheels/68/58/66/f1fc9afad272df0df0fa38cdef34ee2d5d8d6a85f4eb5acab5\n",
      "  Running setup.py bdist_wheel for docopt ... \u001b[?25ldone\n",
      "\u001b[?25h  Stored in directory: /home/jovyan/.cache/pip/wheels/9b/04/dd/7daf4150b6d9b12949298737de9431a324d4b797ffd63f526e\n",
      "Successfully built tex2py TexSoup pptree coverage docopt\n",
      "Installing collected packages: zipp, importlib-metadata, py, pluggy, more-itertools, pytest, coverage, pytest-cov, docopt, coveralls, TexSoup, pptree, tex2py\n",
      "  Found existing installation: coverage 4.5.2\n",
      "    Uninstalling coverage-4.5.2:\n",
      "      Successfully uninstalled coverage-4.5.2\n",
      "Successfully installed TexSoup-0.1.4 coverage-3.7.1 coveralls-1.1 docopt-0.6.2 importlib-metadata-1.6.0 more-itertools-8.3.0 pluggy-0.13.1 pptree-2.0 py-1.8.1 pytest-5.4.2 pytest-cov-2.5.1 tex2py-0.0.5 zipp-3.1.0\n"
     ]
    }
   ],
   "source": [
    "# https://github.com/alvinwan/tex2py\n",
    "!pip install tex2py"
   ]
  },
  {
   "cell_type": "code",
   "execution_count": 4,
   "metadata": {},
   "outputs": [
    {
     "name": "stdout",
     "output_type": "stream",
     "text": [
      "Requirement already satisfied: texsoup in /opt/conda/lib/python3.6/site-packages (0.1.4)\n",
      "Requirement already satisfied: coveralls==1.1 in /opt/conda/lib/python3.6/site-packages (from texsoup) (1.1)\n",
      "Requirement already satisfied: pytest in /opt/conda/lib/python3.6/site-packages (from texsoup) (5.4.2)\n",
      "Requirement already satisfied: pytest-cov==2.5.1 in /opt/conda/lib/python3.6/site-packages (from texsoup) (2.5.1)\n",
      "Requirement already satisfied: coverage==3.7.1 in /opt/conda/lib/python3.6/site-packages (from texsoup) (3.7.1)\n",
      "Requirement already satisfied: docopt>=0.6.1 in /opt/conda/lib/python3.6/site-packages (from coveralls==1.1->texsoup) (0.6.2)\n",
      "Requirement already satisfied: requests>=1.0.0 in /opt/conda/lib/python3.6/site-packages (from coveralls==1.1->texsoup) (2.20.1)\n",
      "Requirement already satisfied: pluggy<1.0,>=0.12 in /opt/conda/lib/python3.6/site-packages (from pytest->texsoup) (0.13.1)\n",
      "Requirement already satisfied: importlib-metadata>=0.12; python_version < \"3.8\" in /opt/conda/lib/python3.6/site-packages (from pytest->texsoup) (1.6.0)\n",
      "Requirement already satisfied: py>=1.5.0 in /opt/conda/lib/python3.6/site-packages (from pytest->texsoup) (1.8.1)\n",
      "Requirement already satisfied: packaging in /opt/conda/lib/python3.6/site-packages (from pytest->texsoup) (18.0)\n",
      "Requirement already satisfied: wcwidth in /opt/conda/lib/python3.6/site-packages (from pytest->texsoup) (0.1.7)\n",
      "Requirement already satisfied: attrs>=17.4.0 in /opt/conda/lib/python3.6/site-packages (from pytest->texsoup) (18.2.0)\n",
      "Requirement already satisfied: more-itertools>=4.0.0 in /opt/conda/lib/python3.6/site-packages (from pytest->texsoup) (8.3.0)\n",
      "Requirement already satisfied: idna<2.8,>=2.5 in /opt/conda/lib/python3.6/site-packages (from requests>=1.0.0->coveralls==1.1->texsoup) (2.7)\n",
      "Requirement already satisfied: urllib3<1.25,>=1.21.1 in /opt/conda/lib/python3.6/site-packages (from requests>=1.0.0->coveralls==1.1->texsoup) (1.23)\n",
      "Requirement already satisfied: chardet<3.1.0,>=3.0.2 in /opt/conda/lib/python3.6/site-packages (from requests>=1.0.0->coveralls==1.1->texsoup) (3.0.4)\n",
      "Requirement already satisfied: certifi>=2017.4.17 in /opt/conda/lib/python3.6/site-packages (from requests>=1.0.0->coveralls==1.1->texsoup) (2018.11.29)\n",
      "Requirement already satisfied: zipp>=0.5 in /opt/conda/lib/python3.6/site-packages (from importlib-metadata>=0.12; python_version < \"3.8\"->pytest->texsoup) (3.1.0)\n",
      "Requirement already satisfied: pyparsing>=2.0.2 in /opt/conda/lib/python3.6/site-packages (from packaging->pytest->texsoup) (2.3.0)\n",
      "Requirement already satisfied: six in /opt/conda/lib/python3.6/site-packages (from packaging->pytest->texsoup) (1.11.0)\n"
     ]
    }
   ],
   "source": [
    "# https://github.com/alvinwan/TexSoup\n",
    "!pip install texsoup"
   ]
  },
  {
   "cell_type": "code",
   "execution_count": 5,
   "metadata": {},
   "outputs": [],
   "source": [
    "import re\n",
    "import time\n",
    "import glob\n",
    "import matplotlib.pyplot as plt"
   ]
  },
  {
   "cell_type": "markdown",
   "metadata": {},
   "source": [
    "# load data"
   ]
  },
  {
   "cell_type": "code",
   "execution_count": 12,
   "metadata": {},
   "outputs": [],
   "source": [
    "list_of_files = glob.glob('2003/*')"
   ]
  },
  {
   "cell_type": "code",
   "execution_count": 13,
   "metadata": {},
   "outputs": [
    {
     "data": {
      "text/plain": [
       "1019"
      ]
     },
     "execution_count": 13,
     "metadata": {},
     "output_type": "execute_result"
    }
   ],
   "source": [
    "len(list_of_files)"
   ]
  },
  {
   "cell_type": "markdown",
   "metadata": {},
   "source": [
    "# find relevant tags in latex\n",
    "\n",
    "this section relies on regex instead of using a library"
   ]
  },
  {
   "cell_type": "code",
   "execution_count": 14,
   "metadata": {},
   "outputs": [
    {
     "name": "stdout",
     "output_type": "stream",
     "text": [
      "6.28 seconds\n"
     ]
    }
   ],
   "source": [
    "start_time=time.time()\n",
    "reslts={}\n",
    "number_of_eq=0\n",
    "for this_file in list_of_files:\n",
    "    with open(this_file,'rb') as f:\n",
    "        data = f.read()\n",
    "    \n",
    "    resp = re.findall('\\\\\\\\begin{(?:eqnarray|equation|multiline)}.*?end{(?:eqnarray|equation|multiline)}',str(data),re.DOTALL)\n",
    "#    print(this_file)\n",
    "    for eq in resp:\n",
    "        number_of_eq+=1\n",
    "        try:\n",
    "            reslts[this_file].append(eq)\n",
    "        except KeyError:\n",
    "            reslts[this_file]=[]\n",
    "            reslts[this_file].append(eq)\n",
    "#        print('  ',eq,'\\n')\n",
    "\n",
    "print(round(time.time()-start_time,2),'seconds')"
   ]
  },
  {
   "cell_type": "code",
   "execution_count": 15,
   "metadata": {},
   "outputs": [
    {
     "data": {
      "text/plain": [
       "29481"
      ]
     },
     "execution_count": 15,
     "metadata": {},
     "output_type": "execute_result"
    }
   ],
   "source": [
    "# number of matching candidates in .tex files\n",
    "number_of_eq"
   ]
  },
  {
   "cell_type": "code",
   "execution_count": 16,
   "metadata": {},
   "outputs": [
    {
     "data": {
      "text/plain": [
       "929"
      ]
     },
     "execution_count": 16,
     "metadata": {},
     "output_type": "execute_result"
    }
   ],
   "source": [
    "# number of files containing candidates\n",
    "len(reslts.keys())"
   ]
  },
  {
   "cell_type": "code",
   "execution_count": 17,
   "metadata": {},
   "outputs": [
    {
     "data": {
      "text/plain": [
       "['\\\\begin{equation}}\\\\n\\\\\\\\newcommand{\\\\\\\\eeq}{\\\\\\\\end{equation}',\n",
       " '\\\\begin{eqnarray}}\\\\n\\\\\\\\newcommand{\\\\\\\\eeqa}{\\\\\\\\end{eqnarray}']"
      ]
     },
     "execution_count": 17,
     "metadata": {},
     "output_type": "execute_result"
    }
   ],
   "source": [
    "reslts[list(reslts.keys())[0]]"
   ]
  },
  {
   "cell_type": "code",
   "execution_count": 18,
   "metadata": {},
   "outputs": [
    {
     "data": {
      "text/plain": [
       "'\\\\begin{equation}\\\\\\\\label{planewave}\\\\n\\\\\\\\begin{split}\\\\nds^2 & = 2dx^+dx^--\\\\\\\\m^2\\\\\\\\vec{x}^2\\\\\\\\bigl(dx^+\\\\\\\\bigr)^2+d\\\\\\\\vec{x}^2\\\\\\\\,,\\\\\\\\\\\\\\\\\\\\nF_5 & = 4\\\\\\\\m dx^+\\\\\\\\wedge\\\\\\\\bigl(dx^1\\\\\\\\wedge dx^2\\\\\\\\wedge dx^3\\\\\\\\wedge dx^4+dx^5\\\\\\\\wedge dx^6\\\\\\\\wedge dx^7\\\\\\\\wedge dx^8\\\\\\\\bigr)\\\\\\\\,.\\\\n\\\\\\\\end{split}\\\\n\\\\\\\\end{equation}'"
      ]
     },
     "execution_count": 18,
     "metadata": {},
     "output_type": "execute_result"
    }
   ],
   "source": [
    "reslts[list(reslts.keys())[1]][0]"
   ]
  },
  {
   "cell_type": "markdown",
   "metadata": {},
   "source": [
    "# visualize results"
   ]
  },
  {
   "cell_type": "code",
   "execution_count": 19,
   "metadata": {},
   "outputs": [],
   "source": [
    "number_of_eq_per_file=[]\n",
    "for k,v in reslts.items():\n",
    "    number_of_eq_per_file.append(len(v))"
   ]
  },
  {
   "cell_type": "code",
   "execution_count": 20,
   "metadata": {},
   "outputs": [
    {
     "data": {
      "image/png": "[encoded data removed]",
      "text/plain": [
       "<Figure size 432x288 with 1 Axes>"
      ]
     },
     "metadata": {
      "needs_background": "light"
     },
     "output_type": "display_data"
    }
   ],
   "source": [
    "_=plt.hist(number_of_eq_per_file,bins=100)\n",
    "_=plt.ylabel('number of expressions')\n",
    "_=plt.xlabel('number of documents')"
   ]
  },
  {
   "cell_type": "markdown",
   "metadata": {},
   "source": [
    "### use a log-y scale since there is a lot of variation"
   ]
  },
  {
   "cell_type": "code",
   "execution_count": 21,
   "metadata": {},
   "outputs": [
    {
     "data": {
      "image/png": "[encoded data removed]",
      "text/plain": [
       "<Figure size 432x288 with 1 Axes>"
      ]
     },
     "metadata": {
      "needs_background": "light"
     },
     "output_type": "display_data"
    }
   ],
   "source": [
    "_=plt.hist(number_of_eq_per_file,bins=100)\n",
    "_=plt.yscale('log', nonposy='clip')\n",
    "_=plt.ylabel('number of expressions')\n",
    "_=plt.xlabel('number of documents')"
   ]
  },
  {
   "cell_type": "markdown",
   "metadata": {},
   "source": [
    "# parse the Latex using libraries\n",
    "\n",
    "\n",
    "options: \n",
    "* http://plastex.sourceforge.net/plastex/sect0025.html\n",
    "* tex2py\n",
    "* texsoup"
   ]
  },
  {
   "cell_type": "markdown",
   "metadata": {},
   "source": [
    "## tex2py\n",
    "\n",
    "This seems to work but I didn't go deep into the use"
   ]
  },
  {
   "cell_type": "code",
   "execution_count": 22,
   "metadata": {},
   "outputs": [],
   "source": [
    "# https://github.com/alvinwan/tex2py\n",
    "from tex2py import tex2py"
   ]
  },
  {
   "cell_type": "code",
   "execution_count": 23,
   "metadata": {},
   "outputs": [
    {
     "data": {
      "text/plain": [
       "'2003/0304232'"
      ]
     },
     "execution_count": 23,
     "metadata": {},
     "output_type": "execute_result"
    }
   ],
   "source": [
    "list_of_files[1]"
   ]
  },
  {
   "cell_type": "code",
   "execution_count": 24,
   "metadata": {},
   "outputs": [],
   "source": [
    "with open(list_of_files[1]) as f: data = f.read()\n",
    "toc = tex2py(data)"
   ]
  },
  {
   "cell_type": "code",
   "execution_count": 35,
   "metadata": {},
   "outputs": [
    {
     "data": {
      "text/plain": [
       "('addcontentsline',\n",
       " 'addtocontents',\n",
       " 'addtocounter',\n",
       " 'address',\n",
       " 'addtolength',\n",
       " 'addvspace',\n",
       " 'alph',\n",
       " 'appendix',\n",
       " 'arabic',\n",
       " 'author')"
      ]
     },
     "execution_count": 35,
     "metadata": {},
     "output_type": "execute_result"
    }
   ],
   "source": [
    "toc.valid_tags[0:10]"
   ]
  },
  {
   "cell_type": "markdown",
   "metadata": {},
   "source": [
    "## TexSoup"
   ]
  },
  {
   "cell_type": "code",
   "execution_count": 25,
   "metadata": {},
   "outputs": [],
   "source": [
    "from TexSoup import TexSoup\n",
    "soup = TexSoup(data)"
   ]
  },
  {
   "cell_type": "code",
   "execution_count": 26,
   "metadata": {},
   "outputs": [
    {
     "data": {
      "text/plain": [
       "\\begin{equation}\\label{planewave}\n",
       "\\begin{split}\n",
       "ds^2 & = 2dx^+dx^--\\m^2\\vec{x}^2\\bigl(dx^+\\bigr)^2+d\\vec{x}^2\\,,\\\\\n",
       "F_5 & = 4\\m dx^+\\wedge\\bigl(dx^1\\wedge dx^2\\wedge dx^3\\wedge dx^4+dx^5\\wedge dx^6\\wedge dx^7\\wedge dx^8\\bigr)\\,.\n",
       "\\end{split}\n",
       "\\end{equation}"
      ]
     },
     "execution_count": 26,
     "metadata": {},
     "output_type": "execute_result"
    }
   ],
   "source": [
    "soup.equation"
   ]
  },
  {
   "cell_type": "code",
   "execution_count": 27,
   "metadata": {},
   "outputs": [],
   "source": [
    "lst = list(soup.find_all('equation'))"
   ]
  },
  {
   "cell_type": "code",
   "execution_count": 28,
   "metadata": {},
   "outputs": [
    {
     "data": {
      "text/plain": [
       "79"
      ]
     },
     "execution_count": 28,
     "metadata": {},
     "output_type": "execute_result"
    }
   ],
   "source": [
    "len(lst) # how many equations are in the document?"
   ]
  },
  {
   "cell_type": "code",
   "execution_count": 29,
   "metadata": {},
   "outputs": [
    {
     "data": {
      "text/plain": [
       "\\begin{equation}\\label{planewave}\n",
       "\\begin{split}\n",
       "ds^2 & = 2dx^+dx^--\\m^2\\vec{x}^2\\bigl(dx^+\\bigr)^2+d\\vec{x}^2\\,,\\\\\n",
       "F_5 & = 4\\m dx^+\\wedge\\bigl(dx^1\\wedge dx^2\\wedge dx^3\\wedge dx^4+dx^5\\wedge dx^6\\wedge dx^7\\wedge dx^8\\bigr)\\,.\n",
       "\\end{split}\n",
       "\\end{equation}"
      ]
     },
     "execution_count": 29,
     "metadata": {},
     "output_type": "execute_result"
    }
   ],
   "source": [
    "lst[0] # show the first match"
   ]
  },
  {
   "cell_type": "code",
   "execution_count": 30,
   "metadata": {},
   "outputs": [
    {
     "data": {
      "text/plain": [
       "'\\\\label{planewave}\\n\\\\begin{split}\\nds^2 & = 2dx^+dx^--\\\\m^2\\\\vec{x}^2\\\\bigl(dx^+\\\\bigr)^2+d\\\\vec{x}^2\\\\,,\\\\\\\\\\nF_5 & = 4\\\\m dx^+\\\\wedge\\\\bigl(dx^1\\\\wedge dx^2\\\\wedge dx^3\\\\wedge dx^4+dx^5\\\\wedge dx^6\\\\wedge dx^7\\\\wedge dx^8\\\\bigr)\\\\,.\\n'"
      ]
     },
     "execution_count": 30,
     "metadata": {},
     "output_type": "execute_result"
    }
   ],
   "source": [
    "lst[0][0] # what is the string inside the \"begin{equation}\"?"
   ]
  },
  {
   "cell_type": "code",
   "execution_count": 31,
   "metadata": {},
   "outputs": [
    {
     "data": {
      "text/plain": [
       "\\begin{equation}\n",
       "\\o_n=\\sqrt{n^2+\\bigl(\\m\\a'p^+\\bigr)^2}\\,,\\qquad n\\in\\Nop\\,,\n",
       "\\end{equation}"
      ]
     },
     "execution_count": 31,
     "metadata": {},
     "output_type": "execute_result"
    }
   ],
   "source": [
    "lst[1]"
   ]
  },
  {
   "cell_type": "code",
   "execution_count": 32,
   "metadata": {},
   "outputs": [
    {
     "data": {
      "text/plain": [
       "\"\\n\\\\o_n=\\\\sqrt{n^2+\\\\bigl(\\\\m\\\\a'p^+\\\\bigr)^2}\\\\,,\\\\qquad n\\\\in\\\\Nop\\\\,,\\n\""
      ]
     },
     "execution_count": 32,
     "metadata": {},
     "output_type": "execute_result"
    }
   ],
   "source": [
    "lst[1][0]"
   ]
  },
  {
   "cell_type": "code",
   "execution_count": 37,
   "metadata": {},
   "outputs": [
    {
     "name": "stdout",
     "output_type": "stream",
     "text": [
      "\\label{planewave}\n",
      "\\begin{split}\n",
      "ds^2 & = 2dx^+dx^--\\m^2\\vec{x}^2\\bigl(dx^+\\bigr)^2+d\\vec{x}^2\\,,\\\\\n",
      "F_5 & = 4\\m dx^+\\wedge\\bigl(dx^1\\wedge dx^2\\wedge dx^3\\wedge dx^4+dx^5\\wedge dx^6\\wedge dx^7\\wedge dx^8\\bigr)\\,.\n",
      "\n",
      "\n",
      "\\o_n=\\sqrt{n^2+\\bigl(\\m\\a'p^+\\bigr)^2}\\,,\\qquad n\\in\\Nop\\,,\n",
      "\n",
      "\\label{dict}\n",
      "\\frac{1}{\\m}H = \\D-J\\,,\\qquad \\frac{1}{\\bigl(\\m\\a'p^+\\bigr)^2} = \\frac{g^2_{\\text{YM}}N}{J^2}\\equiv \\l'\\,,\\qquad\n",
      "4\\pi g_{\\text{s}}\\bigl(\\m\\a'p^+\\bigr)^2 = \\frac{J^2}{N}\\equiv g_2\n",
      "\n",
      "\n",
      "N\\to\\infty\\quad\\text{and}\\quad J\\to\\infty\\quad\\text{with}\\quad\\frac{J^2}{N}\\quad\n",
      "\\text{fixed}\\,,\\quad g_{\\text{YM}}\\quad\\text{fixed}\\,,\n",
      "\n",
      "\n",
      "S_{\\mbox{\\scriptsize bos.}(r)}=\\frac{e(\\a_r)}{4\\pi\\a'}\\int\\,d\\t\\int_0^{2\\pi|\\a_r|}\n",
      "\\,d\\s_r\\bigl[\\dot{x}_r^2-x^{\\prime\\,2}_r-\\m^2x_r^2\\bigr]\\,,\n",
      "\n",
      "\n",
      "\\begin{split}\n",
      "x_r^I(\\s_r)& = x_{0(r)}^I+\\sqrt{2}\\sum_{n=1}^{\\infty}\n",
      "\\bigl(x_{n(r)}^I\\cos\\frac{n\\s_r}{|\\a_r|}+x_{-n(r)}^I\\sin\\frac{n\\s_r}{|\\a_r|}\\bigr)\\,,\\\\\n",
      "p_r^I(\\s_r) & =\\frac{1}{2\\pi|\\a_r|}\\bigl[p_{0(r)}^I+\\sqrt{2}\\sum_{n=1}^{\\infty}\n",
      "\\bigl(p_{n(r)}^I\\cos\\frac{n\\s_r}{|\\a_r|}+p_{-n(r)}^I\\sin\\frac{n\\s_r}{|\\a_r|}\\bigr)\\bigr]\\,.\n",
      "\n",
      "\\label{xp}\n",
      "x_{n(r)}^I=i\\sqrt{\\frac{\\a'}{2\\o_{n(r)}}}\\bigl(a_{n(r)}^I-a_{n(r)}^{I\\,\\dag}\\bigr)\\,,\\qquad\n",
      "p_{n(r)}^I=\\sqrt{\\frac{\\o_{n(r)}}{2\\a'}}\\bigl(a_{n(r)}^I+a_{n(r)}^{I\\,\\dag}\\bigr)\\,.\n",
      "\n",
      "=i\\d^{IJ}\\d_{rs}\\d(\\s_r-\\s_s)\\qquad\\lr\\qquad [a_{n(r)}^I,a_{m(s)}^{J\\,\\dag}]=\\d^{IJ}\\d_{nm}\\d_{rs}\\,.\n",
      "\n",
      "\n",
      "S_{\\mbox{\\scriptsize ferm.}(r)}=\\frac{1}{8\\pi}\\int\\,d\\t\\int_0^{2\\pi|\\a_r|}\\,d\\s_r\n",
      "[i(\\bar{\\vt}_r\\dot{\\vt}_r+\\vt_r\\dot{\\bar{\\vt}}_r)\n",
      "-\\vt_r\\vt'_r+\\bar{\\vt}_r\\bar{\\vt}'_r-2\\m\\bar{\\vt}_r\\Pi\\vt_r]\\,,\n",
      "\n",
      "\n",
      "\\begin{split}\n",
      "\\vt^a_r(\\s_r) & =\\vt^a_{0(r)}+\\sqrt{2}\\sum_{n=1}^{\\infty}\n",
      "\\bigl(\\vt^a_{n(r)}\\cos\\frac{n\\s_r}{|\\a_r|}+\\vt^a_{-n(r)}\\sin\\frac{n\\s_r}{|\\a_r|}\\bigr)\\,,\\\\\n",
      "\\l^a_r(\\s_r) & =\\frac{1}{2\\pi|\\a_r|}\\bigl[\\l^a_{0(r)}+\\sqrt{2}\\sum_{n=1}^{\\infty}\n",
      "\\bigl(\\l^a_{n(r)}\\cos\\frac{n\\s_r}{|\\a_r|}+\\l^a_{-n(r)}\\sin\\frac{n\\s_r}{|\\a_r|}\\bigr)\\bigr]\\,.\n",
      "\n"
     ]
    }
   ],
   "source": [
    "for this_eq in list(soup.find_all('equation'))[0:10]: # convert generator to list so we can limit returns to the first 10\n",
    "    print(this_eq[0])"
   ]
  },
  {
   "cell_type": "code",
   "execution_count": null,
   "metadata": {},
   "outputs": [],
   "source": []
  }
 ],
 "metadata": {
  "kernelspec": {
   "display_name": "Python 3",
   "language": "python",
   "name": "python3"
  },
  "language_info": {
   "codemirror_mode": {
    "name": "ipython",
    "version": 3
   },
   "file_extension": ".py",
   "mimetype": "text/x-python",
   "name": "python",
   "nbconvert_exporter": "python",
   "pygments_lexer": "ipython3",
   "version": "3.6.6"
  }
 },
 "nbformat": 4,
 "nbformat_minor": 2
}
