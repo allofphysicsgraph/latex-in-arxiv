{
 "cells": [
  {
   "cell_type": "code",
   "execution_count": null,
   "metadata": {},
   "outputs": [],
   "source": []
  },
  {
   "cell_type": "markdown",
   "metadata": {},
   "source": [
    "https://physicsderivationgraph.blogspot.com/2020/05/characterizing-latex-content-in.html"
   ]
  },
  {
   "cell_type": "markdown",
   "metadata": {},
   "source": [
    "There are a couple methods for extracting text from .tex files\n",
    "* pandoc\n",
    "* detex (e.g., http://www.gilles-bertrand.com/2012/11/a-simple-detex-function-in-python.html )"
   ]
  },
  {
   "cell_type": "markdown",
   "metadata": {},
   "source": [
    "# load libraries"
   ]
  },
  {
   "cell_type": "code",
   "execution_count": 1,
   "metadata": {},
   "outputs": [
    {
     "name": "stdout",
     "output_type": "stream",
     "text": [
      "Requirement already satisfied: nltk in /opt/conda/lib/python3.6/site-packages (3.5)\n",
      "Requirement already satisfied: tqdm in /opt/conda/lib/python3.6/site-packages (from nltk) (4.46.1)\n",
      "Requirement already satisfied: joblib in /opt/conda/lib/python3.6/site-packages (from nltk) (0.15.1)\n",
      "Requirement already satisfied: click in /opt/conda/lib/python3.6/site-packages (from nltk) (7.1.2)\n",
      "Requirement already satisfied: regex in /opt/conda/lib/python3.6/site-packages (from nltk) (2020.6.7)\n"
     ]
    }
   ],
   "source": [
    "!pip install nltk"
   ]
  },
  {
   "cell_type": "code",
   "execution_count": 2,
   "metadata": {},
   "outputs": [
    {
     "name": "stdout",
     "output_type": "stream",
     "text": [
      "Requirement already satisfied: pypandoc in /opt/conda/lib/python3.6/site-packages (1.5)\n",
      "Requirement already satisfied: pip>=8.1.0 in /opt/conda/lib/python3.6/site-packages (from pypandoc) (18.1)\n",
      "Requirement already satisfied: setuptools in /opt/conda/lib/python3.6/site-packages (from pypandoc) (40.6.2)\n",
      "Requirement already satisfied: wheel>=0.25.0 in /opt/conda/lib/python3.6/site-packages (from pypandoc) (0.32.3)\n"
     ]
    }
   ],
   "source": [
    "# https://pypi.org/project/pandoc/\n",
    "#!pip install pandoc\n",
    "# https://pypi.org/project/pyandoc/\n",
    "# https://pypi.org/project/pypandoc/\n",
    "!pip install pypandoc"
   ]
  },
  {
   "cell_type": "code",
   "execution_count": 3,
   "metadata": {},
   "outputs": [
    {
     "name": "stdout",
     "output_type": "stream",
     "text": [
      "3.6.6 | packaged by conda-forge | (default, Oct 12 2018, 14:08:43) \n",
      "[GCC 4.8.2 20140120 (Red Hat 4.8.2-15)]\n"
     ]
    }
   ],
   "source": [
    "import re\n",
    "import sys\n",
    "print(sys.version)\n",
    "import time\n",
    "import glob\n",
    "import matplotlib.pyplot as plt\n",
    "\n",
    "import nltk\n",
    "from nltk.tokenize import word_tokenize\n",
    "\n",
    "import pypandoc # https://pypi.org/project/pypandoc/\n",
    "\n",
    "# the following fails with error message \n",
    "# FileNotFoundError: [Errno 2] No such file or directory: '/opt/conda/lib/python3.6/site-packages/pandoc/definitions/1.16.hs'\n",
    "# import pandoc # https://pypi.org/project/pandoc/"
   ]
  },
  {
   "cell_type": "code",
   "execution_count": 4,
   "metadata": {},
   "outputs": [
    {
     "name": "stderr",
     "output_type": "stream",
     "text": [
      "[nltk_data] Downloading package punkt to /home/jovyan/nltk_data...\n",
      "[nltk_data]   Package punkt is already up-to-date!\n"
     ]
    },
    {
     "data": {
      "text/plain": [
       "True"
      ]
     },
     "execution_count": 4,
     "metadata": {},
     "output_type": "execute_result"
    }
   ],
   "source": [
    "nltk.download('punkt') # needed for tokenization"
   ]
  },
  {
   "cell_type": "markdown",
   "metadata": {},
   "source": [
    "# download data\n",
    "\n",
    "https://www.cs.cornell.edu/projects/kddcup/datasets.html"
   ]
  },
  {
   "cell_type": "raw",
   "metadata": {},
   "source": [
    "!wget https://www.cs.cornell.edu/projects/kddcup/download/hep-th-2003.tar.gz"
   ]
  },
  {
   "cell_type": "raw",
   "metadata": {},
   "source": [
    "!tar xzvf hep-th-2003.tar.gz"
   ]
  },
  {
   "cell_type": "code",
   "execution_count": 5,
   "metadata": {},
   "outputs": [
    {
     "name": "stdout",
     "output_type": "stream",
     "text": [
      "1022\n"
     ]
    }
   ],
   "source": [
    "!ls -hal 2003/ | wc -l"
   ]
  },
  {
   "cell_type": "markdown",
   "metadata": {},
   "source": [
    "# load data"
   ]
  },
  {
   "cell_type": "code",
   "execution_count": 6,
   "metadata": {},
   "outputs": [],
   "source": [
    "list_of_files = glob.glob('2003/*')"
   ]
  },
  {
   "cell_type": "code",
   "execution_count": 7,
   "metadata": {},
   "outputs": [
    {
     "data": {
      "text/plain": [
       "1019"
      ]
     },
     "execution_count": 7,
     "metadata": {},
     "output_type": "execute_result"
    }
   ],
   "source": [
    "# how many files are in the corpus?\n",
    "len(list_of_files)"
   ]
  },
  {
   "cell_type": "code",
   "execution_count": 8,
   "metadata": {},
   "outputs": [],
   "source": [
    "# load data from the first file\n",
    "with open(list_of_files[0], 'r') as f:\n",
    "    data = f.read()"
   ]
  },
  {
   "cell_type": "markdown",
   "metadata": {},
   "source": [
    "# pandoc for tex to text\n",
    "\n",
    "pandoc extracts the text from .tex\n",
    "\n",
    "_Caveat_: the extracted content includes math expressions"
   ]
  },
  {
   "cell_type": "code",
   "execution_count": 9,
   "metadata": {},
   "outputs": [],
   "source": [
    "output = pypandoc.convert_file(list_of_files[0], 'plain', format='tex')"
   ]
  },
  {
   "cell_type": "code",
   "execution_count": 17,
   "metadata": {},
   "outputs": [
    {
     "data": {
      "text/plain": [
       "b'footnotefootnote\\n\\n\\n\\nINTRODUCTION\\n\\n\\nBrane worlds theories with large or infinite extra dimensions recently\\nprovided insight to a number of problems of high energy physics and\\npossible relations between them. Those models can emerge as a part of\\nthe fundamental higher dimensional theory described in terms of strings.\\nEven if extra dimensions are not realized in nature, they are valuable\\ntesting ground for new ideas in particle physics and gravity.\\n\\nFor some time, it was believed that the extra dimensions can exist only\\nif they are compact or have a finite volume. The problem with the\\ninfinite volume extra dimensions was how to obtain a four dimensional\\nforce of gravity between objects located at the brane. In work , it was\\nshown that the four dimensional Newtons force arises on the brane due\\nto an induced kinetic term. The model of Dvali, Gabadadze and Porrati is\\ndescribed by the action\\n\\n$$\\\\label{DGP}\\nS=M_{*}^3\\\\int d^{4}xdy\\\\sqrt{|G|}{\\\\cal R}_{5}+M_{P}^2\\\\int d^{4}x dy\\\\delta(y)\\\\sqrt{|g|}R_{4}.$$\\n Here y is the coordinate of an extra dimension, ${\\\\cal R}_{5}$ is 5D\\ncurvature, G_(MN) 5D metric, R is 4D curvature constructed from metric\\ninduced on the brane g_()G_(MN)(y=0)_()^(M)_()^(N), '"
      ]
     },
     "execution_count": 17,
     "metadata": {},
     "output_type": "execute_result"
    }
   ],
   "source": [
    "asciidata=output.encode(\"ascii\",\"ignore\")\n",
    "asciidata[0:1200]"
   ]
  },
  {
   "cell_type": "code",
   "execution_count": 18,
   "metadata": {},
   "outputs": [
    {
     "data": {
      "text/plain": [
       "['footnotefootnote',\n",
       " 'INTRODUCTION',\n",
       " 'Brane',\n",
       " 'worlds',\n",
       " 'theories',\n",
       " 'with',\n",
       " 'large',\n",
       " 'or',\n",
       " 'infinite',\n",
       " 'extra',\n",
       " 'dimensions',\n",
       " 'recently',\n",
       " 'provided',\n",
       " 'insight',\n",
       " 'to',\n",
       " 'a',\n",
       " 'number',\n",
       " 'of',\n",
       " 'problems',\n",
       " 'of',\n",
       " 'high',\n",
       " 'energy',\n",
       " 'physics',\n",
       " 'and',\n",
       " 'possible',\n",
       " 'relations',\n",
       " 'between',\n",
       " 'them',\n",
       " '.',\n",
       " 'Those',\n",
       " 'models',\n",
       " 'can',\n",
       " 'emerge',\n",
       " 'as',\n",
       " 'a',\n",
       " 'part',\n",
       " 'of',\n",
       " 'the',\n",
       " 'fundamental',\n",
       " 'higher',\n",
       " 'dimensional',\n",
       " 'theory',\n",
       " 'described',\n",
       " 'in',\n",
       " 'terms',\n",
       " 'of',\n",
       " 'strings',\n",
       " '.',\n",
       " 'Even',\n",
       " 'if',\n",
       " 'extra',\n",
       " 'dimensions',\n",
       " 'are',\n",
       " 'not',\n",
       " 'realized',\n",
       " 'in',\n",
       " 'nature',\n",
       " ',',\n",
       " 'they',\n",
       " 'are',\n",
       " 'valuable',\n",
       " 'testing',\n",
       " 'ground',\n",
       " 'for',\n",
       " 'new',\n",
       " 'ideas',\n",
       " 'in',\n",
       " 'particle',\n",
       " 'physics',\n",
       " 'and',\n",
       " 'gravity',\n",
       " '.',\n",
       " 'For',\n",
       " 'some',\n",
       " 'time',\n",
       " ',',\n",
       " 'it',\n",
       " 'was',\n",
       " 'believed',\n",
       " 'that',\n",
       " 'the',\n",
       " 'extra',\n",
       " 'dimensions',\n",
       " 'can',\n",
       " 'exist',\n",
       " 'only',\n",
       " 'if',\n",
       " 'they',\n",
       " 'are',\n",
       " 'compact',\n",
       " 'or',\n",
       " 'have',\n",
       " 'a',\n",
       " 'finite',\n",
       " 'volume',\n",
       " '.',\n",
       " 'The',\n",
       " 'problem',\n",
       " 'with',\n",
       " 'the',\n",
       " 'infinite',\n",
       " 'volume',\n",
       " 'extra',\n",
       " 'dimensions',\n",
       " 'was',\n",
       " 'how',\n",
       " 'to',\n",
       " 'obtain',\n",
       " 'a',\n",
       " 'four',\n",
       " 'dimensional',\n",
       " 'force',\n",
       " 'of',\n",
       " 'gravity',\n",
       " 'between',\n",
       " 'objects',\n",
       " 'located',\n",
       " 'at',\n",
       " 'the',\n",
       " 'brane',\n",
       " '.',\n",
       " 'In',\n",
       " 'work',\n",
       " ',',\n",
       " 'it',\n",
       " 'was',\n",
       " 'shown',\n",
       " 'that',\n",
       " 'the',\n",
       " 'four',\n",
       " 'dimensional',\n",
       " 'Newtons',\n",
       " 'force',\n",
       " 'arises',\n",
       " 'on',\n",
       " 'the',\n",
       " 'brane',\n",
       " 'due',\n",
       " 'to',\n",
       " 'an',\n",
       " 'induced',\n",
       " 'kinetic',\n",
       " 'term',\n",
       " '.',\n",
       " 'The',\n",
       " 'model',\n",
       " 'of',\n",
       " 'Dvali',\n",
       " ',',\n",
       " 'Gabadadze',\n",
       " 'and',\n",
       " 'Porrati',\n",
       " 'is',\n",
       " 'described',\n",
       " 'by',\n",
       " 'the',\n",
       " 'action',\n",
       " '$',\n",
       " '$',\n",
       " '\\\\label',\n",
       " '{',\n",
       " 'DGP',\n",
       " '}',\n",
       " 'S=M_',\n",
       " '{',\n",
       " '*',\n",
       " '}',\n",
       " '^3\\\\int',\n",
       " 'd^',\n",
       " '{',\n",
       " '4',\n",
       " '}',\n",
       " 'xdy\\\\sqrt',\n",
       " '{',\n",
       " '|G|',\n",
       " '}',\n",
       " '{',\n",
       " '\\\\cal',\n",
       " 'R',\n",
       " '}',\n",
       " '_',\n",
       " '{',\n",
       " '5',\n",
       " '}',\n",
       " '+M_',\n",
       " '{',\n",
       " 'P',\n",
       " '}',\n",
       " '^2\\\\int',\n",
       " 'd^',\n",
       " '{',\n",
       " '4',\n",
       " '}',\n",
       " 'x',\n",
       " 'dy\\\\delta',\n",
       " '(',\n",
       " 'y',\n",
       " ')',\n",
       " '\\\\sqrt',\n",
       " '{']"
      ]
     },
     "execution_count": 18,
     "metadata": {},
     "output_type": "execute_result"
    }
   ],
   "source": [
    "tokens = nltk.word_tokenize(asciidata.decode(\"ascii\") )\n",
    "tokens[0:200]"
   ]
  },
  {
   "cell_type": "code",
   "execution_count": null,
   "metadata": {},
   "outputs": [],
   "source": []
  }
 ],
 "metadata": {
  "kernelspec": {
   "display_name": "Python 3",
   "language": "python",
   "name": "python3"
  },
  "language_info": {
   "codemirror_mode": {
    "name": "ipython",
    "version": 3
   },
   "file_extension": ".py",
   "mimetype": "text/x-python",
   "name": "python",
   "nbconvert_exporter": "python",
   "pygments_lexer": "ipython3",
   "version": "3.6.6"
  }
 },
 "nbformat": 4,
 "nbformat_minor": 2
}
