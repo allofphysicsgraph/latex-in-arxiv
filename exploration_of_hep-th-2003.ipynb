{
 "cells": [
  {
   "cell_type": "markdown",
   "metadata": {},
   "source": [
    "https://physicsderivationgraph.blogspot.com/2020/05/characterizing-latex-content-in.html\n",
    "\n",
    "In this notebook methods for extracting math expressions are explored:\n",
    "* regex\n",
    "* TexSoup\n",
    "\n",
    "_Results_: \n",
    "* TexSoup is very slow (because it creates a complex data structure per document) and therefore isn't suitable for bulk processing. Therefore regex is preferrable\n",
    "* TexSoup errors on invalid LaTeX and halts processing\n",
    "\n",
    "Also investigated tex2py but that doesn't seem to be relevant for the tasks"
   ]
  },
  {
   "cell_type": "markdown",
   "metadata": {},
   "source": [
    "# load libraries"
   ]
  },
  {
   "cell_type": "code",
   "execution_count": 1,
   "metadata": {},
   "outputs": [
    {
     "name": "stdout",
     "output_type": "stream",
     "text": [
      "Requirement already satisfied: tex2py in /opt/conda/lib/python3.6/site-packages (0.0.5)\n",
      "Requirement already satisfied: coverage==3.7.1 in /opt/conda/lib/python3.6/site-packages (from tex2py) (3.7.1)\n",
      "Requirement already satisfied: pptree==2.0 in /opt/conda/lib/python3.6/site-packages (from tex2py) (2.0)\n",
      "Requirement already satisfied: TexSoup==0.1.4 in /opt/conda/lib/python3.6/site-packages (from tex2py) (0.1.4)\n",
      "Requirement already satisfied: pytest-cov==2.5.1 in /opt/conda/lib/python3.6/site-packages (from tex2py) (2.5.1)\n",
      "Requirement already satisfied: coveralls==1.1 in /opt/conda/lib/python3.6/site-packages (from tex2py) (1.1)\n",
      "Requirement already satisfied: pytest in /opt/conda/lib/python3.6/site-packages (from tex2py) (5.4.3)\n",
      "Requirement already satisfied: docopt>=0.6.1 in /opt/conda/lib/python3.6/site-packages (from coveralls==1.1->tex2py) (0.6.2)\n",
      "Requirement already satisfied: requests>=1.0.0 in /opt/conda/lib/python3.6/site-packages (from coveralls==1.1->tex2py) (2.20.1)\n",
      "Requirement already satisfied: packaging in /opt/conda/lib/python3.6/site-packages (from pytest->tex2py) (18.0)\n",
      "Requirement already satisfied: attrs>=17.4.0 in /opt/conda/lib/python3.6/site-packages (from pytest->tex2py) (18.2.0)\n",
      "Requirement already satisfied: importlib-metadata>=0.12; python_version < \"3.8\" in /opt/conda/lib/python3.6/site-packages (from pytest->tex2py) (1.6.1)\n",
      "Requirement already satisfied: wcwidth in /opt/conda/lib/python3.6/site-packages (from pytest->tex2py) (0.1.7)\n",
      "Requirement already satisfied: more-itertools>=4.0.0 in /opt/conda/lib/python3.6/site-packages (from pytest->tex2py) (8.3.0)\n",
      "Requirement already satisfied: pluggy<1.0,>=0.12 in /opt/conda/lib/python3.6/site-packages (from pytest->tex2py) (0.13.1)\n",
      "Requirement already satisfied: py>=1.5.0 in /opt/conda/lib/python3.6/site-packages (from pytest->tex2py) (1.8.1)\n",
      "Requirement already satisfied: certifi>=2017.4.17 in /opt/conda/lib/python3.6/site-packages (from requests>=1.0.0->coveralls==1.1->tex2py) (2018.11.29)\n",
      "Requirement already satisfied: idna<2.8,>=2.5 in /opt/conda/lib/python3.6/site-packages (from requests>=1.0.0->coveralls==1.1->tex2py) (2.7)\n",
      "Requirement already satisfied: chardet<3.1.0,>=3.0.2 in /opt/conda/lib/python3.6/site-packages (from requests>=1.0.0->coveralls==1.1->tex2py) (3.0.4)\n",
      "Requirement already satisfied: urllib3<1.25,>=1.21.1 in /opt/conda/lib/python3.6/site-packages (from requests>=1.0.0->coveralls==1.1->tex2py) (1.23)\n",
      "Requirement already satisfied: pyparsing>=2.0.2 in /opt/conda/lib/python3.6/site-packages (from packaging->pytest->tex2py) (2.3.0)\n",
      "Requirement already satisfied: six in /opt/conda/lib/python3.6/site-packages (from packaging->pytest->tex2py) (1.11.0)\n",
      "Requirement already satisfied: zipp>=0.5 in /opt/conda/lib/python3.6/site-packages (from importlib-metadata>=0.12; python_version < \"3.8\"->pytest->tex2py) (3.1.0)\n"
     ]
    }
   ],
   "source": [
    "# https://github.com/alvinwan/tex2py\n",
    "!pip install tex2py"
   ]
  },
  {
   "cell_type": "code",
   "execution_count": 2,
   "metadata": {},
   "outputs": [
    {
     "name": "stdout",
     "output_type": "stream",
     "text": [
      "Requirement already satisfied: texsoup in /opt/conda/lib/python3.6/site-packages (0.1.4)\n",
      "Requirement already satisfied: pytest in /opt/conda/lib/python3.6/site-packages (from texsoup) (5.4.3)\n",
      "Requirement already satisfied: coverage==3.7.1 in /opt/conda/lib/python3.6/site-packages (from texsoup) (3.7.1)\n",
      "Requirement already satisfied: pytest-cov==2.5.1 in /opt/conda/lib/python3.6/site-packages (from texsoup) (2.5.1)\n",
      "Requirement already satisfied: coveralls==1.1 in /opt/conda/lib/python3.6/site-packages (from texsoup) (1.1)\n",
      "Requirement already satisfied: attrs>=17.4.0 in /opt/conda/lib/python3.6/site-packages (from pytest->texsoup) (18.2.0)\n",
      "Requirement already satisfied: wcwidth in /opt/conda/lib/python3.6/site-packages (from pytest->texsoup) (0.1.7)\n",
      "Requirement already satisfied: pluggy<1.0,>=0.12 in /opt/conda/lib/python3.6/site-packages (from pytest->texsoup) (0.13.1)\n",
      "Requirement already satisfied: py>=1.5.0 in /opt/conda/lib/python3.6/site-packages (from pytest->texsoup) (1.8.1)\n",
      "Requirement already satisfied: importlib-metadata>=0.12; python_version < \"3.8\" in /opt/conda/lib/python3.6/site-packages (from pytest->texsoup) (1.6.1)\n",
      "Requirement already satisfied: packaging in /opt/conda/lib/python3.6/site-packages (from pytest->texsoup) (18.0)\n",
      "Requirement already satisfied: more-itertools>=4.0.0 in /opt/conda/lib/python3.6/site-packages (from pytest->texsoup) (8.3.0)\n",
      "Requirement already satisfied: requests>=1.0.0 in /opt/conda/lib/python3.6/site-packages (from coveralls==1.1->texsoup) (2.20.1)\n",
      "Requirement already satisfied: docopt>=0.6.1 in /opt/conda/lib/python3.6/site-packages (from coveralls==1.1->texsoup) (0.6.2)\n",
      "Requirement already satisfied: zipp>=0.5 in /opt/conda/lib/python3.6/site-packages (from importlib-metadata>=0.12; python_version < \"3.8\"->pytest->texsoup) (3.1.0)\n",
      "Requirement already satisfied: six in /opt/conda/lib/python3.6/site-packages (from packaging->pytest->texsoup) (1.11.0)\n",
      "Requirement already satisfied: pyparsing>=2.0.2 in /opt/conda/lib/python3.6/site-packages (from packaging->pytest->texsoup) (2.3.0)\n",
      "Requirement already satisfied: chardet<3.1.0,>=3.0.2 in /opt/conda/lib/python3.6/site-packages (from requests>=1.0.0->coveralls==1.1->texsoup) (3.0.4)\n",
      "Requirement already satisfied: urllib3<1.25,>=1.21.1 in /opt/conda/lib/python3.6/site-packages (from requests>=1.0.0->coveralls==1.1->texsoup) (1.23)\n",
      "Requirement already satisfied: idna<2.8,>=2.5 in /opt/conda/lib/python3.6/site-packages (from requests>=1.0.0->coveralls==1.1->texsoup) (2.7)\n",
      "Requirement already satisfied: certifi>=2017.4.17 in /opt/conda/lib/python3.6/site-packages (from requests>=1.0.0->coveralls==1.1->texsoup) (2018.11.29)\n"
     ]
    }
   ],
   "source": [
    "# https://github.com/alvinwan/TexSoup\n",
    "!pip install texsoup"
   ]
  },
  {
   "cell_type": "code",
   "execution_count": 3,
   "metadata": {},
   "outputs": [
    {
     "name": "stdout",
     "output_type": "stream",
     "text": [
      "3.6.6 | packaged by conda-forge | (default, Oct 12 2018, 14:08:43) \n",
      "[GCC 4.8.2 20140120 (Red Hat 4.8.2-15)]\n"
     ]
    }
   ],
   "source": [
    "import re\n",
    "import sys\n",
    "print(sys.version)\n",
    "import time\n",
    "import glob\n",
    "import matplotlib.pyplot as plt"
   ]
  },
  {
   "cell_type": "markdown",
   "metadata": {},
   "source": [
    "# download data"
   ]
  },
  {
   "cell_type": "markdown",
   "metadata": {},
   "source": [
    "https://www.cs.cornell.edu/projects/kddcup/datasets.html"
   ]
  },
  {
   "cell_type": "raw",
   "metadata": {},
   "source": [
    "!wget https://www.cs.cornell.edu/projects/kddcup/download/hep-th-2003.tar.gz"
   ]
  },
  {
   "cell_type": "code",
   "execution_count": 4,
   "metadata": {},
   "outputs": [],
   "source": [
    "#!tar xzvf hep-th-2003.tar.gz"
   ]
  },
  {
   "cell_type": "code",
   "execution_count": 5,
   "metadata": {},
   "outputs": [
    {
     "name": "stdout",
     "output_type": "stream",
     "text": [
      "1022\n"
     ]
    }
   ],
   "source": [
    "!ls -hal 2003/ | wc -l"
   ]
  },
  {
   "cell_type": "markdown",
   "metadata": {},
   "source": [
    "# load data"
   ]
  },
  {
   "cell_type": "code",
   "execution_count": 6,
   "metadata": {},
   "outputs": [],
   "source": [
    "list_of_files = glob.glob('2003/*')"
   ]
  },
  {
   "cell_type": "code",
   "execution_count": 7,
   "metadata": {},
   "outputs": [
    {
     "data": {
      "text/plain": [
       "1019"
      ]
     },
     "execution_count": 7,
     "metadata": {},
     "output_type": "execute_result"
    }
   ],
   "source": [
    "# how many files are in the corpus?\n",
    "len(list_of_files)"
   ]
  },
  {
   "cell_type": "code",
   "execution_count": 8,
   "metadata": {},
   "outputs": [
    {
     "data": {
      "text/plain": [
       "'2003/0301116'"
      ]
     },
     "execution_count": 8,
     "metadata": {},
     "output_type": "execute_result"
    }
   ],
   "source": [
    "# what's the first file name?\n",
    "list_of_files[0]"
   ]
  },
  {
   "cell_type": "code",
   "execution_count": 9,
   "metadata": {},
   "outputs": [],
   "source": [
    "# load data from the first file\n",
    "with open(list_of_files[0], 'r') as f:\n",
    "    data = f.read()"
   ]
  },
  {
   "cell_type": "code",
   "execution_count": 10,
   "metadata": {},
   "outputs": [
    {
     "data": {
      "text/plain": [
       "'\\n\\n%******************LATEX FILE OF THE PAPER***********************\\n%\\n%\\n\\n%%%%%%%%%%%%%%%%%%%%%%%%%%%'"
      ]
     },
     "execution_count": 10,
     "metadata": {},
     "output_type": "execute_result"
    }
   ],
   "source": [
    "# quick preview of file content\n",
    "data[0:100]"
   ]
  },
  {
   "cell_type": "markdown",
   "metadata": {},
   "source": [
    "# method 1: find relevant tags in latex using regex\n",
    "\n",
    "this section relies on regex instead of using a library"
   ]
  },
  {
   "cell_type": "code",
   "execution_count": 11,
   "metadata": {},
   "outputs": [
    {
     "name": "stdout",
     "output_type": "stream",
     "text": [
      "6.79 seconds\n"
     ]
    }
   ],
   "source": [
    "start_time=time.time()\n",
    "regex_reslts={}\n",
    "number_of_eq=0\n",
    "for this_file in list_of_files:\n",
    "    with open(this_file,'rb') as f:\n",
    "        data = f.read()\n",
    "    \n",
    "    resp = re.findall('\\\\\\\\begin{(?:eqnarray|equation|multiline)}.*?end{(?:eqnarray|equation|multiline)}',str(data),re.DOTALL)\n",
    "#    print(this_file)\n",
    "    for eq in resp:\n",
    "        number_of_eq+=1\n",
    "        try:\n",
    "            regex_reslts[this_file].append(eq)\n",
    "        except KeyError:\n",
    "            regex_reslts[this_file]=[]\n",
    "            regex_reslts[this_file].append(eq)\n",
    "#        print('  ',eq,'\\n')\n",
    "\n",
    "print(round(time.time()-start_time,2),'seconds')"
   ]
  },
  {
   "cell_type": "code",
   "execution_count": 12,
   "metadata": {},
   "outputs": [
    {
     "data": {
      "text/plain": [
       "29481"
      ]
     },
     "execution_count": 12,
     "metadata": {},
     "output_type": "execute_result"
    }
   ],
   "source": [
    "# number of matching candidates in .tex files\n",
    "number_of_eq"
   ]
  },
  {
   "cell_type": "code",
   "execution_count": 13,
   "metadata": {},
   "outputs": [
    {
     "data": {
      "text/plain": [
       "929"
      ]
     },
     "execution_count": 13,
     "metadata": {},
     "output_type": "execute_result"
    }
   ],
   "source": [
    "# number of files containing candidates\n",
    "len(regex_reslts.keys())"
   ]
  },
  {
   "cell_type": "code",
   "execution_count": 14,
   "metadata": {},
   "outputs": [
    {
     "data": {
      "text/plain": [
       "['\\\\begin{equation}}\\\\n\\\\\\\\newcommand{\\\\\\\\eeq}{\\\\\\\\end{equation}',\n",
       " '\\\\begin{eqnarray}}\\\\n\\\\\\\\newcommand{\\\\\\\\eeqa}{\\\\\\\\end{eqnarray}']"
      ]
     },
     "execution_count": 14,
     "metadata": {},
     "output_type": "execute_result"
    }
   ],
   "source": [
    "# first file results\n",
    "regex_reslts[list(regex_reslts.keys())[0]]"
   ]
  },
  {
   "cell_type": "code",
   "execution_count": 15,
   "metadata": {},
   "outputs": [
    {
     "data": {
      "text/plain": [
       "'\\\\begin{equation}\\\\\\\\label{planewave}\\\\n\\\\\\\\begin{split}\\\\nds^2 & = 2dx^+dx^--\\\\\\\\m^2\\\\\\\\vec{x}^2\\\\\\\\bigl(dx^+\\\\\\\\bigr)^2+d\\\\\\\\vec{x}^2\\\\\\\\,,\\\\\\\\\\\\\\\\\\\\nF_5 & = 4\\\\\\\\m dx^+\\\\\\\\wedge\\\\\\\\bigl(dx^1\\\\\\\\wedge dx^2\\\\\\\\wedge dx^3\\\\\\\\wedge dx^4+dx^5\\\\\\\\wedge dx^6\\\\\\\\wedge dx^7\\\\\\\\wedge dx^8\\\\\\\\bigr)\\\\\\\\,.\\\\n\\\\\\\\end{split}\\\\n\\\\\\\\end{equation}'"
      ]
     },
     "execution_count": 15,
     "metadata": {},
     "output_type": "execute_result"
    }
   ],
   "source": [
    "# first expression in the second file results\n",
    "regex_reslts[list(regex_reslts.keys())[1]][0]"
   ]
  },
  {
   "cell_type": "markdown",
   "metadata": {},
   "source": [
    "# visualize results"
   ]
  },
  {
   "cell_type": "code",
   "execution_count": 16,
   "metadata": {},
   "outputs": [],
   "source": [
    "number_of_eq_per_file=[]\n",
    "for k,v in regex_reslts.items():\n",
    "    number_of_eq_per_file.append(len(v))"
   ]
  },
  {
   "cell_type": "code",
   "execution_count": 17,
   "metadata": {},
   "outputs": [
    {
     "data": {
      "image/png": "[encoded data removed]",
      "text/plain": [
       "<Figure size 432x288 with 1 Axes>"
      ]
     },
     "metadata": {
      "needs_background": "light"
     },
     "output_type": "display_data"
    }
   ],
   "source": [
    "_=plt.hist(number_of_eq_per_file,bins=100)\n",
    "_=plt.ylabel('number of expressions')\n",
    "_=plt.xlabel('number of documents')"
   ]
  },
  {
   "cell_type": "markdown",
   "metadata": {},
   "source": [
    "### use a log-y scale since there is a lot of variation"
   ]
  },
  {
   "cell_type": "code",
   "execution_count": 18,
   "metadata": {},
   "outputs": [
    {
     "data": {
      "image/png": "[encoded data removed]",
      "text/plain": [
       "<Figure size 432x288 with 1 Axes>"
      ]
     },
     "metadata": {
      "needs_background": "light"
     },
     "output_type": "display_data"
    }
   ],
   "source": [
    "_=plt.hist(number_of_eq_per_file,bins=100)\n",
    "_=plt.yscale('log', nonposy='clip')\n",
    "_=plt.ylabel('number of expressions')\n",
    "_=plt.xlabel('number of documents')"
   ]
  },
  {
   "cell_type": "markdown",
   "metadata": {},
   "source": [
    "# parse the Latex using libraries\n",
    "\n",
    "\n",
    "options: \n",
    "* http://plastex.sourceforge.net/plastex/sect0025.html\n",
    "* tex2py - https://github.com/alvinwan/tex2py\n",
    "* texsoup - https://texsoup.alvinwan.com/docs/quickstart.html; https://github.com/alvinwan/TexSoup"
   ]
  },
  {
   "cell_type": "markdown",
   "metadata": {},
   "source": [
    "## tex2py\n",
    "\n",
    "https://github.com/alvinwan/tex2py - \"converts LaTeX into a Python parse tree, allowing navigation using the default or a custom hierarchy\"<BR>\n",
    "Built on top of TexSoup\n",
    "\n",
    "BHP: I am unable to extract math or text using this library. tex2py seems to be intended for document hierarchy"
   ]
  },
  {
   "cell_type": "code",
   "execution_count": 19,
   "metadata": {},
   "outputs": [],
   "source": [
    "# https://github.com/alvinwan/tex2py\n",
    "from tex2py import tex2py"
   ]
  },
  {
   "cell_type": "code",
   "execution_count": 20,
   "metadata": {},
   "outputs": [
    {
     "data": {
      "text/plain": [
       "'2003/0304232'"
      ]
     },
     "execution_count": 20,
     "metadata": {},
     "output_type": "execute_result"
    }
   ],
   "source": [
    "list_of_files[1]"
   ]
  },
  {
   "cell_type": "code",
   "execution_count": 21,
   "metadata": {},
   "outputs": [
    {
     "name": "stdout",
     "output_type": "stream",
     "text": [
      "elapsed = 41.52 seconds\n"
     ]
    }
   ],
   "source": [
    "with open(list_of_files[1]) as f: data = f.read()\n",
    "\n",
    "# this takes a long time because it relies on texSoup\n",
    "start_time = time.time()\n",
    "toc = tex2py(data)\n",
    "print('elapsed =', round(time.time()-start_time,2),'seconds')"
   ]
  },
  {
   "cell_type": "code",
   "execution_count": 22,
   "metadata": {},
   "outputs": [
    {
     "data": {
      "text/plain": [
       "('addcontentsline',\n",
       " 'addtocontents',\n",
       " 'addtocounter',\n",
       " 'address',\n",
       " 'addtolength',\n",
       " 'addvspace',\n",
       " 'alph',\n",
       " 'appendix',\n",
       " 'arabic',\n",
       " 'author')"
      ]
     },
     "execution_count": 22,
     "metadata": {},
     "output_type": "execute_result"
    }
   ],
   "source": [
    "toc.valid_tags[0:10]"
   ]
  },
  {
   "cell_type": "code",
   "execution_count": 23,
   "metadata": {},
   "outputs": [
    {
     "data": {
      "text/plain": [
       "[Introduction,\n",
       " Preliminaries,\n",
       " A supersymmetric extension in the $SO(4)\\times SO(4)$ \\\\ formalism,\n",
       " Anomalous dimension from string field theory,\n",
       " Conclusions,\n",
       " Conventions and Notation,\n",
       " Useful identities and (anti)commutators,\n",
       " More detailed computations,\n",
       " Functional expressions for the prefactor]"
      ]
     },
     "execution_count": 23,
     "metadata": {},
     "output_type": "execute_result"
    }
   ],
   "source": [
    "toc.branches"
   ]
  },
  {
   "cell_type": "markdown",
   "metadata": {},
   "source": [
    "## TexSoup\n",
    "\n",
    "https://texsoup.alvinwan.com/docs/quickstart.html"
   ]
  },
  {
   "cell_type": "code",
   "execution_count": 24,
   "metadata": {},
   "outputs": [],
   "source": [
    "from TexSoup import TexSoup"
   ]
  },
  {
   "cell_type": "markdown",
   "metadata": {},
   "source": [
    "### single document"
   ]
  },
  {
   "cell_type": "code",
   "execution_count": 25,
   "metadata": {},
   "outputs": [],
   "source": [
    "with open(list_of_files[1]) as f: data = f.read()"
   ]
  },
  {
   "cell_type": "code",
   "execution_count": 26,
   "metadata": {},
   "outputs": [
    {
     "data": {
      "text/plain": [
       "'\\\\documentclass[12pt]{article}\\n\\\\usepackage{graphics}\\n\\\\usepackage{epsfig}\\n\\\\usepackage{color}\\n\\\\usepackage{amsmath}\\n\\\\usepackage{amssymb}\\n\\\\def\\\\da{\\\\dot{\\\\alpha}}\\n\\\\def\\\\db{\\\\dot{\\\\beta}}\\n\\\\def\\\\dg{\\\\dot{\\\\gamma}}\\n\\\\d'"
      ]
     },
     "execution_count": 26,
     "metadata": {},
     "output_type": "execute_result"
    }
   ],
   "source": [
    "data[0:200]"
   ]
  },
  {
   "cell_type": "code",
   "execution_count": 27,
   "metadata": {},
   "outputs": [
    {
     "name": "stdout",
     "output_type": "stream",
     "text": [
      "35.66 seconds\n"
     ]
    }
   ],
   "source": [
    "start_time=time.time()\n",
    "soup = TexSoup(data)\n",
    "print(round(time.time()-start_time,2),'seconds')"
   ]
  },
  {
   "cell_type": "code",
   "execution_count": 28,
   "metadata": {},
   "outputs": [
    {
     "data": {
      "text/plain": [
       "['12pt',\n",
       " 'article',\n",
       " 'graphics',\n",
       " 'epsfig',\n",
       " 'color',\n",
       " 'amsmath',\n",
       " 'amssymb',\n",
       " '\\\\dot',\n",
       " '\\\\dot',\n",
       " '\\\\dot',\n",
       " '\\\\dot',\n",
       " '\\\\Gamma',\n",
       " '\\\\Delta',\n",
       " '\\\\Lambda',\n",
       " '\\\\Sigma',\n",
       " '\\\\alpha',\n",
       " '\\\\beta',\n",
       " '\\\\gamma',\n",
       " '\\\\delta',\n",
       " '\\\\varepsilon']"
      ]
     },
     "execution_count": 28,
     "metadata": {},
     "output_type": "execute_result"
    }
   ],
   "source": [
    "list(soup.text)[0:20]"
   ]
  },
  {
   "cell_type": "code",
   "execution_count": 29,
   "metadata": {},
   "outputs": [
    {
     "data": {
      "text/plain": [
       "\\begin{equation}\\label{planewave}\n",
       "\\begin{split}\n",
       "ds^2 & = 2dx^+dx^--\\m^2\\vec{x}^2\\bigl(dx^+\\bigr)^2+d\\vec{x}^2\\,,\\\\\n",
       "F_5 & = 4\\m dx^+\\wedge\\bigl(dx^1\\wedge dx^2\\wedge dx^3\\wedge dx^4+dx^5\\wedge dx^6\\wedge dx^7\\wedge dx^8\\bigr)\\,.\n",
       "\\end{split}\n",
       "\\end{equation}"
      ]
     },
     "execution_count": 29,
     "metadata": {},
     "output_type": "execute_result"
    }
   ],
   "source": [
    "soup.equation"
   ]
  },
  {
   "cell_type": "code",
   "execution_count": 30,
   "metadata": {},
   "outputs": [],
   "source": [
    "lst = list(soup.find_all('equation'))"
   ]
  },
  {
   "cell_type": "code",
   "execution_count": 31,
   "metadata": {},
   "outputs": [
    {
     "data": {
      "text/plain": [
       "79"
      ]
     },
     "execution_count": 31,
     "metadata": {},
     "output_type": "execute_result"
    }
   ],
   "source": [
    "# how many equations are in the document?\n",
    "len(lst) "
   ]
  },
  {
   "cell_type": "code",
   "execution_count": 32,
   "metadata": {},
   "outputs": [
    {
     "data": {
      "text/plain": [
       "\\begin{equation}\\label{planewave}\n",
       "\\begin{split}\n",
       "ds^2 & = 2dx^+dx^--\\m^2\\vec{x}^2\\bigl(dx^+\\bigr)^2+d\\vec{x}^2\\,,\\\\\n",
       "F_5 & = 4\\m dx^+\\wedge\\bigl(dx^1\\wedge dx^2\\wedge dx^3\\wedge dx^4+dx^5\\wedge dx^6\\wedge dx^7\\wedge dx^8\\bigr)\\,.\n",
       "\\end{split}\n",
       "\\end{equation}"
      ]
     },
     "execution_count": 32,
     "metadata": {},
     "output_type": "execute_result"
    }
   ],
   "source": [
    "# show the first match\n",
    "lst[0] "
   ]
  },
  {
   "cell_type": "code",
   "execution_count": 33,
   "metadata": {},
   "outputs": [
    {
     "data": {
      "text/plain": [
       "'\\\\label{planewave}\\n\\\\begin{split}\\nds^2 & = 2dx^+dx^--\\\\m^2\\\\vec{x}^2\\\\bigl(dx^+\\\\bigr)^2+d\\\\vec{x}^2\\\\,,\\\\\\\\\\nF_5 & = 4\\\\m dx^+\\\\wedge\\\\bigl(dx^1\\\\wedge dx^2\\\\wedge dx^3\\\\wedge dx^4+dx^5\\\\wedge dx^6\\\\wedge dx^7\\\\wedge dx^8\\\\bigr)\\\\,.\\n'"
      ]
     },
     "execution_count": 33,
     "metadata": {},
     "output_type": "execute_result"
    }
   ],
   "source": [
    "# what is the string inside the \"begin{equation}\"?\n",
    "lst[0][0] "
   ]
  },
  {
   "cell_type": "code",
   "execution_count": 34,
   "metadata": {},
   "outputs": [
    {
     "data": {
      "text/plain": [
       "\\begin{equation}\n",
       "\\o_n=\\sqrt{n^2+\\bigl(\\m\\a'p^+\\bigr)^2}\\,,\\qquad n\\in\\Nop\\,,\n",
       "\\end{equation}"
      ]
     },
     "execution_count": 34,
     "metadata": {},
     "output_type": "execute_result"
    }
   ],
   "source": [
    "lst[1]"
   ]
  },
  {
   "cell_type": "code",
   "execution_count": 35,
   "metadata": {},
   "outputs": [
    {
     "data": {
      "text/plain": [
       "\"\\n\\\\o_n=\\\\sqrt{n^2+\\\\bigl(\\\\m\\\\a'p^+\\\\bigr)^2}\\\\,,\\\\qquad n\\\\in\\\\Nop\\\\,,\\n\""
      ]
     },
     "execution_count": 35,
     "metadata": {},
     "output_type": "execute_result"
    }
   ],
   "source": [
    "lst[1][0]"
   ]
  },
  {
   "cell_type": "code",
   "execution_count": 36,
   "metadata": {},
   "outputs": [
    {
     "name": "stdout",
     "output_type": "stream",
     "text": [
      "\\label{planewave}\n",
      "\\begin{split}\n",
      "ds^2 & = 2dx^+dx^--\\m^2\\vec{x}^2\\bigl(dx^+\\bigr)^2+d\\vec{x}^2\\,,\\\\\n",
      "F_5 & = 4\\m dx^+\\wedge\\bigl(dx^1\\wedge dx^2\\wedge dx^3\\wedge dx^4+dx^5\\wedge dx^6\\wedge dx^7\\wedge dx^8\\bigr)\\,.\n",
      "\n",
      "\n",
      "\\o_n=\\sqrt{n^2+\\bigl(\\m\\a'p^+\\bigr)^2}\\,,\\qquad n\\in\\Nop\\,,\n",
      "\n",
      "\\label{dict}\n",
      "\\frac{1}{\\m}H = \\D-J\\,,\\qquad \\frac{1}{\\bigl(\\m\\a'p^+\\bigr)^2} = \\frac{g^2_{\\text{YM}}N}{J^2}\\equiv \\l'\\,,\\qquad\n",
      "4\\pi g_{\\text{s}}\\bigl(\\m\\a'p^+\\bigr)^2 = \\frac{J^2}{N}\\equiv g_2\n",
      "\n"
     ]
    }
   ],
   "source": [
    "for this_eq in list(soup.find_all('equation'))[0:3]: # convert generator to list so we can limit returns to the first 10\n",
    "    print(this_eq[0])"
   ]
  },
  {
   "cell_type": "markdown",
   "metadata": {},
   "source": [
    "### loop over all documents"
   ]
  },
  {
   "cell_type": "code",
   "execution_count": 46,
   "metadata": {},
   "outputs": [
    {
     "name": "stdout",
     "output_type": "stream",
     "text": [
      "2003/0301116\n",
      "5.8 seconds\n",
      "2003/0304232\n",
      "38.98 seconds\n",
      "2003/0303017\n",
      "45.22 seconds\n",
      "2003/0303225\n",
      "50.13 seconds\n",
      "2003/0302131\n",
      "'utf-8' codec can't decode byte 0xa0 in position 38109: invalid start byte\n",
      "58.96 seconds\n",
      "2003/0303028\n",
      "63.64 seconds\n",
      "2003/0301129\n",
      "75.12 seconds\n",
      "2003/0302136\n"
     ]
    },
    {
     "ename": "TypeError",
     "evalue": "Malformed argument. First and last elements must match a valid argument format. In this case, TexSoup could not find matching punctuation for: ['[', 'b', '}'].\nCommon issues include: Unescaped special characters, mistyped closing punctuation, misalignment.",
     "output_type": "error",
     "traceback": [
      "\u001b[0;31m---------------------------------------------------------------------------\u001b[0m",
      "\u001b[0;31mTypeError\u001b[0m                                 Traceback (most recent call last)",
      "\u001b[0;32m<ipython-input-46-1ad6940ff9ad>\u001b[0m in \u001b[0;36m<module>\u001b[0;34m\u001b[0m\n\u001b[1;32m     15\u001b[0m             \u001b[0mprint\u001b[0m\u001b[0;34m(\u001b[0m\u001b[0merr\u001b[0m\u001b[0;34m)\u001b[0m\u001b[0;34m\u001b[0m\u001b[0m\n\u001b[1;32m     16\u001b[0m \u001b[0;34m\u001b[0m\u001b[0m\n\u001b[0;32m---> 17\u001b[0;31m     \u001b[0msoup\u001b[0m \u001b[0;34m=\u001b[0m \u001b[0mTexSoup\u001b[0m\u001b[0;34m(\u001b[0m\u001b[0mdata\u001b[0m\u001b[0;34m)\u001b[0m\u001b[0;34m\u001b[0m\u001b[0m\n\u001b[0m\u001b[1;32m     18\u001b[0m     \u001b[0mlst\u001b[0m \u001b[0;34m=\u001b[0m \u001b[0mlist\u001b[0m\u001b[0;34m(\u001b[0m\u001b[0msoup\u001b[0m\u001b[0;34m.\u001b[0m\u001b[0mfind_all\u001b[0m\u001b[0;34m(\u001b[0m\u001b[0;34m'equation'\u001b[0m\u001b[0;34m)\u001b[0m\u001b[0;34m)\u001b[0m\u001b[0;34m\u001b[0m\u001b[0m\n\u001b[1;32m     19\u001b[0m     \u001b[0;32mfor\u001b[0m \u001b[0meq\u001b[0m \u001b[0;32min\u001b[0m \u001b[0mlst\u001b[0m\u001b[0;34m:\u001b[0m\u001b[0;34m\u001b[0m\u001b[0m\n",
      "\u001b[0;32m/opt/conda/lib/python3.6/site-packages/TexSoup/__init__.py\u001b[0m in \u001b[0;36mTexSoup\u001b[0;34m(tex_code)\u001b[0m\n\u001b[1;32m     83\u001b[0m     \u001b[0mSOUP\u001b[0m\u001b[0;34m\u001b[0m\u001b[0m\n\u001b[1;32m     84\u001b[0m     \"\"\"\n\u001b[0;32m---> 85\u001b[0;31m     \u001b[0mparsed\u001b[0m\u001b[0;34m,\u001b[0m \u001b[0msrc\u001b[0m \u001b[0;34m=\u001b[0m \u001b[0mread\u001b[0m\u001b[0;34m(\u001b[0m\u001b[0mtex_code\u001b[0m\u001b[0;34m)\u001b[0m\u001b[0;34m\u001b[0m\u001b[0m\n\u001b[0m\u001b[1;32m     86\u001b[0m     \u001b[0;32mreturn\u001b[0m \u001b[0mTexNode\u001b[0m\u001b[0;34m(\u001b[0m\u001b[0mparsed\u001b[0m\u001b[0;34m,\u001b[0m \u001b[0msrc\u001b[0m\u001b[0;34m=\u001b[0m\u001b[0msrc\u001b[0m\u001b[0;34m)\u001b[0m\u001b[0;34m\u001b[0m\u001b[0m\n",
      "\u001b[0;32m/opt/conda/lib/python3.6/site-packages/TexSoup/tex.py\u001b[0m in \u001b[0;36mread\u001b[0;34m(tex)\u001b[0m\n\u001b[1;32m     17\u001b[0m     \u001b[0mbuf\u001b[0m\u001b[0;34m,\u001b[0m \u001b[0mchildren\u001b[0m \u001b[0;34m=\u001b[0m \u001b[0mBuffer\u001b[0m\u001b[0;34m(\u001b[0m\u001b[0mtokenize\u001b[0m\u001b[0;34m(\u001b[0m\u001b[0mtex\u001b[0m\u001b[0;34m)\u001b[0m\u001b[0;34m)\u001b[0m\u001b[0;34m,\u001b[0m \u001b[0;34m[\u001b[0m\u001b[0;34m]\u001b[0m\u001b[0;34m\u001b[0m\u001b[0m\n\u001b[1;32m     18\u001b[0m     \u001b[0;32mwhile\u001b[0m \u001b[0mbuf\u001b[0m\u001b[0;34m.\u001b[0m\u001b[0mhasNext\u001b[0m\u001b[0;34m(\u001b[0m\u001b[0;34m)\u001b[0m\u001b[0;34m:\u001b[0m\u001b[0;34m\u001b[0m\u001b[0m\n\u001b[0;32m---> 19\u001b[0;31m         \u001b[0mcontent\u001b[0m \u001b[0;34m=\u001b[0m \u001b[0mread_tex\u001b[0m\u001b[0;34m(\u001b[0m\u001b[0mbuf\u001b[0m\u001b[0;34m)\u001b[0m\u001b[0;34m\u001b[0m\u001b[0m\n\u001b[0m\u001b[1;32m     20\u001b[0m         \u001b[0;32mif\u001b[0m \u001b[0mcontent\u001b[0m \u001b[0;32mis\u001b[0m \u001b[0;32mnot\u001b[0m \u001b[0;32mNone\u001b[0m\u001b[0;34m:\u001b[0m\u001b[0;34m\u001b[0m\u001b[0m\n\u001b[1;32m     21\u001b[0m             \u001b[0mchildren\u001b[0m\u001b[0;34m.\u001b[0m\u001b[0mappend\u001b[0m\u001b[0;34m(\u001b[0m\u001b[0mcontent\u001b[0m\u001b[0;34m)\u001b[0m\u001b[0;34m\u001b[0m\u001b[0m\n",
      "\u001b[0;32m/opt/conda/lib/python3.6/site-packages/TexSoup/reader.py\u001b[0m in \u001b[0;36mread_tex\u001b[0;34m(src)\u001b[0m\n\u001b[1;32m    277\u001b[0m             \u001b[0msrc\u001b[0m\u001b[0;34m.\u001b[0m\u001b[0mbackward\u001b[0m\u001b[0;34m(\u001b[0m\u001b[0mcandidate_index\u001b[0m\u001b[0;34m)\u001b[0m\u001b[0;34m\u001b[0m\u001b[0m\n\u001b[1;32m    278\u001b[0m         \u001b[0;32mif\u001b[0m \u001b[0mmode\u001b[0m \u001b[0;34m==\u001b[0m \u001b[0;34m'begin'\u001b[0m\u001b[0;34m:\u001b[0m\u001b[0;34m\u001b[0m\u001b[0m\n\u001b[0;32m--> 279\u001b[0;31m             \u001b[0mread_env\u001b[0m\u001b[0;34m(\u001b[0m\u001b[0msrc\u001b[0m\u001b[0;34m,\u001b[0m \u001b[0mexpr\u001b[0m\u001b[0;34m)\u001b[0m\u001b[0;34m\u001b[0m\u001b[0m\n\u001b[0m\u001b[1;32m    280\u001b[0m         \u001b[0;32mreturn\u001b[0m \u001b[0mexpr\u001b[0m\u001b[0;34m\u001b[0m\u001b[0m\n\u001b[1;32m    281\u001b[0m     \u001b[0;32mif\u001b[0m \u001b[0mc\u001b[0m \u001b[0;32min\u001b[0m \u001b[0mARG_START_TOKENS\u001b[0m\u001b[0;34m:\u001b[0m\u001b[0;34m\u001b[0m\u001b[0m\n",
      "\u001b[0;32m/opt/conda/lib/python3.6/site-packages/TexSoup/reader.py\u001b[0m in \u001b[0;36mread_env\u001b[0;34m(src, expr)\u001b[0m\n\u001b[1;32m    365\u001b[0m         \u001b[0mcontents\u001b[0m \u001b[0;34m=\u001b[0m \u001b[0;34m[\u001b[0m\u001b[0msrc\u001b[0m\u001b[0;34m.\u001b[0m\u001b[0mforward_until\u001b[0m\u001b[0;34m(\u001b[0m\u001b[0;32mlambda\u001b[0m \u001b[0ms\u001b[0m\u001b[0;34m:\u001b[0m \u001b[0ms\u001b[0m \u001b[0;34m==\u001b[0m \u001b[0;34m'\\\\end'\u001b[0m\u001b[0;34m)\u001b[0m\u001b[0;34m]\u001b[0m\u001b[0;34m\u001b[0m\u001b[0m\n\u001b[1;32m    366\u001b[0m     \u001b[0;32mwhile\u001b[0m \u001b[0msrc\u001b[0m\u001b[0;34m.\u001b[0m\u001b[0mhasNext\u001b[0m\u001b[0;34m(\u001b[0m\u001b[0;34m)\u001b[0m \u001b[0;32mand\u001b[0m \u001b[0;32mnot\u001b[0m \u001b[0msrc\u001b[0m\u001b[0;34m.\u001b[0m\u001b[0mstartswith\u001b[0m\u001b[0;34m(\u001b[0m\u001b[0;34m'\\\\end{%s}'\u001b[0m \u001b[0;34m%\u001b[0m \u001b[0mexpr\u001b[0m\u001b[0;34m.\u001b[0m\u001b[0mname\u001b[0m\u001b[0;34m)\u001b[0m\u001b[0;34m:\u001b[0m\u001b[0;34m\u001b[0m\u001b[0m\n\u001b[0;32m--> 367\u001b[0;31m         \u001b[0mcontents\u001b[0m\u001b[0;34m.\u001b[0m\u001b[0mappend\u001b[0m\u001b[0;34m(\u001b[0m\u001b[0mread_tex\u001b[0m\u001b[0;34m(\u001b[0m\u001b[0msrc\u001b[0m\u001b[0;34m)\u001b[0m\u001b[0;34m)\u001b[0m\u001b[0;34m\u001b[0m\u001b[0m\n\u001b[0m\u001b[1;32m    368\u001b[0m     \u001b[0;32mif\u001b[0m \u001b[0;32mnot\u001b[0m \u001b[0msrc\u001b[0m\u001b[0;34m.\u001b[0m\u001b[0mstartswith\u001b[0m\u001b[0;34m(\u001b[0m\u001b[0;34m'\\\\end{%s}'\u001b[0m \u001b[0;34m%\u001b[0m \u001b[0mexpr\u001b[0m\u001b[0;34m.\u001b[0m\u001b[0mname\u001b[0m\u001b[0;34m)\u001b[0m\u001b[0;34m:\u001b[0m\u001b[0;34m\u001b[0m\u001b[0m\n\u001b[1;32m    369\u001b[0m         \u001b[0mend\u001b[0m \u001b[0;34m=\u001b[0m \u001b[0msrc\u001b[0m\u001b[0;34m.\u001b[0m\u001b[0mpeek\u001b[0m\u001b[0;34m(\u001b[0m\u001b[0;34m(\u001b[0m\u001b[0;36m0\u001b[0m\u001b[0;34m,\u001b[0m \u001b[0;36m5\u001b[0m\u001b[0;34m)\u001b[0m\u001b[0;34m)\u001b[0m\u001b[0;34m\u001b[0m\u001b[0m\n",
      "\u001b[0;32m/opt/conda/lib/python3.6/site-packages/TexSoup/reader.py\u001b[0m in \u001b[0;36mread_tex\u001b[0;34m(src)\u001b[0m\n\u001b[1;32m    280\u001b[0m         \u001b[0;32mreturn\u001b[0m \u001b[0mexpr\u001b[0m\u001b[0;34m\u001b[0m\u001b[0m\n\u001b[1;32m    281\u001b[0m     \u001b[0;32mif\u001b[0m \u001b[0mc\u001b[0m \u001b[0;32min\u001b[0m \u001b[0mARG_START_TOKENS\u001b[0m\u001b[0;34m:\u001b[0m\u001b[0;34m\u001b[0m\u001b[0m\n\u001b[0;32m--> 282\u001b[0;31m         \u001b[0;32mreturn\u001b[0m \u001b[0mread_arg\u001b[0m\u001b[0;34m(\u001b[0m\u001b[0msrc\u001b[0m\u001b[0;34m,\u001b[0m \u001b[0mc\u001b[0m\u001b[0;34m)\u001b[0m\u001b[0;34m\u001b[0m\u001b[0m\n\u001b[0m\u001b[1;32m    283\u001b[0m     \u001b[0;32mreturn\u001b[0m \u001b[0mc\u001b[0m\u001b[0;34m\u001b[0m\u001b[0m\n\u001b[1;32m    284\u001b[0m \u001b[0;34m\u001b[0m\u001b[0m\n",
      "\u001b[0;32m/opt/conda/lib/python3.6/site-packages/TexSoup/reader.py\u001b[0m in \u001b[0;36mread_arg\u001b[0;34m(src, c)\u001b[0m\n\u001b[1;32m    391\u001b[0m             \u001b[0;32mbreak\u001b[0m\u001b[0;34m\u001b[0m\u001b[0m\n\u001b[1;32m    392\u001b[0m         \u001b[0;32melif\u001b[0m \u001b[0msrc\u001b[0m\u001b[0;34m.\u001b[0m\u001b[0mpeek\u001b[0m\u001b[0;34m(\u001b[0m\u001b[0;34m)\u001b[0m \u001b[0;32min\u001b[0m \u001b[0mALL_TOKENS\u001b[0m\u001b[0;34m:\u001b[0m\u001b[0;34m\u001b[0m\u001b[0m\n\u001b[0;32m--> 393\u001b[0;31m             \u001b[0mcontent\u001b[0m\u001b[0;34m.\u001b[0m\u001b[0mappend\u001b[0m\u001b[0;34m(\u001b[0m\u001b[0mread_tex\u001b[0m\u001b[0;34m(\u001b[0m\u001b[0msrc\u001b[0m\u001b[0;34m)\u001b[0m\u001b[0;34m)\u001b[0m\u001b[0;34m\u001b[0m\u001b[0m\n\u001b[0m\u001b[1;32m    394\u001b[0m         \u001b[0;32melse\u001b[0m\u001b[0;34m:\u001b[0m\u001b[0;34m\u001b[0m\u001b[0m\n\u001b[1;32m    395\u001b[0m             \u001b[0mcontent\u001b[0m\u001b[0;34m.\u001b[0m\u001b[0mappend\u001b[0m\u001b[0;34m(\u001b[0m\u001b[0mnext\u001b[0m\u001b[0;34m(\u001b[0m\u001b[0msrc\u001b[0m\u001b[0;34m)\u001b[0m\u001b[0;34m)\u001b[0m\u001b[0;34m\u001b[0m\u001b[0m\n",
      "\u001b[0;32m/opt/conda/lib/python3.6/site-packages/TexSoup/reader.py\u001b[0m in \u001b[0;36mread_tex\u001b[0;34m(src)\u001b[0m\n\u001b[1;32m    280\u001b[0m         \u001b[0;32mreturn\u001b[0m \u001b[0mexpr\u001b[0m\u001b[0;34m\u001b[0m\u001b[0m\n\u001b[1;32m    281\u001b[0m     \u001b[0;32mif\u001b[0m \u001b[0mc\u001b[0m \u001b[0;32min\u001b[0m \u001b[0mARG_START_TOKENS\u001b[0m\u001b[0;34m:\u001b[0m\u001b[0;34m\u001b[0m\u001b[0m\n\u001b[0;32m--> 282\u001b[0;31m         \u001b[0;32mreturn\u001b[0m \u001b[0mread_arg\u001b[0m\u001b[0;34m(\u001b[0m\u001b[0msrc\u001b[0m\u001b[0;34m,\u001b[0m \u001b[0mc\u001b[0m\u001b[0;34m)\u001b[0m\u001b[0;34m\u001b[0m\u001b[0m\n\u001b[0m\u001b[1;32m    283\u001b[0m     \u001b[0;32mreturn\u001b[0m \u001b[0mc\u001b[0m\u001b[0;34m\u001b[0m\u001b[0m\n\u001b[1;32m    284\u001b[0m \u001b[0;34m\u001b[0m\u001b[0m\n",
      "\u001b[0;32m/opt/conda/lib/python3.6/site-packages/TexSoup/reader.py\u001b[0m in \u001b[0;36mread_arg\u001b[0;34m(src, c)\u001b[0m\n\u001b[1;32m    394\u001b[0m         \u001b[0;32melse\u001b[0m\u001b[0;34m:\u001b[0m\u001b[0;34m\u001b[0m\u001b[0m\n\u001b[1;32m    395\u001b[0m             \u001b[0mcontent\u001b[0m\u001b[0;34m.\u001b[0m\u001b[0mappend\u001b[0m\u001b[0;34m(\u001b[0m\u001b[0mnext\u001b[0m\u001b[0;34m(\u001b[0m\u001b[0msrc\u001b[0m\u001b[0;34m)\u001b[0m\u001b[0;34m)\u001b[0m\u001b[0;34m\u001b[0m\u001b[0m\n\u001b[0;32m--> 396\u001b[0;31m     \u001b[0;32mreturn\u001b[0m \u001b[0mArg\u001b[0m\u001b[0;34m.\u001b[0m\u001b[0mparse\u001b[0m\u001b[0;34m(\u001b[0m\u001b[0mcontent\u001b[0m\u001b[0;34m)\u001b[0m\u001b[0;34m\u001b[0m\u001b[0m\n\u001b[0m",
      "\u001b[0;32m/opt/conda/lib/python3.6/site-packages/TexSoup/data.py\u001b[0m in \u001b[0;36mparse\u001b[0;34m(s)\u001b[0m\n\u001b[1;32m    468\u001b[0m                             \u001b[0;34m' could not find matching punctuation for: %s.\\n'\u001b[0m\u001b[0;34m\u001b[0m\u001b[0m\n\u001b[1;32m    469\u001b[0m                             \u001b[0;34m'Common issues include: Unescaped special characters,'\u001b[0m\u001b[0;34m\u001b[0m\u001b[0m\n\u001b[0;32m--> 470\u001b[0;31m                             ' mistyped closing punctuation, misalignment.' % (str(s)))\n\u001b[0m\u001b[1;32m    471\u001b[0m         \u001b[0;32mfor\u001b[0m \u001b[0marg\u001b[0m \u001b[0;32min\u001b[0m \u001b[0marg_type\u001b[0m\u001b[0;34m:\u001b[0m\u001b[0;34m\u001b[0m\u001b[0m\n\u001b[1;32m    472\u001b[0m             \u001b[0;32mif\u001b[0m \u001b[0marg\u001b[0m\u001b[0;34m.\u001b[0m\u001b[0m__is__\u001b[0m\u001b[0;34m(\u001b[0m\u001b[0ms\u001b[0m\u001b[0;34m)\u001b[0m\u001b[0;34m:\u001b[0m\u001b[0;34m\u001b[0m\u001b[0m\n",
      "\u001b[0;31mTypeError\u001b[0m: Malformed argument. First and last elements must match a valid argument format. In this case, TexSoup could not find matching punctuation for: ['[', 'b', '}'].\nCommon issues include: Unescaped special characters, mistyped closing punctuation, misalignment."
     ]
    }
   ],
   "source": [
    "start_time=time.time()\n",
    "texsoup_reslts={}\n",
    "number_of_eq=0\n",
    "for this_file in list_of_files:\n",
    "    loop_time=time.time()\n",
    "    print(this_file)\n",
    "    try:\n",
    "        with open(this_file,'r', encoding='utf-8') as f:\n",
    "            data = f.read()\n",
    "    except UnicodeDecodeError as err:\n",
    "        print(err)\n",
    "        try: \n",
    "            with open(this_file,'r', encoding='ISO-8859-1') as f:\n",
    "                data = f.read()\n",
    "        except Exception as err:\n",
    "            print(err)\n",
    "    \n",
    "    soup = TexSoup(data)\n",
    "    lst = list(soup.find_all('equation'))\n",
    "    for eq in lst:\n",
    "        number_of_eq+=1\n",
    "        try:\n",
    "            texsoup_reslts[this_file].append(eq)\n",
    "        except KeyError:\n",
    "            texsoup_reslts[this_file]=[]\n",
    "            texsoup_reslts[this_file].append(eq)\n",
    "#        print('  ',eq,'\\n')\n",
    "    print(round(time.time()-loop_time,2),'seconds')\n",
    "print(round(time.time()-start_time,2),'seconds')"
   ]
  },
  {
   "cell_type": "code",
   "execution_count": 42,
   "metadata": {},
   "outputs": [],
   "source": [
    "import chardet"
   ]
  },
  {
   "cell_type": "code",
   "execution_count": 43,
   "metadata": {},
   "outputs": [],
   "source": [
    "with open('2003/0302131','rb') as f:\n",
    "        data = f.read()"
   ]
  },
  {
   "cell_type": "code",
   "execution_count": 44,
   "metadata": {},
   "outputs": [
    {
     "data": {
      "text/plain": [
       "{'encoding': 'ISO-8859-1', 'confidence': 0.73, 'language': ''}"
      ]
     },
     "execution_count": 44,
     "metadata": {},
     "output_type": "execute_result"
    }
   ],
   "source": [
    "chardet.detect(data)"
   ]
  },
  {
   "cell_type": "code",
   "execution_count": 47,
   "metadata": {},
   "outputs": [],
   "source": [
    "with open(\"2003/0302136\",'r') as f:\n",
    "    data = f.read()"
   ]
  },
  {
   "cell_type": "code",
   "execution_count": 48,
   "metadata": {},
   "outputs": [
    {
     "data": {
      "text/plain": [
       "\"\\\\documentstyle{article}[12pt]\\n%%%%%%%%%%%%%%%%%%%%%%%%%%%%%% DEFINITIES\\n%%%%%%%%%%%%%%%%%%%%%%%%\\n\\\\newcommand{\\\\fig}[1]{fig.\\\\ (\\\\ref{#1})}\\n%\\\\usepackage{epsfig\\\\renewcommand{\\\\epsfig}[1]{#1}\\n%\\\\newcommand{\\\\smcap}[1]{\\\\caption{\\\\small{#1}}}\\n%\\\\def\\\\figurename{\\\\small{Figure}}\\n\\\\def\\\\dd{\\\\mbox{d}}\\n\\\\def\\\\ddd{\\\\mbox{\\\\sm d}}\\n\\\\def\\\\O{\\\\Omega}\\n\\\\def\\\\o{\\\\omega}\\n\\\\def\\\\bra{\\\\langle}\\n\\\\def\\\\ket{\\\\rangle}\\n\\\\def\\\\a{\\\\alpha}\\n\\\\def\\\\b{\\\\beta}\\n\\\\def\\\\d{\\\\delta}\\n\\\\def\\\\D{\\\\Delta}\\n\\\\def\\\\LL{\\\\triangle}\\n\\\\def\\\\g{\\\\gamma}\\n\\\\def\\\\G{\\\\Gamma}\\n\\\\def\\\\e{\\\\epsilon}\\n\\\\def\\\\ve{\\\\varepsilon}\\n\\\\def\\\\et{\\\\eta}\\n\\\\def\\\\f{\\\\phi}\\n\\\\def\\\\F{\\\\Phi}\\n\\\\def\\\\vf{\\\\varphi}\\n\\\\def\\\\k{\\\\kappa}\\n\\\\def\\\\l{\\\\lambda}\\n\\\\def\\\\L{\\\\Lambda}\\n\\\\def\\\\m{\\\\mu}\\n\\\\def\\\\n{\\\\nu}\\n\\\\def\\\\s{\\\\sigma}\\n\\\\def\\\\o{\\\\omega}\\n\\\\def\\\\p{\\\\pi}\\n\\\\def\\\\r{\\\\rho}\\n\\\\def\\\\t{\\\\tau}\\n\\\\def\\\\th{\\\\theta}\\n\\\\def\\\\vt{\\\\vartheta}\\n\\\\def\\\\ra{\\\\rightarrow}\\n\\\\def\\\\la{\\\\leftarrow}\\n\\\\def\\\\pa{\\\\partial}\\n\\\\def\\\\ov{\\\\overline}\\n\\\\def\\\\Pl{\\\\ell_{\\\\sm{Pl}}}\\n\\\\def\\\\tr{\\\\tilde R}\\n\\\\def\\\\td{\\\\tilde d}\\n\\\\def\\\\gmn{g_{\\\\mu \\\\nu}}\\n\\\\def\\\\Si{\\\\Sigma}\\n\\\\def\\\\z{\\\\zeta}\\n% Calligraphic letters\\n\\\\def\\\\ta{\\\\tilde{a}}\\n\\\\def\\\\ca{{\\\\cal A}}\\n\\\\def\\\\cb{{\\\\cal B}}\\n\\\\def\\\\cc{{\\\\cal C}}\\n\\\\def\\\\cd{{\\\\cal D}}\\n\\\\def\\\\ce{{\\\\cal E}}\\n\\\\def\\\\cf{{\\\\cal F}}\\n\\\\def\\\\cg{{\\\\cal G}}\\n\\\\def\\\\ch{{\\\\cal H}}\\n\\\\def\\\\ci{{\\\\cal I}}\\n\\\\def\\\\cj{{\\\\cal J}}\\n\\\\def\\\\ck{{\\\\cal K}}\\n\\\\def\\\\cl{{\\\\cal L}}\\n\\\\def\\\\cm{{\\\\cal M}}\\n\\\\def\\\\cn{{\\\\cal N}}\\n\\\\def\\\\co{{\\\\cal O}}\\n\\\\def\\\\cp{{\\\\cal P}}\\n\\\\def\\\\cq{{\\\\cal Q}}\\n\\\\def\\\\car{{\\\\cal R}}\\n\\\\def\\\\cs{{\\\\cal S}}\\n\\\\def\\\\ct{{\\\\cal T}}\\n\\\\def\\\\cu{{\\\\cal U}}\\n\\\\def\\\\cv{{\\\\cal V}}\\n\\\\def\\\\cw{{\\\\cal W}}\\n\\\\def\\\\cx{{\\\\cal X}}\\n\\\\def\\\\cy{{\\\\cal Y}}\\n\\\\def\\\\cz{{\\\\cal Z}}\\n\\n\\\\newcommand{\\\\ti}[1]{\\\\tilde{#1}}\\n\\\\renewcommand{\\\\^}[1]{\\\\hat{#1}}\\n\\\\newcommand{\\\\sm}[1]{\\\\mbox{\\\\scriptsize #1}}\\n\\\\newcommand{\\\\tn}[1]{\\\\mbox{\\\\tiny #1}}\\n\\\\renewcommand{\\\\@}[1]{\\\\sqrt{#1}}\\n\\\\newcommand{\\\\Tr}{{\\\\mbox{Tr}}\\\\,}\\n%\\\\def\\\\be{\\\\begin{eqnarray}}\\n\\\\renewcommand{\\\\le}[1]{\\\\label{#1}\\\\end{eqnarray}}\\n%\\\\def\\\\ee{\\\\end{eqnarray}}\\n\\\\newcommand{\\\\be}{\\\\begin{equation}}\\n\\\\newcommand{\\\\ee}{\\\\end{equation}}\\n\\\\newcommand{\\\\bea}{\\\\begin{eqnarray}}\\n\\\\newcommand{\\\\eea}{\\\\end{eqnarray}}\\n\\\\newcommand{\\\\nn}{\\\\nonumber}\\n\\\\newcommand{\\\\ep}{e^{2 \\\\phi}}\\n\\\\newcommand{\\\\eq}[1]{(\\\\ref{#1})}\\n\\\\def\\\\nn{\\\\nonumber\\\\\\\\}\\n\\\\def\\\\nm{\\\\nonumber}\\n\\\\newcommand{\\\\rf}[1]{\\\\cite{ref:#1}}\\n\\\\newcommand{\\\\rr}[1]{\\\\bibitem{ref:#1}}\\n\\\\def\\\\qu{\\\\ {\\\\buildrel\\n{\\\\displaystyle ?} \\\\over =}\\\\ }\\n\\\\def\\\\smqu{\\\\ {\\\\buildrel ?\\\\over =}\\\\ }\\n\\\\def\\\\ffract#1#2{\\\\raise .35 em\\\\hbox{$\\\\scriptstyle#1$}\\\\kern-.25em/\\n\\\\kern-.2em\\\\lower .22 em \\\\hbox{$\\\\scriptstyle#2$}}\\n\\\\def\\\\dts{\\\\dt(\\\\t\\\\s-\\\\t\\\\s')}\\n\\\\def\\\\ts{(\\\\ti\\\\s-\\\\ti\\\\s')}\\n\\\\def\\\\ftx{f(\\\\ti x-\\\\ti x')}\\n\\\\def\\\\fts{f(\\\\ti\\\\s-\\\\ti\\\\s')}\\n\\\\def\\\\tx{(\\\\t x-\\\\t x')}\\n\\\\def\\\\dtx{\\\\d(\\\\ti x-\\\\ti x')}\\n\\\\def\\\\gvv{g_{ij}\\\\,\\\\dot{z}^i\\\\dot{z}^j}\\n\\\\def\\\\gpvv{g_{ij}'\\\\,\\\\dot{x}^i\\\\dot{x}^j}\\n\\\\def\\\\GN{G_{\\\\mbox{\\\\tn N}}}\\n\\\\def\\\\lPl{\\\\ell_{\\\\mbox{\\\\tn{Pl}}}}\\n\\\\def\\\\fn{f_{(0)}}\\n\\\\def\\\\fe{f_{(1)}}\\n\\\\def\\\\ft{f_{(2)}}\\n\\\\def\\\\fd{f_{(3)}}\\n\\\\def\\\\Ric{{\\\\mbox{Ric}}}\\n\\\\def\\\\Rie{{\\\\mbox{Rie}}}\\n\\\\def\\\\Ein{{\\\\mbox{Ein}}}\\n\\\\def\\\\nl{\\\\newline}\\n\\\\def\\\\na{\\\\nabla}\\n\\\\def\\\\half{{1\\\\over2}\\\\,}\\n\\\\setlength{\\\\oddsidemargin}{0in} \\\\setlength{\\\\textwidth}{6.3in}\\n\\\\setlength{\\\\topmargin}{-0.5in} \\\\setlength{\\\\textheight}{9in}\\n\\\\def\\\\nonu{\\\\nonumber \\\\\\\\{}}\\n\\\\def\\\\da{\\\\dot{a}}\\n\\\\def\\\\db{\\\\dot{b}}\\n\\\\def\\\\dc{\\\\dot{c}}\\n\\\\def\\\\tg{\\\\tilde{\\\\g}}\\n\\\\def\\\\bF{\\\\bar{F}}\\n\\\\renewcommand{\\\\theequation}{\\\\thesection.\\\\arabic{equation}}\\n\\n\\\\def\\\\nonu{\\\\nonumber \\\\\\\\{}}\\n\\\\def\\\\a{\\\\alpha}\\n\\\\def\\\\b{\\\\beta}\\n\\\\def\\\\c{\\\\gamma}\\n\\\\def\\\\d{\\\\delta}\\n\\\\def\\\\e{\\\\epsilon}           % Also, \\\\varepsilon\\n\\\\def\\\\f{\\\\phi}               %      \\\\varphi\\n\\\\def\\\\g{\\\\gamma}\\n\\\\def\\\\h{\\\\eta}\\n\\\\def\\\\i{\\\\iota}\\n\\\\def\\\\j{\\\\psi}\\n\\\\def\\\\k{\\\\kappa}                    % Also, \\\\varkappa (see below)\\n\\\\def\\\\l{\\\\lambda}\\n\\\\def\\\\m{\\\\mu}\\n\\\\def\\\\n{\\\\nu}\\n\\\\def\\\\o{\\\\omega}  \\\\def\\\\w{\\\\omega}\\n\\\\def\\\\p{\\\\pi}                % Also, \\\\varpi\\n\\\\def\\\\q{\\\\theta}  \\\\def\\\\th{\\\\theta}                  %     \\\\vartheta\\n\\\\def\\\\r{\\\\rho}                                     %     \\\\varrho\\n\\\\def\\\\s{\\\\sigma}                                   %     \\\\varsigma\\n\\\\def\\\\t{\\\\tau}\\n\\\\def\\\\u{\\\\upsilon}\\n\\\\def\\\\x{\\\\xi}\\n\\\\def\\\\z{\\\\zeta}\\n\\\\def\\\\D{\\\\Delta}\\n\\\\def\\\\F{\\\\Phi}\\n\\\\def\\\\G{\\\\Gamma}\\n\\\\def\\\\J{\\\\Psi}\\n\\\\def\\\\L{\\\\Lambda}\\n\\\\def\\\\O{\\\\Omega}  \\\\def\\\\W{\\\\Omega}\\n\\\\def\\\\P{\\\\Pi}\\n\\\\def\\\\Q{\\\\Theta}\\n\\\\def\\\\S{\\\\Sigma}\\n\\\\def\\\\U{\\\\Upsilon}\\n\\\\def\\\\X{\\\\Xi}\\n\\\\def\\\\del{\\\\partial}              % overwritten by \\\\nabla\\n\\n% Calligraphic letters\\n\\n\\\\begin{document}\\n\\n\\\\large\\n\\\\null\\\\vskip-24pt\\n\\\\begin{flushright}\\nSWAT/310\\\\\\\\\\nUCLA/03/TEP/3\\\\\\\\\\nPUPT-2074 \\\\\\\\\\nITFA-2003-06 \\\\\\\\\\n{\\\\tt hep-th/0302136}\\n\\\\end{flushright}\\n%\\\\vskip0.3truecm\\n\\\\begin{center}\\n\\\\vskip .9truecm\\n{\\\\Large\\\\bf\\n%\\\\titleline\\nOn $\\\\a'$-corrections to D-brane solutions}\\n\\\\vskip 1truecm\\n%\\\\vfill\\n{\\\\large\\\\bf Sebastian de Haro\\\\footnote{\\ne-mail: {\\\\tt sebas@physics.ucla.edu}},\\n{\\\\large\\\\bf Annamaria Sinkovics\\\\footnote{e-mail: {\\\\tt\\nsinkovic@science.uva.nl}}}\\nand Kostas Skenderis\\\\footnote{\\ne-mail: {\\\\tt skenderi@science.uva.nl}}}\\n\\\\\\\\\\n\\\\vskip 1truecm\\n${}^{1}$ {\\\\it University of California, Los Angeles\\\\\\\\\\nLos Angeles, CA 90095,USA}\\n\\\\vskip 1truemm\\n${}^{2}$ {\\\\it Department of Physics,\\nUniversity of Wales Swansea\\\\\\\\\\nSingleton Park, Swansea, SA2 8PP, UK} \\\\\\\\\\n\\\\vskip 1truemm\\n${}^{2}$ \\\\  ${}^{3}${\\\\it Institute for Theoretical Physics,\\nUniversity of Amsterdam\\\\\\\\\\nValckenierstraat 65, 1018XE Amsterdam, The Netherlands} \\\\\\\\\\n\\\\vskip 1truemm\\n${}^{3}$ {\\\\it Physics Department,\\nPrinceton University \\\\\\\\\\nPrinceton, NJ 08544, USA}\\n\\\\end{center}\\n\\\\vskip .5truecm\\n\\\\begin{center}\\n{\\\\bf  Abstract}\\n\\\\end{center}\\nWe discuss the computation of the leading corrections to D-brane solutions\\ndue to higher derivative terms in the corresponding\\nlow energy effective action.\\nWe develop several alternative methods for analyzing the problem.\\nIn particular, we derive an effective one-dimensional action\\nfrom which the field equations for spherically symmetric\\ntwo-block brane solutions can be derived, show how to obtain\\nfirst order equations, and  discuss a few other approaches.\\nWe integrate the equations for extremal branes and obtain the\\ncorrections in terms of integrals of the evaluation of the\\nhigher derivative terms on the lowest order solution.\\nTo obtain completely explicit results one would need to\\nknow all leading higher derivative corrections which at present\\nare not available. One of the known higher derivative terms is\\nthe $R^4$ term, and we obtain the corrections\\nto the D3 brane solution  due to this term alone.\\nWe note, however, that (unknown at present) higher\\nterms depending on $F_5$ are expected to modify our result.\\nWe analyze the thermodynamics\\nof brane solutions when such quantum corrections are present.\\nWe find that the $R^4$ term induces a correction to the\\ntension and the electric potential of the D3 brane but not to its charge,\\nand the tension is still proportional to the\\nelectric potential times  the charge. In the near-horizon\\nlimit the corrected solution becomes\\n$AdS_5 \\\\times S^5$ with the same cosmological\\nconstant as the lowest order solution\\nbut a different value of the (constant) dilaton.\\n\\n%\\\\normalsize\\n\\n\\\\newpage\\n\\n\\\\section{Introduction} \\\\label{intro}\\n\\\\setcounter{equation}{0}\\n\\nOne can hardly overestimate the importance of supergravity\\nsolutions. The solutions describing the long-range fields\\nassociated with strings, D-branes and solitonic fivebranes\\nhave played an instrumental role in many advances in string\\ntheory. String dualities require the existence of certain\\nsolutions and conversely the pattern of supergravity solutions\\nstrongly hints of similar patterns and properties of the\\nunderlying microscopic theory. Furthermore, the interplay\\nbetween the microscopic and the supergravity description of\\nan object has been extremely fruitful. One of the most\\nprominent examples is the case of black holes and their\\nstudy in string theory. One can construct solutions\\ndescribing black holes by superimposing (intersecting)\\n``elementary'' branes, i.e. fundamental strings, D-branes, etc.\\nThese objects have a well-defined description in string\\nperturbation theory and, provided appropriate conditions hold,\\none can use this description to obtain results about black holes.\\nFor instance, such considerations led to a microscopic understanding\\nof the black hole entropy for extremal black holes.\\nFurthermore, such reasoning applied to D3 and other branes led to\\nthe AdS/CFT correspondence, and generalizations thereof.\\n\\nIn all these studies, the $p$-brane solutions solve the field equations\\nthat follow from supergravity actions that involve up to two-derivative\\nterms.\\nThese actions are the lowest order terms in the\\nlow-energy effective theories of string theories,\\nand the latter are known to\\nreceive string corrections.\\nThe corrections appear as a series in $\\\\a'$ and are\\nhigher derivative terms.\\n\\nGiven the importance of the $p$-brane solutions, one may ask how\\nthe solutions are modified by the higher dimensional terms.\\nAny such modification will represent the leading stringy effects\\nat low energies. It is known\\nthat some solutions do not receive any corrections.\\nExamples of such solutions are maximally supersymmetric spacetimes such\\nas flat space, and the $AdS_5 \\\\times S^5$ vacuum of IIB supergravity,\\nbut also spacetimes with less supersymmetry such as pp-wave\\nsolutions \\\\cite{KR}. These cases, however, are rather\\nexceptional and generically one expects the solutions to\\nreceive corrections, see for example \\\\cite{CMP}.\\n$\\\\a'$ corrections to the near-horizon geometry of extremal\\nand non-extremal D3 branes were studied in \\\\cite{BG,KR,GKT,PT}.\\nIt was found that the $AdS_5 \\\\times S^5$ geometry is not\\ncorrected, but the non-extremal version is.\\n\\nThe precise form of the corrections may have implications in all\\nproblems involving $p$-brane solutions. For instance, the $\\\\a'$\\ncorrections to $p$-brane solutions will induce $\\\\a'$ corrections\\nto black hole solutions and their properties, such as their\\nentropy formula. The explanation of such subleading terms in\\nterms of a microscopic theory will then pose a new challenge\\nto our understanding of black holes.\\nIn the context of the AdS/CFT correspondence,\\n$\\\\a'$ corrections are associated with subleading terms in the\\n't Hooft coupling expansion. Other applications involve the\\ncomputation of $\\\\a'$-corrections to duality transformation rules.\\nThe higher derivative terms also become important near spacetime\\nsingularities  where curvatures are large.\\n\\nTo compute the precise form of the corrected D-brane solutions, one would\\nneed the complete set of bosonic terms in the low-energy effective action\\nat leading order. Higher derivative interactions can be computed by\\nscattering  amplitudes \\\\cite{GW,GS} or using sigma model techniques\\n\\\\cite{Grisaru:vi} (see \\\\cite{paper} for a more\\ncomplete list of references).  However, apart from the well known $R^4$ term\\nonly a very few other terms are known, see\\n\\\\cite{Frolov:2001xr,Peeters:2001ub,FT}\\nfor recent discussions. One way to obtain further interactions\\nterms is to find all terms that are related by supersymmetry to\\nthe known terms.\\nIn \\\\cite{paper} we investigated in detail the possibility\\nof constructing a superinvariant as a scalar superpotential term in\\nIIB superspace \\\\cite{HW}. A linearized version of such\\na term was known to contain the $R^4$ term \\\\cite{Green1}\\nleading to the expectation that such a superspace term\\ncontains all terms that are related to the $R^4$ by linearized supersymmetry.\\nWe have shown in \\\\cite{paper}, however, that a superinvariant based on a\\nscalar\\nsuperpotential does not exist.\\nFinding the superinvariant associated to the $R^4$ term,\\nand thus determining  the complete set of interactions at leading order\\nis still an open question. For the computation of the corrections to\\nD-brane solutions one\\nwould need the full set of bosonic terms depending on the metric,\\ndilaton and RR-fields.\\n\\nIn this paper we systematically analyze the computation\\nof corrections to brane solutions. The computation consists of\\nobtaining the corrected field equations,\\nevaluating the terms that originate from the higher derivative terms on\\nthe lowest order solution and then integrating the resulting equations.\\nWe present several different methods to obtain the field\\nequations. The straightforward determination of the field\\nequations is possible but very laborious. A method that we\\nfind well-suited for this problem is the Palatini formalism.\\nIn this formalism the metric and the Christoffel symbols\\nare considered as independent fields that are varied\\nindependently. The simplifications are due to the fact that one\\nhas to perform fewer partial integrations\\nwhen deriving the field equations. This reduces the number of\\nterms that participate in the field equations. This formulation,\\neven though simpler than the direct computation, is still tedious.\\n\\nA significant improvement is possible when one considers\\nspherically symmetric solutions. In this case we derive\\nan effective one-dimensional action that governs\\nthe field equations. This action may be thought\\nof as the consistent reduction of the ten dimensional action\\nover all coordinates but the radial one. The method developed\\ncan also be used more generally to\\nderive consistent reductions in general. The field equations\\nto be solved are second order differential equations. In the\\ncase where the lowest order solution is supersymmetric, we also\\nderive associated first order equations that include the effects\\nof the higher derivative terms (we present such an analysis for D3\\nbranes, but similar considerations are applicable to other\\nbranes as well).\\n\\nAfter the field equations are derived, we have to evaluate the\\nhigher derivative terms on the lowest order solution whose\\ncorrections we want to compute. This leads to $r$-dependent\\nsource terms in the field equations. To explicitly\\ncompute the source terms one needs to know the exact form\\nof the higher derivative terms which is not known at present.\\nGiven such source terms, however, we succeeded\\nin integrating the equations to obtain the corrections\\nas integrals of the sources. When the higher derivative terms\\nbecome available, these results would immediately lead to\\nthe exact form of the corrected solutions.\\n\\nOne of the cases that is under better control is the case\\nof the D3 brane. In this case the lowest order solution\\nhas a constant dilaton and a self-dual five-form.\\nThis eliminates some of the possible interaction terms.\\nFor instance, higher derivative terms that depend on the derivatives\\nof the dilaton will not contribute and thus they need not be considered.\\nEven in the D3-brane case, however,\\nthere are possible yet undetermined interaction terms\\ndepending on the 5-form RR field $F_5$ and derivatives thereof\\n(the superpotential term mentioned above does contain such terms).\\nIn fact, our analysis indicates that such terms will contribute to\\nthe full form of the corrected D3-brane solutions.\\nNoting this, we proceed by taking into account the corrections due to\\nthe $R^4$ term only. In this sense, the computation may be viewed as\\na toy model computation.\\nIn this computation we succeeded in obtaining the corrected solution\\nin closed form.\\nThe corrected solution has a non-trivial dilaton. It\\nis regular in the interior and approaches $AdS_5 \\\\times\\nS^5$ in the near-horizon limit.\\n\\nIn the presence of higher derivative interactions the standard\\nformulae for the computation of the thermodynamic properties of the\\nsolutions are modified. We discuss in detail,\\nfollowing \\\\cite{Wald1,Wald2,Wald3}, how to do such computations.\\nWe find that the tension and the electric\\npotential of the D3 brane renormalize, but the charge, temperature and\\nentropy remain uncorrected. Despite the renormalization\\nof the tension, we show that a BPS-type formula\\nthat relates the mass and the charge still holds.\\nThis formula follows from the integrated form of the first\\nlaw of thermodynamics (Smarr formula).\\nThe renormalization of the mass is\\ncompensated by the renormalization of the electric potential.\\n\\nAny correction to the mass of the D3 brane due to higher derivative\\nterms has rather dramatic consequences: the mass\\nof $N_1$ branes plus the mass of $N_2$ branes is higher than\\nthe mass of $N_1+N_2$ branes. This implies that there is a force\\nbetween the branes and the branes will tend to coalesce together.\\nThis is opposite to what expects from BPS branes. We take these\\nresults as a strong indication that the higher derivative\\nterms contain $F_5$ dependent terms so that there are additional\\ncontributions to our computation.\\n\\nOne may expect that once the $F_5$ terms are included, the full\\nextremal D3-brane solution will turn out to be uncorrected, but such a\\nproof is still lacking. Such non-renormalization will be consistent with\\nthe fact that KK-monopole solution, which is connected to the\\nD3 brane via dualities, does not receive corrections from the\\n$R^4$ term. This follows from the fact that the corresponding\\nsigma model is finite \\\\cite{NonR}.\\n(Since the KK-monopole is a purely gravitational\\nsolution there is no issue of undetermined higher derivative\\ninteractions). This argument, however, assumes that the duality\\nrules will not introduce any $\\\\a'$ corrections, but in general\\nthe T-duality rules are known to receive\\n$\\\\a'$ corrections, see for instance \\\\cite{Kaloper:1997ux}.\\nAnother way to analyze this question would be to study\\nKilling spinor equations but the corrections to supersymmetry\\nrules due to the higher derivative corrections are also not yet\\navailable.\\n\\nThis paper is organized as follows. In the first three sections\\nwe analyze in detail the corrections to the D3 brane due to the\\n$R^4$ term. In particular, in section 2 we discuss the\\nderivation of the corrected field equations. We present three methods:\\nthe direct derivation of the field equations, the application of the Palatini\\nmethod and the derivation of an effective one-dimensional\\naction. The analysis in this section holds for both extremal\\nand non-extremal branes (but some of the explicit formulas apply only to\\nextremal D3 branes). In section \\\\ref{fo} we restrict our attention\\nto the extremal D3 brane and rewrite the equations of motion in first\\norder form, which we then integrate to obtain the $\\\\a'$ corrected\\nsolution. In section 4 we discuss in detail\\nthermodynamics for higher derivative theories and apply the results\\nto the corrected D3 brane solution.\\nIn section \\\\ref{otherbranes} we discuss the corrections to\\nextremal electric $p$-branes in $D$ dimensional spacetimes.\\nWe conclude with a discussion of our results in section \\\\ref{disc}. Finally in\\nappendix A and B we give several results regarding the\\nthe evaluation of the higher derivatives terms on lowest\\norder solutions, and in appendix C we present the most general\\nD3 brane solution of the lowest order equations with a specific\\ntwo-block ansatz.\\n\\n\\n\\\\section{Equations of motion} \\\\label{eqm}\\n\\\\setcounter{equation}{0}\\n\\nThe fields that participate in the D3-brane solution of IIB supergravity\\nare the metric $g_{ij}$, the dilaton $\\\\f$, and the\\nfour-form gauge field $A_{i_1...i_4}$.\\nThe terms in the classical IIB supergravity action that only involve\\nthese fields, in the Einstein frame, read\\\\footnote{\\nOur curvature conventions are\\n$R_{ijk}{}^l=\\\\pa_j \\\\G_{ik}^l - \\\\G^l_{ip} \\\\G^p_{jk} - (i \\\\leftrightarrow j)$,\\n$R_{ij}=R_{ikj}{}^k, R=g^{ij} R_{ij}$. The Weyl tensor is\\ngiven by $C_{ijk}{}^l = R_{ijk}{}^l\\n+ {1 \\\\over 8} [\\\\d^l_i R_{jk} + g_{jk} R^l_i - {1 \\\\over 9} R \\\\d^l_i g_{jk}\\n-(i  \\\\leftrightarrow j)]$.},\\n\\\\be \\\\label{iib}\\nI=-{1 \\\\over 16 \\\\p G_N} \\\\int\\\\dd^{10}x \\\\sqrt{-g} [R - \\\\half (\\\\pa \\\\f)^2\\n-{g_s^2 \\\\over 4 \\\\cdot 5!} F_5^2]\\n\\\\ee\\nwhere\\n\\\\footnote{Notice that we use the convention \\\\label{conv}\\nof leaving a factor of $g_s$ in Newton's\\nconstant. This means that our ``Einstein frame'' is related to\\nthe string frame by $\\\\tilde{g}_{E}=e^{-(\\\\f-\\\\f_\\\\infty)/2} g_{st}\\n=g_s^{1/2} g_E$, where $g_E$ is the true Einstein metric and\\n$e^{\\\\f_\\\\infty}=g_s$. Under S-duality $g_E$ is invariant,\\nbut $\\\\tilde{g}_E \\\\to g_s^{-1} \\\\tilde{g}_E$.}\\n$G_N=8 \\\\p^6 g_s^2 \\\\a'^4$. The field equations derived\\nfrom this action should be supplemented by the self-duality (SD) condition\\non $F_5$.\\n\\nThe leading higher derivative terms in the low energy effective\\naction of IIB string theory appear at order $\\\\a'^3$.\\nThe purely gravitational terms can be computed by the 4-point\\ngraviton scattering amplitudes \\\\cite{GW} or a four-loop sigma\\nmodel computation \\\\cite{Grisaru:vi} and give rise to the well-known\\n$R^4$ terms.\\nTo compute the corrections to the D3-brane solution we need to know\\nthe higher derivative terms that involve $g_{ij}$, $\\\\f$ and\\n$F_5$. As discussed in the introduction,  the complete set\\nof such terms is not known  at present.\\nIn principle, such terms can be computed by studying\\ntree-level scattering amplitudes. One would need to compute up\\nto 8-point functions in order to compute all 8-derivative terms in the\\neffective action. Terms that depend on the RR-fields are more difficult\\nto compute using the sigma model methods in the RNS formalism,\\nbut one could use sigma models in the pure spinor formalism \\\\cite{pusp,BH}\\nto perform a manifestly supersymmetric beta function computation,\\nsee  \\\\cite{dBS} for such a computation.\\n\\nWe will proceed by considering only the effect of the $R^4$ term.\\nThis is what has been done in similar computations in most of the\\nliterature. We emphasize, however, that there is no\\na priori reason that the $\\\\a'{}^3$ terms can be truncated to only the $R^4$\\nterm. In fact our results indicate that, at least for the computation of\\n$\\\\a'$ corrections to the D3-brane solution, the truncation is not\\nconsistent. We consider the following $\\\\a'{}^3$ corrections to (\\\\ref{iib}),\\n\\\\be \\\\label{Sw}\\nI_{W}=-\\\\frac{1}{16 \\\\p G_N} \\\\int\\\\dd^{10}x \\\\sqrt{-g}\\\\, \\n\\\\g(\\\\f)\\n%e^{-{3 \\\\over 2}\\\\phi} \\nW\\n\\\\ee\\nwhere \\n\\\\be \\\\label{Wdef}\\n\\\\g(\\\\f)={1 \\\\over 16} E_{3/2}(\\\\f)g_s^{3/2} \\\\a'^3, \\\\quad\\nW = C^{imnj} C_{kmnl} C_i{}^{rsk} C^{l}{}_{rsj} +\\n\\\\frac{1}{2} C^{ijmn} C_{klmn} C_i{}^{rsk} C^{l}{}_{rsj}~,\\n\\\\ee\\nNotice that we used the field redefinition ambiguity\\n\\\\cite{Tseytlin,GW} to reach a scheme where $W$ depends only on the\\nWeyl tensor. $E_{3/2}(\\\\t,\\\\bar{\\\\t})$ is the\\nnon-holomorphic modular form\\nof weight (0,0)\\\\footnote{Explicitly,\\n$E_{3/2}(\\\\t,\\\\bar{\\\\t}) = \\\\sum_{(m,n) \\\\neq (0,0)} \\n{\\\\t_2^{3/2} \\\\over |m+n \\\\t|^3}$, where $(m,n)$ denotes the \\ngreatest common divisor of the integers $m$ and $n$.\\nA non-holomorphic form $F^{(w,\\\\hat{w})}$ of weight $(w,\\\\hat{w})$\\ntransforms as\\n$F^{(w,\\\\hat{w})} \\\\to F^{(w,\\\\hat{w})} (c \\\\t + d)^w (c \\\\bar{\\\\t} + d)^{\\\\hat{w}}$\\nunder the $SL(2,Z)$ transformation $\\\\t \\\\to (a \\\\t + b)/(c \\\\t + d)$.}.\\nHere $\\\\t=\\\\t_1 + i \\\\t_2 = \\\\chi + i e^{-\\\\f}$, where $\\\\chi$ is the axion. \\nIn the following we set $\\\\chi=0$. The factor \\nof $g_s^{3/2}$ in (\\\\ref{Wdef}) is correlated with our conventions, \\nsee footnote \\\\ref{conv}. The dilaton dependence follows from \\nsupersymmetry and the $SL(2,Z)$ symmetry of IIB string theory \\n\\\\cite{Green1,E32}. This behavior takes into account non-perturbative\\neffects as well. At string tree-level $\\\\g(\\\\f)|_{tree} = \\\\frac{1}{8} \\n\\\\zeta(3)$.\\n\\nThe equations of motion of IIB supergravity in the Einstein frame,\\nrestricted on these fields, and including the\\ncorrections from (\\\\ref{Sw}), read,\\n\\\\bea \\\\label{eqn}\\nE_{ij} &\\\\equiv&\\nR_{ij}- \\\\half \\\\,g_{ij}\\\\,R -{1 \\\\over 2}\\n[\\\\pa_i\\\\f\\\\pa_j\\\\f -\\\\half\\\\,g_{ij}\\\\,(\\\\pa\\\\f)^2]\\n-{g_s^2 \\\\over 96}\\\\,(F_{il_1\\\\ldots l_4} F_j{}^{l_1\\\\ldots l_4}\\n-{1 \\\\over 10} g_{ij} F_5^2) \\\\nonu\\n&&+\\\\,(w_{ij}-\\\\half\\\\,g_{ij}\\\\, \\\\g(\\\\f) \\\\,W)=0 \\\\\\\\\\nE &\\\\equiv& \\\\Box\\\\f\\n-\\\\g_\\\\f(\\\\f)\\n%+{3 \\\\over 2} \\\\g e^{-\\\\frac{3}{2}\\\\f}\\nW =0 \\\\label{feqn} \\\\\\\\\\nF_5&=&\\\\star F_5 \\\\label{sdeqn}\\n%0&=&R_{ij} - {1 \\\\over 2} \\\\pa_i \\\\phi \\\\pa_j \\\\phi -\\n%\\\\frac{1}{96} F_{il_1\\\\ldots l_4} F_j{}^{l_1\\\\ldots l_4}\\n%+\\\\g e^{-\\\\frac{3}{2} \\\\phi} \\\\left[\\\\frac{1}{8} (W + w^{kl} g_{kl})g_{ij}\\n%- w_{ij} \\\\right]\\n\\\\eea\\nwhere\\\\footnote{ \\n$D_w=i (\\\\t_2 \\\\pa/\\\\pa \\\\t - iw/2)$ and $\\n\\\\bar{D}_{\\\\hat{w}}=-i (\\\\t_2 \\\\pa/\\\\pa \\\\t + i\\\\hat{w}/2)$ are \\nmodular covariant derivatives that map a modular form of weight \\n$(w,\\\\hat{w})$ to another one of a different weight,\\n$D_w F^{(w,\\\\hat{w})} = F^{(w+1,\\\\hat{w}-1)}$, \\n$\\\\bar{D}_{\\\\hat{w}} F^{(w,\\\\hat{w})} = F^{(w-1,\\\\hat{w}+1)}$.}\\n\\\\be \\n\\\\g_\\\\f = \\n{\\\\pa \\\\g \\\\over \\\\pa \\\\f} = - {1 \\\\over 32} \\\\a'^3 g_s^{3/2}(D_0 + \\\\bar{D}_0) E_{3/2}\\n%= - {1 \\\\over 32} g_s^{3/2} \\\\left(f^{(1,-1)}(\\\\f) + f^{(-1,1)}(\\\\f)\\\\right)\\n\\\\ee\\nand \\n$w_{ij}$ is defined by\\n\\\\be \\\\label{wij}\\n\\\\int d^{10} x \\\\sqrt{g}\\\\, \\\\g(\\\\f)  \\\\d W =\\n\\\\int d^{10} x \\\\sqrt{g}\\\\, \\\\d g^{ij} w_{ij}\\n\\\\ee\\nand is given in Appendix \\\\ref{direct}. Using the fact that the Weyl tensor is Weyl invariant\\none can show that\\n\\\\be\\ng^{ij} w_{ij} = 4\\\\, \\\\g(\\\\f) W~.\\n\\\\ee\\n\\nNotice that the self-duality equation (\\\\ref{sdeqn}) is expected to\\nreceive corrections from the $\\\\a'{}^3$ terms that depend on $F_5$.\\nThe reason is the following. An $F_5$-dependent $\\\\a'$ correction will\\ngive rise, upon variation w.r.t. the gauge field,\\nto the equation\\n\\\\be \\\\label{sdmo}\\n\\\\frac{1}{ \\\\sqrt{-g}} \\\\frac{1}{2 \\\\cdot 4!}\\n\\\\pa_l ( \\\\sqrt{-g} F^{li_1..i_{5}}) +\\n\\\\g\\\\, w_A{}^{i_1..i_{5}} = 0\\n\\\\ee\\nwhere $w_A{}^{i_1..i_{5}}(g,A,\\\\phi)$ is the variation of the extra\\nterm w.r.t. the gauge field. Suppose now that the self-duality\\ncondition holds. The first term in (\\\\ref{sdmo}) would then vanish\\nby itself and we obtain,\\n\\\\be\\nw_A{}^{i_1..i_{5}} (g,A,\\\\phi) = 0\\n\\\\ee\\nWe thus find a new equation arising at order $\\\\a'^3$.\\\\footnote{\\nThis conclusion would be avoided if there is a higher\\nderivative term that depends on $F_5$ and is not zero\\non-shell (w.r.t. the lowest order equations), but whose variation\\nvanishes on-shell. As far as we can tell, this cannot happen.}\\nThe higher derivative terms, however, should only correct the lowest\\norder equations, not introduce new equations. Any new equations\\nwould generically make the system of equations inconsistent.\\nIt follows that if the higher derivative terms are $F_5$ dependent,\\nthe self-duality condition will have to be deformed. Notice\\nthat any superinvariant\\nbased on the dilaton superfield will contain such terms \\\\cite{paper}.\\nSince in this work we only take into account (\\\\ref{Sw}) the self-duality\\nequation holds at order $\\\\a'{}^3$ as well.\\nThis is one point where the complete analysis is expected to deviate\\nfrom the analysis presented here.\\n\\nWe look for perturbative solutions in $\\\\a'$\\nof these equations of motion. The general ansatz we consider is\\n\\\\be \\\\label{ansatz}\\nds^2 = e^a \\\\left((- f dt^2  + d \\\\vec{x}^2)\\n+ e ^h (f^{-1} dr^2 + r^2 d\\\\O_5^2)\\\\right)\\n\\\\ee\\nwhere the functions $a$, $h$ and $f$ depend only on the radius $r$.\\nExtremal solutions have $f=1$, but\\nwe will keep $f$ arbitrary for the time being, and set $f=1$\\nat a later stage.  The self-duality condition\\nis solved by,\\n\\\\be \\\\label{sdsol}\\nF_{tabcr}  =  16 \\\\p N \\\\a'^2 \\\\epsilon_{abc} e^{-2 h} r^{-5}, \\\\qquad\\nF_{m_1...m_5} = 16 \\\\p N \\\\a'^2 \\\\e_{m_1...m_5}\\n\\\\ee\\nwhere $a,b,c$ are spatial worldvolume coordinates, $m_1,...m_5$ are indices\\non the $S^5$ directions and $\\\\e_{abc}$ and $\\\\e_{m_1...m_5}$\\nare the volume densities on flat $R^3$ and on the unit five-sphere, $S^5$,\\nrespectively.\\n\\nThe lowest order equations of motion admit the solution,\\n\\\\be \\\\label{Lorder}\\ne^{-2 a_0} = e^{h_0}=1 + {\\\\ell^4 \\\\over r^4}, \\\\qquad e^{\\\\f_0}=g_s, \\\\qquad\\nf=1, \\\\qquad \\\\ell^4 = 4 \\\\p g_s N \\\\a'^2\\n\\\\ee\\nwhere  the subscript in $a_0, h_0$, and $\\\\f_0$  indicates that this\\nis the lowest order solution. The solution\\ndescribes the long range field of $N$ D3-branes. Removing\\nthe ``1'' from the harmonic function yields\\n$AdS_5 \\\\times S^5$, the near-horizon limit of the D3-branes.\\n\\nOur objective is to obtain a solution of the equations\\nof motion (\\\\ref{eqn}) perturbatively in $\\\\a'$, i.e. we will look for\\nsolutions\\n\\\\be \\\\label{peran}\\na=a_0 + \\\\g a_1, \\\\qquad\\nh=h_0 + \\\\g h_1, \\\\qquad\\n\\\\f=\\\\f_0 + \\\\g_\\\\f \\\\f_1, \\\\qquad f=1,\\n\\\\ee\\nTo obtain $a_1$, $h_1$ and $\\\\f_1$\\none may substitute the ansatz (\\\\ref{ansatz}) with the coefficients\\nin (\\\\ref{peran}) to the field equations (\\\\ref{eqn}) and keep only\\nthe terms of order $\\\\a'^3$. The computation involves evaluating the\\norder $\\\\a'^3$ terms in (\\\\ref{eqn}) on the lowest order\\nsolution (\\\\ref{Lorder}). We now present a few different formulations\\nof the problem.\\n\\n\\\\subsection{Direct computation} \\\\label{dir}\\n\\nThis is the straightforward approach where one first obtains\\n$w_{ij}$ by varying the new term in the $10d$ action and then substitutes\\nthe\\nlowest order solution. Both of these steps are straightforward but\\nvery tedious. The general expression for $w_{ij}$ is given in\\nappendix \\\\ref{direct}. The evaluation of the corrections on\\nthe lowest order solution is also very tedious\\nbecause the expressions involve tensors with complicated index\\ncontractions. A useful observation is that one can use the\\nsymmetries of the Weyl tensor to rewrite (\\\\ref{Wdef}) in the\\nfollowing compact form\\n\\\\be\\nW = B_{ijkl} (2 B^{iklj} - B^{lijk})\\n\\\\ee\\nwhere\\n\\\\be\\nB_{ijkl} = C^m{}_{ijn} C^n{}_{lkm}\\n\\\\ee\\nThis tensor is symmetric under a pair interchange and under simultaneous\\npermutation of the first two and last two indices,\\n\\\\be\\nB_{ijkl} = B_{klij}, \\\\qquad B_{ijkl}=B_{jilk}.\\n\\\\ee\\nThe use of Mathematica was instrumental\\nin obtaining the final equations. We will present these equations after\\npresenting two alternative methods for performing the computation.\\n\\n\\\\subsection{Palatini formalism}\\n\\nThere is an alternative method to derive field equations that is\\nparticularly useful in higher derivative actions. We outline it here because\\nit is completely general and can be used when there are no symmetries that\\none\\ncan employ to derive a simple form of the action (as we do in the next\\nsubsection). Furthermore, this method is simpler than the direct\\nderivation of the equations of motion described in the previous\\nsubsection. In this method one constructs a Palatini action\\nthat is first rather than second order in derivatives, and has the metric\\nand the\\ncovariant derivative (or, equivalently, the Christoffel symbols)\\nas independent variables (see \\\\cite{Wald} for an elementary exposition):\\n\\\\be\\nI[g,\\\\G]=\\\\int\\\\dd^{10}x\\\\,\\\\@{g}\\\\left(R[g,\\\\G] -\\\\half(\\\\pa\\\\phi)^2\\n-{g_s^2\\\\over4\\\\cdot5!}\\\\,F_5^2 +\\\\g(\\\\f) \\\\, \\n%e^{-{3\\\\over2}\\\\f}\\\\, \\nW[g,\\\\G]\\\\right).\\n\\\\ee\\nIn deriving the equations of motion, let us vary the connection first. This\\ngives:\\n\\\\bea\\n\\\\d^{(j}_i \\\\na_l g^{k)l} - \\\\na_i g^{jk} + (g^{jk} \\\\d^p_i - \\\\d^{(j}_i g^{k)p})\\n(\\\\G^l_{lp} - \\\\pa_p \\\\log \\\\sqrt{g}) + \\n%e^{-{3\\\\over2}\\\\f}\\\\,\\nW_i^{jk} =0~,\\n\\\\eea\\nwhich at lowest order in $\\\\a'$ implies the usual compatibility condition\\nbetween\\nthe metric and the connection. Standard manipulations yield:\\n\\\\be\\n\\\\G^k_{0ij}=\\\\half\\\\,g_0^{kl}(\\\\pa_ig_{0jl} +\\\\pa_jg_{0ik} -\\\\pa_lg_{0ij})~.\\n\\\\ee\\nWe also find the following solution at next order:\\n\\\\bea\\n\\\\G^k_{1ij}&=& -{1\\\\over18} (\\\\d^k_iW_{jl}^{\\\\,\\\\,\\\\,\\\\,\\\\,\\\\,l}\\n+\\\\d^k_jW_{il}^{\\\\,\\\\,\\\\,\\\\,\\\\,\\\\,l}) +\\\\half \\\\,(W_{j\\\\,\\\\,\\\\,\\\\,i}^{\\\\,\\\\,\\\\,k}+\\nW_{i\\\\,\\\\,\\\\,\\\\,j}^{\\\\,\\\\,\\\\,k} - W^k_{\\\\,\\\\,\\\\,ij})\\\\nn\\n\\\\G^j_{1ij}&=&-{1\\\\over 9}\\\\,W_{ij}^{\\\\,\\\\,\\\\,\\\\,\\\\,\\\\,j},\\\\hspace{1cm}\\ng^{jk}\\\\G^i_{1jk}=-{1\\\\over 9}\\\\,W^{ij}_{\\\\,\\\\,\\\\,\\\\,\\\\,\\\\,j}.\\n\\\\eea\\nThe r.h.s. of the above formulas should be read as being evaluated in the\\nlowest\\norder metric. $W_i{}^{jk}$ is such that\\n\\\\be\\n\\\\int \\n%e^{-{3\\\\over2}\\\\f}\\\\,\\n\\\\g(\\\\f)\\\\,\\n\\\\d W = \\\\int \\n%e^{-{3\\\\over2}\\\\f}\\n\\\\d g^{ij} W_{ij} +\\\\int \\\\d \\\\G^i_{jk} \\nW_i{}^{jk}.\\n\\\\ee\\nThese tensors satisfy the following identities:\\n\\\\bea\\ng^{ij}W_{ij}&=&4 \\\\g(\\\\f) W\\\\nn\\nW^j{}_{ji}&=&\\\\half W_{ij}{}^j.\\n\\\\eea\\nBy explicit computation one finds that $W_i{}^{jk}$ is given by the covariant\\nderivative of a tensor that is cubic in the Weyl tensor, although we will\\nnot\\ngive the explicit expression here. Symbolically, $W_i{}^{jk}$ has the\\nstructure:\\n$W\\\\sim \\\\na(\\\\g(\\\\f)CB)$ where $B$ is the tensor defined in the previous section.\\nAt the\\nend of the day, the combination that appears in the equation of motion is\\ngiven\\nin terms of a {\\\\it single} scalar function of $r$ when computed\\nfor the lowest\\norder solution, but we will not report the details here.\\n\\nThe remaining equations for the metric and matter fields are also easily\\nderived. In particular, deriving the equation of motion for the metric is\\nmuch\\nsimpler than in the second order formalism. One obtains equations of motion\\nwhere the Ricci tensor depends on both $g$ and $\\\\G$. One then expands this\\nin\\nthe above solutions to obtain the standard form of the Einstein equations:\\n\\\\bea\\nR_{ij}-\\\\half\\\\,\\\\pa_i\\\\f\\\\pa_j\\\\f -{g_s^2\\\\over96}\\\\,\\n%[\\nF_5^2{}_{ij}\\n%-{1\\\\over10}\\\\,g_{ij}\\\\,F_5^2]\\n+ \\n%e^{-{3\\\\over2}\\\\f}\\n[W_{ij}-{3\\\\over8}\\\\, g_{ij} \\\\g(\\\\f)\\\\, W] &+&\\\\nn\\n+\\\\half\\\\,\\\\na_k[W_{j\\\\,\\\\,\\\\,\\\\,i}^{\\\\,\\\\,\\\\,k} + W_{i\\\\,\\\\,\\\\,\\\\,j}^{\\\\,\\\\,\\\\,k} -\\nW^k_{\\\\,\\\\,\\\\,ij}]&=&0\\\\nn\\n\\\\Box\\\\f \\n%+{3\\\\over2}\\\\,\\\\a'^3e^{-{3\\\\over2}\\\\f}\\\\,\\n-\\\\g_\\\\f \\\\,\\nW&=&0,\\n\\\\le{palatinieom}\\nwhich are supplemented with the self-duality condition. These equations are\\nequivalent to the ones found by direct computation, but their\\nderivation is simplified.\\n\\n\\n\\\\subsection{Effective $1d$ action}\\n\\nWe show in this subsection that for spherically symmetric solutions, there\\nis an effective one-dimensional action that yields the\\nsame field equations as (\\\\ref{eqn}) evaluated on the ansatz (\\\\ref{ansatz}).\\nTo obtain the one-dimensional action we start from the variation of the\\nten-dimensional action,\\n\\\\be \\\\label{var1}\\n\\\\d I = \\\\int d^{10}x\\\\,\\\\sqrt{g}\\\\, [\\\\d g^{ij} E_{ij} + \\\\d \\\\f E]~.\\n\\\\ee\\nwhere we have substituted the solution (\\\\ref{sdsol}) of\\nthe self-duality equation (\\\\ref{sdeqn}) in $E$ and $E_{ij}$.\\nWe now use the ansatz (\\\\ref{ansatz})\\nto express $\\\\d g^{ij}$  in terms of $\\\\d a, \\\\d h,$ and $\\\\d f$.\\nThis yields\\n\\\\be \\\\label{var2}\\n\\\\d I = \\\\int d^{10}x\\\\, \\\\sqrt{g}\\\\, [- \\\\d a  (g^{ij} E_{ij})\\n+{\\\\d f \\\\over f} (g^{rr} E_{rr} - g^{tt} E_{tt})\\n-\\\\d h (g^{rr} E_{rr} + g^{mn} E_{mn})\\n+ \\\\d \\\\f E]~.\\n\\\\ee\\nSince all the fields depend only on the radial variable, one can\\nnow perform all integrations but the radial one.\\nThe resulting variations can be integrated again to an one dimensional\\naction,\\n\\\\bea\\nI_{1d}&=& \\\\int dr e^{4a + 2 h} \\\\frac{r^5}{\\\\ell^5} \\\\left[\\n  \\\\frac{1}{6}\\n\\\\left( 64 f a''+  40 f h'' + 148 f a'^2 +\\n       168  f a' h' + 50 f h'^2 + 3  f \\\\phi'^2  \\\\right. \\\\right. \\\\nonu\\n&& \\\\left. \\\\qquad\\n       + 400 \\\\frac{f a'}{r} +  240 \\\\frac{f h'}{r} + 200 \\\\frac{f}{r^2} +\\n       6 f'' + 64  f' a'  + 37 f' h'\\n       + 80  \\\\frac{f'}{r} - \\\\frac{120}{r^2} \\\\right) \\\\nonu\\n&& \\\\left. \\\\qquad\\n+\\\\frac{8 \\\\ell^8}{r^{10} e^{4(a+h)}} - \\\\g(\\\\f) e^{a+h} W\\n\\\\right] \\\\label{1daction}\\n\\\\eea\\nwhere we have discarded an overall (infinite) volume factor.\\n$W$ is given by (\\\\ref{Wdef}) evaluated on (\\\\ref{ansatz}). It is a function\\nof   $a$, $h$, $f$ and their first two radial derivatives. The\\nexplicit expression is given in appendix A.\\n\\nNotice that this derivation of the effective action guarantees\\nthat all solutions of the $1d$ action are solutions of the\\n$10d$ action. In other words, the reduction from\\n$10d$ to $1d$ is consistent. What is crucial is that the number of\\nindependent functions appearing in the ansatz (\\\\ref{ansatz})\\nis equal to the number of equations one gets by evaluating\\n(\\\\ref{eqn}) on the (\\\\ref{ansatz}). For the problem at hand\\nthis number is four even when $f=1$, so even in this case\\none must first proceed with general $f$ and then set $f=1$.\\nThe method presented here can be used more generally in\\norder to provide consistent reductions of the higher\\ndimensional theories. One should contrast this method\\nwith the most common practice to substitute an ansatz in the\\naction and then reduce. This latter does not guarantee a consistent\\nreduction.\\n\\nIt is instructive to rewrite (\\\\ref{1daction}) in terms of\\nthe variables used in the reduction of the type IIB supergravity over $S^5$.\\nSuch a reduction was presented\\nin \\\\cite{GKT}. Using their variables the one-dimensional action reads\\n\\\\bea \\\\label{5daction}\\nI_{1d} &=& -\\\\int dr \\\\sqrt{g_5} \\\\left[R_5 - \\\\frac{1}{2}\\ng_5^{rr}(\\\\partial_r \\\\phi)^2\\n-\\\\frac{40}{3} g_5^{rr} (\\\\partial_r \\\\nu)^2 - V(\\\\nu)\\n+ \\\\g(\\\\f) e^{-\\\\frac{10}{3} \\\\nu} W \\\\right] \\\\\\\\\\nV(\\\\nu) &=&\\n\\\\frac{1}{\\\\ell^2}\\n\\\\left[8 e^{-\\\\frac{40}{3} \\\\nu} -\\n20 e^{-\\\\frac{16}{3} \\\\nu} \\\\right] \\\\label{potential}\\n\\\\eea\\nwhere $g_5$ denotes the determinant of the five dimensional\\nmetric $g_{5mn}$ given in (\\\\ref{5dmetric}).\\nThe fields appearing in this action are related to the $a, h$ and $f$ by\\n\\\\bea\\n\\\\nu(r) &=& \\\\frac{1}{2} (a+h) + \\\\log{\\\\frac{r}{\\\\ell}} \\\\\\\\\\nds_5^2 =g_{5 mn} dx^m dx^n &=& e^{ {1 \\\\over 3}(8 a + 5 h)}\\n\\\\left({r \\\\over \\\\ell}\\\\right)^{{10 \\\\over 3}}\\n(-f dt^2 + \\\\d_{ab} dx^a dx^b +\\n\\\\frac{e^h}{f} dr^2) \\\\label{5dmetric}\\n\\\\eea\\nThis can be shown using the standard reduction formula\\n\\\\be\\nds_{10}^2 =e^{-\\\\frac{10}{3} \\\\nu} g_{5 mn} dx^m dx^n +\\ne^{2 \\\\nu} \\\\ell^2 d \\\\Omega_5^2\\n\\\\ee\\nand matching with the ansatz in (\\\\ref{ansatz}). The dimensionful\\nparameter $l$ is proportional to the Planck length and is\\nintroduced into the ansatz on dimensional grounds.\\n\\nThe equations of motion that follow from (\\\\ref{1daction}) with $f$ set equal\\nto one, $f=1$, are given by\\n\\\\bea\\n&&18 a'' + 10 h''+ 36 a'^2 + 36 a'h' + 10 h'^2 + \\\\phi'^2\\n+ \\\\frac{90 a'}{r} + \\\\frac{50 h'}{r}\\n+ \\\\gamma w_a =0 \\\\label{eaex} \\\\\\\\\\n&&10 (a'' + \\\\half h'') + 2 a'^2 + 20(a'+\\\\half h')^2 +\\n\\\\frac{1}{2} \\\\phi'^2 + \\\\frac{50}{r} (a' + \\\\half h')\\n- \\\\frac{8 \\\\ell^8}{r^{10} e^{4(a+h)}}   \\\\nonu\\n&& \\\\qquad + \\\\gamma w_h =0 \\\\label{ehex} \\\\qquad \\\\\\\\\\n&&8 a'' + 5 h''  - 4 a'^2 - 4 a' h' + \\\\phi'^2+ \\\\frac{5 h'}{r}\\n+\\\\gamma w_f =0  \\\\label{efex} \\\\\\\\\\n&&\\\\phi''  + (4 a' + 2 h' + \\\\frac{5}{r} )\\\\phi'\\n- 2 \\\\gamma_\\\\f w_{\\\\f} =0 \\\\label{ephiex}\\n\\\\eea\\nwhere $\\\\g w_a$ is the variation of $\\\\a'^3$ term in action\\n(\\\\ref{1daction}) with respect to $a$, etc.\\\\ . We give\\nin appendix \\\\ref{direct} the explicit form of $W$ as a function\\nof $a$, $h$, $f$ and their derivatives. From there one may\\nderive $w_a$ etc. The evaluation of the corrections\\non the lowest order solution  (\\\\ref{Lorder})\\nis given by\\n\\\\bea \\\\label{ws}\\nw_a &=& w_\\\\f =  - 14400\\n\\\\frac{\\\\ell^{16}}{r^{24} e^{{19 \\\\over 2} h_0}} \\\\nonu\\nw_h  &=& -\\\\frac{4800 \\\\ell^{12}}{r^{28} e^{{19 \\\\over 2} h_0}}\\n(112 \\\\ell^8-249 \\\\ell^4 r^4 + 84 r^8)  \\\\\\\\\\nw_f &=& \\\\frac{28800 \\\\ell^{12}}{r^{28} e^{{19 \\\\over 2} h_0}}\\n(14 \\\\ell^8- 35 \\\\ell^4 r^4 + 10 r^8)  \\\\nonumber\\n\\\\eea\\nNotice that the metric in (\\\\ref{ansatz}) depends on $a$ only through\\nan overall conformal factor. It follows that\\nthe Weyl tensor does not depend on $a$, and that $W$\\ndepends on it only through the inverse metrics used in contracting\\nindices. This explains why $w_a$ is equal to $w_\\\\f$.\\n\\nWe have explicitly verified that the equations (\\\\ref{eaex})-(\\\\ref{ephiex})\\nare equivalent to the equations one obtains by evaluating (\\\\ref{eqn}) on the\\nansatz (\\\\ref{ansatz}), as discussed in subsection \\\\ref{dir}.\\nThis remains true even when $f$ is not set equal\\nto one. This a nice check, especially on\\n$w_a, w_h, w_f$ and $w_\\\\phi$, as the organization of the two\\ncomputations is rather different.\\nIn the next section we present\\nyet another reformulation in terms of first order equations.\\n\\n\\n\\\\section{First order system} \\\\label{fo}\\n\\\\setcounter{equation}{0}\\n\\nThe D3 brane solution is half supersymmetric \\\\cite{DL1}.\\nThis implies that there must be an equivalent first order formulation\\nof the field equations when the ansatz for the solution is consistent\\nwith supersymmetry.\\nIn this section we set $f=1$, and present such a reformulation.\\nA (somewhat different) discussion of first order equations\\nappeared in \\\\cite{FT}.\\n\\nLet us first consider the effective action without the $\\\\a'$ correction.\\nThe potential in (\\\\ref{potential}) has an AdS critical point at\\n$\\\\nu=0$.  This critical point is stable\\nas it is maximally supersymmetric. It follows that the potential\\n$V(\\\\nu)$ admits a ``superpotential'' $\\\\cw$ such that the AdS critical\\npoint is a critical point of $\\\\cw$ \\\\cite{Town}. Indeed, one finds that\\nthe potential (\\\\ref{potential}) can be rewritten as\\n\\\\bea \\\\label{potential1}\\nV(\\\\nu) &=& {3 \\\\over 10}\\n\\\\left(\\\\frac{\\\\pa \\\\cw_{\\\\pm}}{\\\\pa \\\\nu} \\\\right)^2 - \\\\frac{16}{3} \\\\cw_{\\\\pm}^2 \\\\\\\\\\n\\\\cw_{\\\\pm} &=&\\n\\\\frac{1}{\\\\ell}\\n\\\\left[e^{-\\\\frac{20}{3} \\\\nu} \\\\pm \\\\frac{5}{2}\\ne^{-\\\\frac{8}{3} \\\\nu} \\\\right]~.\\n\\\\eea\\nThe formula for the potential (\\\\ref{potential1}) coincides with the one\\nin \\\\cite{Town} after\\nthe differences in conventions are taken into account.  The AdS\\ncritical point is also a critical point of $\\\\cw_-$.\\nWe shall henceforth consider only $\\\\cw_-$, which we shall denote $\\\\cw$,\\nand only add a few comments about $\\\\cw_+$.\\n\\nA simple Bogomolnyi argument implies that the theory\\nadmits BPS domain wall solutions \\\\cite{ST,DFGK}\\n\\\\bea \\\\label{DW}\\nds_5^2 &=& e^{2 c(\\\\r)} \\\\eta_{ab} dx^a dx^b + d\\\\r^2 \\\\\\\\\\n\\\\nu&=&\\\\nu(\\\\r) \\\\nonumber \\\\\\\\\\n\\\\f &=&\\\\f(\\\\r) \\\\nonumber\\n\\\\eea\\nwhere $c(\\\\r)$ and $\\\\nu(\\\\r)$ are solutions of the first order equations\\n\\\\be \\\\label{1st}\\n\\\\pa_\\\\r \\\\nu = {3 \\\\over 20} \\\\frac{\\\\pa \\\\cw}{\\\\pa \\\\nu}, \\\\qquad\\n\\\\pa_\\\\r c = -\\\\frac{2}{3} \\\\cw, \\\\qquad\\n\\\\pa_\\\\r \\\\f=0~.\\n\\\\ee\\nOne can verify that solutions of the first order system solve the second\\norder equations.\\nThe first order equations also follow from the requirement that the\\n``Killing\\nspinor'' equations\\n\\\\be \\\\label{suru}\\n(D_\\\\m + {1 \\\\over \\\\sqrt{15}} \\\\cw \\\\G_\\\\m) \\\\e =0, \\\\qquad\\n(\\\\G^\\\\m \\\\pa_\\\\m \\\\nu  - {3 \\\\over 5 \\\\sqrt{2}} {\\\\pa \\\\cw \\\\over \\\\pa \\\\n}) \\\\e =0,\\n\\\\qquad\\n\\\\G^\\\\m \\\\pa_\\\\m \\\\f \\\\e =0\\n\\\\ee\\nadmit solutions for non-zero spinor $\\\\e$ \\\\cite{ST}. In the context of\\nsupergravity\\nthese are the variations of the gravitino and dilatino, and\\nthe solutions of the first order equations are supersymmetric solutions.\\n\\nThe coordinate transformation,\\n\\\\be \\\\label{tr}\\nr=r(\\\\r), \\\\qquad {d \\\\r \\\\over d r} =\\n\\\\left({r \\\\over l}\\\\right)^{5/3} e^{{4 \\\\over 3} (a(r) + h(r))},\\n\\\\ee\\ncan bring the metric (\\\\ref{5dmetric}) to the form (\\\\ref{DW}).\\nFurthermore, $a(r)$ and $h(r)$ are related to $c(\\\\r)$ and\\n$\\\\nu(\\\\r)$ in a simple way,\\n\\\\bea \\\\label{nuc}\\n\\\\nu(\\\\r)&=&\\\\frac{1}{2} [a(r(\\\\r))+h(r(\\\\r))] + \\\\log {r(\\\\r) \\\\over l}\\\\\\\\\\nc(\\\\r) &=&\\n{1 \\\\over 3} [4 a(r(\\\\r))) + {5 \\\\over 2} h(r(\\\\r)) + 5 \\\\log\\n{r(\\\\r) \\\\over l}] \\\\label{nuc1}\\n\\\\eea\\nIt follows that one can obtain first order equations for\\n$a$ and $h$ by substituting  (\\\\ref{nuc}) and (\\\\ref{nuc1})\\nin (\\\\ref{1st}).  One obtains,\\n\\\\be \\\\label{susy}\\n\\\\pa_r a + \\\\pa_r h + {2 l^4 \\\\over r^5} e^{-2 (a+h)} =0, \\\\qquad\\n4 \\\\pa_r a + {5 \\\\over 2} \\\\pa_r h + {2 l^4 \\\\over r^5} e^{-2 (a+h)} =0, \\\\qquad\\n\\\\qquad \\\\pa_r \\\\f=0.\\n\\\\ee\\nThese are exactly the equations that follow from\\nthe analysis of supersymmetry in ten dimensions \\\\cite{DL1}.\\n\\nBefore we move on to consider the modification due to $\\\\a'$ corrections\\nwe note that had we considered the superpotential $\\\\cw_+$, we\\nwould have ended up with a solution of the form (\\\\ref{Lorder})\\nbut with\\n\\\\be\\ne^{h_0} = 1 - {l^4 \\\\over r^4}, \\\\quad r^4 > l^4, \\\\qquad\\ne^{h_0} = -1 + {l^4 \\\\over r^4}, \\\\quad r^4 < l^4\\n\\\\ee\\nThis solution has a curvature singularity at $r=l$, and\\nis related to the standard D3 brane solution by analytic\\ncontinuation to imaginary $r$.\\n\\n\\\\subsection{$\\\\a'$ corrections to the first order system}\\n\\nWe now discuss the extension of the analysis to include the $\\\\a'$\\ncorrections.\\nIdeally one would like to write the effective action as a sum and/or\\ndifferences of\\nsquares and then read off the $\\\\a'$-corrected first order equations.\\nSuch a rewriting should be possible because of supersymmetry.\\nHowever, the complexity of $W$ for general $h, a$ and $\\\\f$\\nmakes such an exercise rather formidable. Furthermore, as\\nwe discussed, our action is not complete since further relevant\\nbosonic terms may be present and such additional terms may be\\nnecessary in order to rewrite the action as a sum of squares.\\n\\nWe proceed by adding order $\\\\a'^3$ terms in (\\\\ref{susy}) and demand that\\nthe solutions of the first order system solve the second order equations\\n(\\\\ref{eaex})-(\\\\ref{ephiex}),\\n\\\\bea \\\\label{1stal}\\na' + h' + {2 l^4 \\\\over r^5} e^{-2 (a+h)} &=& \\\\gamma j_1(r) \\\\\\\\\\n4 a' + {5 \\\\over 2} h' + {2 l^4 \\\\over r^5} e^{-2 (a+h)} &=& \\\\gamma \\nj_2(r)\\n\\\\label{1stal2} \\\\\\\\\\n\\\\f' &=&2 \\\\c_\\\\f  j_3(r)  \\\\label{aord}\\n%\\\\pa_\\\\r \\\\nu - {3 \\\\over 20} \\\\frac{\\\\pa \\\\cw}{\\\\pa \\\\nu}\\n%\\\\pa_\\\\r c + \\\\frac{2}{3} \\\\cw &=& \\\\gamma J_2(\\\\r) \\\\nonu\\n%\\\\pa_\\\\r \\\\f &=& F_1(\\\\r)\\n\\\\eea\\nwhere prime indicates a derivative w.r.t. $r$.  This yields\\n\\\\bea\\nj_1&=&2(1+{10 \\\\over r h_0'}) b_1 - {1 \\\\over 2 h_0'} (w_h + w_f - w_a), \\\\nonu\\nj_2&=&5(1+{4 \\\\over r h_0'}) b_1 - {1 \\\\over 2 h_0'} (w_h + w_f - w_a), \\\\nonu\\nj_3 &=& \\\\frac{1}{r^{5}}\\\\int^r dr' r'^{5} w_\\\\f + {C_1 \\\\over r^{5}} \\\\label{j3}\\n\\\\eea\\nwhere $b_1 \\\\equiv a_1'+\\\\half h_1'$ satisfies\\n\\\\be \\\\label{bode}\\nb_1'+{9 \\\\over r} b_1 = {1 \\\\over 10} ( w_f - w_a)\\n\\\\ee\\nNotice that supersymmetry demands that $b_0=0$\\nto lowest order.\\nThere are non-supersymmetric solutions of the lowest\\norder second order equations (\\\\ref{eaex})-(\\\\ref{ephiex}),\\nincluding non-supersymmetric solutions with $b_0=0$,\\nas we discuss in the appendix \\\\ref{gene}, but we shall not consider them\\nhere.\\n\\nOnce  $w_f$, $w_a$ and $w_h$ are computed using the lowest order solution,\\n(\\\\ref{bode}) for $b_1$ and the equation for $j_3$ can be easily integrated.\\n$b_1$ in turn gives the source terms $j_1$, and $j_2$.\\nThe integration constants are fixed by requiring that\\nsolution is asymptotically flat and\\nregular at the horizon.\\n%One can integrate (\\\\ref{bode})\\n% to obtain\\n% \\\\bea\\n% b_1 &=&\\n% -\\\\frac{C_0}{r^9} - \\\\frac{16\\\\,l^{12}\\\\,}\\n% {2431\\\\, {\\\\k_0}^2\\\\,r^{43}\\\\, H_0^{17/2}}\\n%      \\\\left( -256\\\\,l^{24} - 2176\\\\,\\\\k_0\\\\,l^{20}\\\\,r^4 -\\n%        8160\\\\,{\\\\k_0}^2\\\\,l^{16}\\\\,r^8 -\\n%        17680\\\\,{\\\\k_0}^3\\\\,l^{12}\\\\,r^{12} \\\\right. \\\\nn\\n% &-& \\\\left.\\n%        24310\\\\,{\\\\k_0}^4\\\\,l^8\\\\,r^{16} -\\n%        328185\\\\,{\\\\k_0}^5\\\\,l^4\\\\,r^{20} +\\n%        437580\\\\,{\\\\k_0}^6\\\\,r^{24} \\\\right)\\n% \\\\eea\\n%and the integral in $j_3$ can also be easily performed.\\n\\n\\\\subsection{$\\\\a'$-corrected solution}\\n\\nUsing the $w$'s in (\\\\ref{ws}) one can easily compute the\\nsources,\\n\\\\bea\\nj_1(r) &=&\\nC_0 \\\\frac{ 3 \\\\ell^4 + 5 r^4}{r^{9} \\\\ell^4}\\n- \\\\frac{16 \\\\ell^{12}}{2431 r^{43} e^{\\\\frac{17}{2} h_0} } \\\\left[\\n768 \\\\ell^{24} + 7808 \\\\ell^{20} r^4\\n+35360 \\\\ell^{16} r^8 \\\\right.  \\\\nonu\\n&&\\n\\\\left. + 93 840 \\\\ell^{12} r^{12} +\\n161330 \\\\ell^8 r^{16} +\\n365 86 55 \\\\ell^4 r^{20} - 3500640 r^{24} \\\\right] \\\\\\\\\\nj_2(r) &=&\\n\\\\frac{5 C_0}{r^5 \\\\ell^4}\\n- \\\\frac{320 \\\\ell^{12}}{2431 r^{39} e^{\\\\frac{17}{2} h_0}}\\n\\\\left[ 64 \\\\ell^{20} + 544 \\\\ell^{16} r^4\\n+2040 \\\\ell^{12} r^8\\n+ 4420  \\\\ell^8 r^{12}\\n\\\\right. \\\\nonu\\n&& \\\\left.\\n+ 133705  \\\\ell^{4} r^{16} -\\n109395  r^{20} \\\\right] \\\\nonu\\nj_3(r)&=&\\n\\\\frac{C_1}{r^5} - \\\\frac{160 \\\\ell^{16}}{\\n     2431 r^{39}  e^{\\\\frac{17}{2} h_0}}\\n     \\\\left( 128\\\\,\\\\ell^{16} + 1088\\\\,\\\\ell^{12}\\\\,r^4 +\\n       4080 \\\\,\\\\ell^8\\\\,r^8  + 8840\\\\,\\\\ell^4\\\\,r^{12} +\\n       12155\\\\, r^{16} \\\\right). \\\\nonumber\\n\\\\eea\\nThe integration constants $C_0$ and $C_1$ can be fixed\\nby requiring that the terms on the right hand side\\nof (\\\\ref{1stal})-(\\\\ref{aord}) are small\\ncompared to the terms on the left hand side for all $r$.\\nThis implies that $j_1, j_2$ and $j_3$ should be\\nat most the same order as the terms on the left hand side.\\nNear $r=0$ the terms on the left hand side behave as\\n$1/r$. On the other hand, $j_1$ behaves as $1/r^9$ and\\n$j_2$ and $j_3$ as $1/r^4$. This can be remedied by choosing\\nappropriately the integration constants,\\n\\\\be \\\\label{intcon}\\nC_0={2^{12} l^2 \\\\over 2431}, \\\\qquad C_1 = {5 \\\\over l^4} C_0~.\\n\\\\ee\\nThis is a non-trivial result since the number of terms that\\nwe need to set to zero is greater than the integration\\nconstants we have.\\nThe same values of integration constants follow by requiring\\nthat the solution we present in the next section is smooth at the horizon.\\n\\nWe note that the $j_1$ and $j_2$ are such that they cannot be absorbed into a\\n$\\\\a'$-modification of the superpotential $\\\\cw$. To check this one\\nmay rewrite (\\\\ref{1stal}) in the coordinate system (\\\\ref{tr}).\\nLet us call $J_1(\\\\r)$ and $J_2(\\\\r)$ the sources that appear on the\\nright hand side of the first and second equations in (\\\\ref{1st}).\\nOne may absorb $J_2(\\\\r)$ into $\\\\cw$ by  $\\\\cw'= \\\\cw -{3 \\\\over 2} \\\\g J_2$.\\nIn order for this transformation to also remove the source $J_1$ the following\\nrelation should hold,\\n\\\\be\\n{\\\\pa J_2 \\\\over \\\\pa \\\\r} + {2 \\\\over 3} {\\\\pa \\\\nu \\\\over \\\\pa \\\\r} J_1 =0~.\\n\\\\ee\\nA direct computation shows that this is not satisfied, but we note that\\nthere are (unexpected) cancellations between the two terms. Had we\\nbeen able to absorb the sources into a modified superpotential,\\nwe would conclude that the form of the supersymmetry rules\\nin (\\\\ref{suru}) is not modified at order $\\\\a'^3$, so these\\nresults may be taken to indicate that there are new terms in the\\nsupersymmetry\\ntransformation rules at order $\\\\a'^3$. We should add however that\\ngiven that we only consider a part of the complete effective action\\nsuch a conclusion is premature.\\n\\nKnowing the sources,\\nit is straightforward to integrate the first order equations\\n(\\\\ref{1stal})-(\\\\ref{aord}).\\nTaking the sum of the first two equations one obtains a differential equation\\nfor $a+h/2$ which can be easily integrated. Feeding back one solves\\nfor $a_1$ and $h_1$. The integration of (\\\\ref{aord}) is\\nequally straightforward. All integration constants are set to zero\\nby requiring that the solution is asymptotically flat. The result is\\n% \\\\bea\\n% a_1 + \\\\half h_1 &=& \\\\frac{- C_0}{8 r^8}\\n% + \\\\frac{8 \\\\ell^{12}}{2431 \\\\k_0^2 e^{{15\\\\over 2} h_0} r^{38}}\\n% \\\\left[ -64 \\\\ell^{20} - 480 \\\\k_0 \\\\ell^{16} r^4 -1564 \\\\k_0^2 \\\\ell^{12} r^8\\n% -2890 \\\\k_0^3 \\\\ell^8 r^{12} \\\\right. \\\\nonu\\n% && \\\\left. - 3315 \\\\k_0^4 \\\\ell^4 r^{16} + 48620 \\\\k_0^5 r^{20} \\\\right] + C_2\\n% \\\\eea\\n\\\\bea\\nh_1 &=& - \\\\frac{1024 (3 \\\\ell^8 + 9 \\\\ell^4 r^4 + 10 r^8)}{\\n2431 \\\\ell^2 r^{12} e^{h_0}}\\n- \\\\frac{32 \\\\ell^{12}}{2431 r^{38} e^{{15 \\\\over 2} h_0}}\\n\\\\left[ -96 \\\\ell^{20}  - 912 \\\\ell^{16} r^4 - 3910 \\\\ell^{12}\\nr^8  \\\\right. \\\\nonu\\n&-& \\\\left. 22 355  \\\\ell^8 r^{12} - 97240 \\\\ell^4 r^{16} +\\n218 790 r^{20} \\\\right] \\\\nonu\\na_1 &=& \\\\frac{1024 (2 \\\\ell^8  + 5 \\\\ell^4 r^4 + 5\\nr^8)}{2431 \\\\ell^2 r^{12} e^{h_0}}\\n+ \\\\frac{8 \\\\ell^{12}}{2431 r^{38} e^{{15 \\\\over 2} h_0} } \\\\left[\\n-256 \\\\ell^{20} - 2304 \\\\ell^{16} r^4  \\\\right.\\n\\\\nonu\\n&-& \\\\left. 9384 \\\\ell^{12} r^8 -47600 \\\\ell^8 r^{12}\\n- 197795 \\\\ell^4 r^{16} +\\n486 200 r^{20} \\\\right] \\\\nonu\\n\\\\phi_1 &=&\\n-\\\\frac{10240}{2431 l^2 r^4}\\n+ \\\\frac{160 \\\\ell^{16}}{2431 r^{34} e^{{15 \\\\over 2}h_0}}\\n\\\\left[ 64 \\\\ell^{12} + 408 \\\\ell^8 r^4 + 1020 \\\\ell^4 r^8\\n+ 1105 r^{12} \\\\right] \\\\label{corrsol}\\n\\\\eea\\nThe corrections are smooth at $r=0$, and the choice of integration\\nconstants was crucial for this property.\\n\\nLet us consider the near horizon limit of the solution.\\nFollowing \\\\cite{Malda} we consider the limit,\\n\\\\be \\\\label{near}\\n\\\\a' \\\\to 0, \\\\qquad {r \\\\over \\\\a'}\\\\ {\\\\rm fixed}, \\\\qquad g_s  \\\\ {\\\\rm fixed}\\n\\\\ee\\nIn this limit we find that\\n\\\\be\\n\\\\g h_1 = - \\\\g a_1\\n%= {\\\\g \\\\over (g_s N)^{3/2}} {8 \\\\over 2431 \\\\p^{3/2}} =\\n={1 \\\\over N^{3/2}} {E_{3/2}(g_s) \\\\over 2 \\\\cdot 2431 \\\\p^{3/2}} , \\\\qquad\\n\\\\g_\\\\f \\\\f_1 = - 180 {\\\\g_\\\\f \\\\over \\\\g} (\\\\g h_1)\\n\\\\ee\\nIt is intriguing that even though we ignored higher derivative\\nterms that depend on $F_5$ the near horizon limit is still\\n$AdS_5 \\\\times S^5$, just as one would expect for the ``true''\\nD3 brane solution \\\\cite{BG,KR}. This may indicate that $F_5$\\ndependent terms can be ignored in the near-horizon limit.\\nRecall that in the near-horizon limit $F_5$ is proportional\\nto the volume form both in the $AdS_5$ and the $S^5$ directions.\\nOne may verify using the results in \\\\cite{paper}\\nthat the $F_5$ dependent terms of the dilaton superfield\\nvanish in this case. This is an additional indication\\nthat our results are exact in this case.\\n\\nNotice that the AdS radius does not receive corrections\\nbut the string coupling constant does. The choice of the\\nintegration constants in (\\\\ref{intcon}) is crucial for\\nthe limit (\\\\ref{near}) to exist.\\n\\n\\\\section{Thermodynamics of corrected solutions} \\\\label{sol}\\n\\\\setcounter{equation}{0}\\n\\nIn this section we discuss the thermodynamics of the\\ncorrected solution.  The quantities of interest are the\\nmass density\\\\footnote{Notice that\\nwe use interchangeably the terminology ``mass density''\\nand ``tension''. With abuse of terminology will also sometimes\\njust call ``mass'' the tension, and ``charge'' the charge\\ndensity. It will be clear, however, from the context\\nwhich quantity we are discussing.}, the temperature, the entropy and the\\ncharge density of the solution.  One may use either Euclidean\\nof Lorentzian methods to study thermodynamics. In the\\npresent case the self-duality of the lowest order solution\\npresents an additional complication in the Euclidean\\ncomputation since one needs to understand the proper\\nanalytic continuation of the self-duality condition.\\nWe will follow a Lorentzian analysis\\nand adapt the method of Wald \\\\cite{Wald1,Wald2,Wald3}\\nfor the problem at hand.\\n\\nRecall that the entropy, mass and charge of a black hole\\nsatisfy the first law of thermodynamics which in\\nintegrated form (Smarr formula) reads\\n\\\\be \\\\label{smarr}\\nT S = M - v Q\\n\\\\ee\\nHere $T$ is the Hawking temperature, $S$ is the entropy, $M$ is the\\nmass, $Q$ is the charge and $v$ the corresponding potential.\\nExtremal black holes have zero temperature $T=0$ (and quite often zero\\nentropy as well) so the Smarr formula implies,\\n\\\\be \\\\label{masscharge}\\nM=v Q\\n\\\\ee\\nIn the context of supersymmetric black holes, this relation\\noriginates from the supersymmetry algebra. The case of\\nD-branes is exactly analogous, but the appropriate quantities\\nare now densities. One may wrap the spatial worldvolume\\ncoordinates of the brane on a torus (or some other compact manifold)\\nand reduce over that manifold to obtain a black hole\\nin lower dimensions. For instance, the D3 brane can be viewed\\nas a $7d$ black hole after reduction over the spatial\\nworldvolume coordinates.\\nOur analysis will be done from the ten dimensional point of view.\\n\\nIn the presence of higher derivative terms, the extremal D3 brane\\nstill has zero temperature (as we verify below), so a relation of the\\nform (\\\\ref{masscharge}) should still hold since (\\\\ref{smarr}) follows\\nfrom first law alone. Since the charge of the D3 brane is quantized one\\nmight expect that (\\\\ref{masscharge}) would imply that the mass does\\nnot renormalize. We find, however, that things are more subtle\\nand both the mass and the potential $v$ renormalize.\\n\\nGiven a gravitational system described by an action $I$ one\\nmay compute the gravitational energy as follows.\\nLet us consider a spacetime $M$ and denote by\\n$\\\\pa M_\\\\infty$ its asymptotic infinity which is\\nconsidered as its boundary.\\nWe first require that the theory,  subject to appropriate\\nboundary conditions, has a well-defined variational\\nproblem, i.e.\\nall boundary terms in the variation of the action should vanish\\nautomatically so that the bulk field equations are true\\nextrema of the action. In gravitational systems this requires the\\naddition of boundary terms $B$,\\n\\\\be \\\\label{action}\\nI = \\\\int_M L - \\\\int_{\\\\pa M_\\\\infty} B.\\n\\\\ee\\nUnder a variation we have\\n\\\\be\\n\\\\delta L = (\\\\mbox{{\\\\rm field\\\\ equations}}) + d \\\\Theta(\\\\F,\\\\delta \\\\F)\\n\\\\ee\\nwhere $\\\\F$ denote collectively all fields. In order for the variational\\nproblem to be well-defined\\n$B$ and $\\\\Theta$ should be related by\\n\\\\be\\n\\\\d \\\\int_{\\\\pa M_\\\\infty} B = \\\\int_{\\\\pa M_\\\\infty} \\\\Theta(\\\\F,\\\\delta \\\\F)\\n\\\\ee\\nIn pure gravity $B=2 K$,\\nwhere $K$ is the trace of the second fundamental form.\\nIn more general theories $B$ may contain additional terms.\\n\\n\\nThe action (\\\\ref{action}) is invariant under diffeomorphisms.\\nThis implies that there is a\\ncorresponding Noether current,\\n\\\\be\\n{\\\\bf J} = {\\\\bf \\\\Theta}(\\\\F, \\\\cl_\\\\xi \\\\F) - i_\\\\x {\\\\bf L}\\n\\\\ee\\nwhere $\\\\xi^a$ is a vector that generates the diffeomorphism,\\n$\\\\cl_\\\\xi$ is the Lie derivative along $\\\\xi^a$,\\n$i_\\\\xi$ is the inner derivative (when acting on\\na $n$-form it produces a $(n-1)$-form by contracting its\\nfirst index by $\\\\xi^a$) and we use form\\nnotation (${\\\\bf J}$ is a $(d-1)$-form, ${\\\\bf L}$ is a $d$-form etc.).\\nWhen the field equations are satisfied\\n${\\\\bf J}$  is closed, $d {\\\\bf J}=0$, and one can  construct locally\\na $(d-2)$-form ${\\\\bf Q}$ such that ${\\\\bf J}=d {\\\\bf Q}$.\\nThe Hamiltonian that provides the dynamics generated by $\\\\xi^a$ is\\ngiven by\\n\\\\be\\nH = \\\\int_C {\\\\bf J} - \\\\int_{\\\\pa M_\\\\infty} i_\\\\xi {\\\\bf B}\\n\\\\ee\\nwhere $C$ is a Cauchy surface. On-shell this evaluates to a\\nsurface term\\n\\\\be \\\\label{energy}\\nH =  \\\\int_{\\\\pa M_\\\\infty}({\\\\bf Q} - i_\\\\xi {\\\\bf B})\\n\\\\ee\\nThe gravitational energy is now defined by taking $\\\\xi$ to be a\\ntimelike Killing vector. In general, this expression is\\ndivergent so a suitable subtraction should be employed.\\nIn asymptotically AdS spacetimes one may incorporate\\nin ${\\\\bf B}$ covariant boundary counterterms \\\\cite{count},\\nbut in asymptotically flat spacetimes such universal\\ncovariant local counterterms do not exist \\\\cite{countfl}.\\nWe (implicitly) use the background subtraction method below.\\n\\nLet us now consider the theory based on the action (\\\\ref{iib}).\\nFollowing similar steps as in \\\\cite{Wald2} one finds\\nthat the mass density of a D3 brane solution\\nis given by\\n\\\\be \\\\label{ADM}\\n\\\\mu={M \\\\over V}\\n= \\\\frac{1}{16 \\\\p G_N} \\\\int \\\\left ( \\\\pa_m h_{pm} - \\\\pa_p h^j_j \\\\right) dS^p_5\\n\\\\ee\\nwhere $h_{ij}$ is the deviation of the metric from the Minkowski\\nmetric and $V$ is the volume of the spatial worldvolume directions.\\nThe integration is over the sphere at asymptotic infinity in transverse\\nspace. The index $j$ runs over all spatial indices and $p$ and $m$ only\\nover the  transverse coordinates.\\nFormula (\\\\ref{ADM}) generalizes the ADM formula to apply to\\n$p$-brane spacetimes \\\\cite{DGHR}. One may rewrite this formula as\\na Komar-like mass formula,\\n\\\\be \\\\label{komar}\\nM={1\\\\over8\\\\p G_N}\\\\int_{S_\\\\infty}\\\\e_{a_1\\\\ldots a_8bc}\\\\nabla^{[b}\\\\xi^{c]}\\n\\\\ee\\nwhere $S_\\\\infty$ is the spacelike surface at infinity enclosing the brane.\\nWe\\nwrap the spatial worldvolume coordinates of the brane on a torus of volume\\n$v$, so that $S_\\\\infty=T^3\\\\times S^5$. Static spacetimes of the form\\n(\\\\ref{ansatz}) have a a timelike Killing vector\\n\\\\be\\n\\\\x=\\\\x^i {\\\\pa \\\\over \\\\pa x^i}, \\\\qquad \\\\xi^t =1, \\\\qquad \\\\x^i = 0, i \\\\neq t\\n\\\\ee\\nA straightforward computation yields\\n\\\\be \\\\label{xir}\\n\\\\nabla^r \\\\x^t = \\\\half g^{rr} g^{tt} \\\\pa_r g_{tt}.\\n\\\\ee\\nOne may now substitute this expression in (\\\\ref{komar})\\nto obtain the mass of the solution.\\n\\nThe temperature $T$ associated with a spacetime is equal to $T=\\\\k/2 \\\\pi$\\nwhere $\\\\k$ is the surface gravity. The latter can be show to be\\nequal to \\\\cite{Wald}\\n\\\\be \\\\label{temp}\\n\\\\k^2 = - \\\\half \\\\nabla^a \\\\xi^b \\\\nabla_a \\\\xi_b\\n= -{1 \\\\over 4} g^{tt} g^{rr} g_{tt,r}^2\\n\\\\ee\\nwhere in the last step we used (\\\\ref{xir}).\\n\\nThe entropy of a solution can be computed using the $(d-2)$-form\\n${\\\\bf Q}$ introduced earlier,\\n\\\\be \\\\label{ent}\\nS = \\\\int_{\\\\ch} {\\\\bf Q} = -\\\\pi\\\\int_{\\\\ch} \\\\dd\\\\S_{ij}\\\\,Q^{ij}\\n\\\\ee\\nwhere\\n$\\\\dd\\\\S_{ij}=\\\\dd^8x\\\\sqrt{h}\\\\,\\\\e_{ij}$ is the surface element defined over the\\nhorizon $\\\\ch$, with $h$ the induced metric on the horizon. $Q_{ij}$ is\\nrelated\\nto the Noether charge as discussed above and (after fixing ambiguities\\nwith certain choices) is given by\\n\\\\be \\\\label{entropy}\\nQ^{ij}=-2{\\\\cal L}^{ijkl}\\\\na_k\\\\xi_l +4\\\\na_k{\\\\cal L}^{ijkl}\\\\xi_l.\\n\\\\ee\\n${\\\\cal L}^{ijkl}$ is the variation of the action with respect to the Riemann\\ntensor and $\\\\xi$ is the timelike Killing vector.\\nIn the case where the action contains only the Einstein-Hilbert term, the\\nresult given the well-known Bekenstein-Hawking formula, $S=A/4$.\\nThe derivation of (\\\\ref{entropy}) assumes a non-degenerate horizon\\n($\\\\k \\\\neq 0$). It was successfully applied, however, (in a context\\nsimilar to ours) to extremal black holes as well \\\\cite{deWit}.\\\\footnote{\\nWe thank Bernard de Wit for discussions about this point.}\\nWe will assume that this formula remains valid for extremal black\\nholes.\\n\\nFinally the electric charge density of the solution is given by\\n\\\\be \\\\label{charge}\\nq = \\\\frac{g_s}{\\\\sqrt{16 \\\\pi G_N}} \\\\int_{S^5} *F_5\\n\\\\ee\\nThe prefactor is due to the normalization of the\\n$F_5$ terms in (\\\\ref{iib}). The magnetic charge $\\\\tilde{q}$ is given by\\na similar integral that involves $F_5$. In general, the electric\\nand magnetic charges satisfy the Dirac quantization condition\\n\\\\cite{dirac}\\n\\\\be \\\\label{dcon}\\nq \\\\tilde{q} = 2 \\\\pi n\\n\\\\ee\\nwhere $n$ is an integer. For dyons this formula is modified\\nand it does not by itself lead to a quantization condition\\nfor self-dual solutions with $q=\\\\tilde{q}$, such\\nas the D3 brane solution which we discuss \\\\cite{DL1}.\\nThe exact quantization condition for D3 branes is\\ndetermined in string theory by string dualities (see for\\ninstance section 3 of \\\\cite{bhrev}).\\nWith the normalizations as in (\\\\ref{Lorder})\\nthe charge $q$ of a single self-dual brane comes out to be $q=\\\\sqrt{2 \\\\pi}$\\n(see (\\\\ref{chd3})), which agrees with the naive application of (\\\\ref{dcon})\\nwith $n=1, q=\\\\tilde{q}$.\\n\\n\\\\subsection{Lowest order solution}\\n\\nBefore we proceed to incorporate the $\\\\a'$ corrections let us discuss\\nthe lowest order D3 brane solution. In this case the metric is\\ngiven in (\\\\ref{Lorder}), and the mass density can be\\neasily calculated (using either (\\\\ref{ADM}) or (\\\\ref{komar})) to be\\n\\\\be\\n\\\\mu = {N \\\\over (2 \\\\pi)^3 g_s \\\\a'^2}\\n\\\\ee\\nwhere we used $G_N= 8 \\\\pi^6 g_s^2 \\\\a'^4$. The charge density of the solution\\nis given by\\n\\\\be \\\\label{chd3}\\nq = \\\\sqrt{2 \\\\pi} N,\\n\\\\ee\\nwhere the factor of $\\\\sqrt{2 \\\\pi}$ is discussed below (\\\\ref{dcon}).\\nIt is straightforward to use the formulas given above to\\ncompute the entropy and the temperature of the solution. The result is that\\nboth of them are equal to zero. So one expects a formula of the form\\n(\\\\ref{masscharge}) and we indeed find\\n\\\\be \\\\label{bps}\\n\\\\mu = {1 \\\\over \\\\sqrt{16 \\\\pi G_N}}\\\\, q~.\\n\\\\ee\\nThis is the BPS formula derived in \\\\cite{DL1}. Let us now derive this\\nrelation in a way that will be useful when we consider the corrected\\nsolution.\\n\\nUsing Stokes' theorem one can express the surface integral in\\n(\\\\ref{komar}) in terms of a volume integral,\\n\\\\be \\\\label{sto}\\nM = - {1 \\\\over 4 \\\\p G_N} \\\\int_{\\\\S} \\\\e_{a_1...a_9 b} R^b_c \\\\x^c\\n+{1 \\\\over 8 \\\\p G} \\\\int_{\\\\ch} \\\\e_{a_1...a_8 b c} \\\\nabla^{[b} \\\\x^{c]}\\n\\\\ee\\nwhere $\\\\S$ is a spacelike hypersurface that extends from the\\nhorizon to spatial infinity, and\\nthe last term is a surface integral over the horizon (which also\\ninvolves the worldvolume $T^3$).\\nTo derive this one needs to use\\n\\\\be\\n\\\\nabla_j \\\\nabla^j \\\\x^i = - R^i_j \\\\x^j\\n\\\\ee\\nwhich holds for Killing vectors.\\nThe integral over the horizon may be evaluated using our\\nexplicit metric and it vanishes. In general, this term gives\\nthe entropy contribution in the first law.\\n\\nTo evaluate the volume term we now use the Einstein equation,\\n\\\\be \\\\label{einst}\\nR_{ij} = \\\\half \\\\pa_i \\\\f \\\\pa_j \\\\f\\n+ {g_s^2 \\\\over 96} F_{il_1\\\\ldots l_4} F_j{}^{l_1\\\\ldots l_4}\\n\\\\ee\\nWe further note that $\\\\x$ generates an isometry of the solution, so\\n\\\\be \\\\label{inv}\\n\\\\x^i \\\\nabla_i \\\\f=0, \\\\qquad\\n\\\\x^i \\\\nabla_i A^{j_1...j_4} + 4 (\\\\nabla^{[j_1} \\\\x_k) A^{|k| j_2 j_3 j_4]}=0\\n\\\\ee\\nInserting (\\\\ref{einst}) in (\\\\ref{sto}) we get a term that depends on the\\ndilaton and a term that depends on $F$. The former yields a vanishing\\ncontribution upon using (\\\\ref{inv}). The latter can be manipulated as\\nfollows,\\n\\\\bea \\\\label{id}\\n\\\\xi^i F_{il_1...l_4} F^{jl_1...l_4} &=&\\n- 4 \\\\nabla_{l_1} (\\\\x^i A_{i l_2 l_3 l_4} F^{jl_1 l_2 l_3l_4})\\n+(\\\\x^i \\\\nabla_i A_{l_1 l_2 l_3l_4}\\n+ 4 (\\\\nabla_{[l_1} \\\\x^k) A_{|k| l_2 l_3 l_4]})\\nF^{jl_1 l_2 l_3 l_4}  \\\\nonu\\n&&-4 \\\\x^i A_{i l_2 l_3 l_4} \\\\nabla_{l_1} F^{jl_1...l_4}\\n\\\\eea\\nThe last two terms vanish due to the $F$-field equation and the invariance\\nof the solution (\\\\ref{inv}). We finally get\\n\\\\be\\nM = -{g_s^2 \\\\over 96 \\\\p G_N} \\\\int_{S_\\\\infty \\\\cup \\\\ch} \\\\e_{tra_1...a_8}\\n\\\\xi^i A_{i l_1 l_2 l_3} F^{trl_1 l_2 l_3}\\n\\\\ee\\nOne may integrate $F_{t123r}$ to obtain $A_{t123r}$,\\n\\\\be\\nA_{t123} = {1 \\\\over g_s} (e^{-h_0}-1)\\n\\\\ee\\nwhere the constant part was chosen such that $A_{t123}$\\nvanishes asymptotically. It follows then that\\n$\\\\xi^i A_{i 123}|_\\\\ch = -1/g_s$. In general, one can change the\\nasymptotic value of $A_{t123}$ by performing a gauge transformation.\\nThis will modify the value of $\\\\xi^i A_{i 123}$ at the horizon.\\nThe combination\\n\\\\be \\\\label{lowv}\\nv=\\\\xi^i A_{i 123}|_{S_\\\\infty}-\\\\xi^i A_{i 123}|_\\\\ch = - {1 \\\\over g_s}\\n\\\\ee\\nis the associated electric potential and is gauge invariant.\\\\footnote{On a\\ncurved spacetime one may define the\\nelectric and magnetic part of a a field strength as\\n\\\\be\\n{\\\\bf E} = i_\\\\xi {\\\\bf F}, \\\\qquad {\\\\bf B} = i_\\\\xi *{\\\\bf F}\\n\\\\ee\\nwhere ${\\\\bf E}$ and ${\\\\bf B}$ are four-forms in our case,\\n$i_\\\\xi$ is the inner derivative and $\\\\xi$ is a timelike Killing vector.\\nFor self-dual solutions, ${\\\\bf E}={\\\\bf B}$.\\nWhen the field equations and Bianchi identity hold,\\n$d {\\\\bf F} = d * {\\\\bf F}=0$,\\none finds that $d {\\\\bf E} = d {\\\\bf B} =0$, so locally there are\\nelectric and magnetic potentials ${\\\\bf E} = d {\\\\bf v}$ ,\\n${\\\\bf B} = d \\\\tilde {\\\\bf v}$, respectively. \\\\\\nIn the case at hand, the electric potential is related with the gauge field\\nas ${\\\\bf v}=i_\\\\xi {\\\\bf A}$.\\nOne may show in general that ${\\\\bf v}$ is constant at the horizon\\nand the difference between its asymptotic value and the constant value\\nat the horizon is gauge invariant.}\\nIt is this gauge invariant combination\\nthat couples to the electric charge $q$ (notice that one\\nmay use Stokes' theorem to show that $\\\\int_\\\\ch *F = \\\\int_{S_{\\\\infty}} *F$).\\nIt follows that\\n\\\\be\\n\\\\mu = {1 \\\\over \\\\sqrt{16 \\\\p G_N}}\\\\, (- g_s v)\\\\, q\\n\\\\ee\\nwhich is equal to (\\\\ref{bps}) upon using (\\\\ref{lowv}).\\n\\nIn the present case we were able to explicitly manipulate\\nthe bulk integral in (\\\\ref{sto}) into boundary terms.\\nWhen we include the $\\\\a'$ corrections, however,\\nsimilar manipulations involving the higher derivative\\nterm become increasing complicated. Instead of using\\n(\\\\ref{id}) in order to manipulate the bulk integral\\none could also just use the explicit solution to evaluate the\\nbulk integral. Since the dilaton is constant the first term\\non the right hand side drops out. The contribution of\\n$F_5$ can also be computed straightforwardly since the integral\\ncan be computed by elementary means. These manipulations\\nlead to the same result (\\\\ref{bps}), but now the contribution\\nof the charges was computed via a bulk integral.\\n\\n\\\\subsection{Corrected solution}\\n\\nThe $\\\\a'$ corrected D3-brane solution in the Einstein\\nframe is given by\\n\\\\bea \\\\label{solution}\\n&&ds^2 = e^{-\\\\half h_0}\\\\left(1+\\\\g a_1\\\\right)(- dt^2  + d \\\\vec{x}^2)\\n+ e^{\\\\half h_0}\\n\\\\left(1+ \\\\g (a_1 + h_1)\\\\right) (dr^2 + r^2 d\\\\O_5^2) \\\\nonu\\n&&e^\\\\f = g_s(1 + \\\\g_\\\\f \\\\f_1) \\\\\\\\\\n&&F_{tabcr}  = 16 \\\\p N \\\\a'^2 \\\\epsilon_{abc} e^{-2 h_0}\\n(1-2\\\\g h_1)\\nr^{-5}, \\\\qquad\\nF_{m_1...m_5} = 16 \\\\p N \\\\a'^2 \\\\e_{m_1...m_5} \\\\nonumber\\n\\\\eea\\nwhere the $e^{h_0}$ is given in (\\\\ref{Lorder}) and $a_1, h_1$ and\\n$\\\\f_1$ are given in (\\\\ref{corrsol}). We should emphasise that\\nthis solution would be the true corrected D3 brane only if the\\npart of the effective action relevant for this problem\\nconsisted of only (\\\\ref{iib}) and (\\\\ref{Sw}). However, as we\\ndiscussed earlier, it is likely that additional terms\\nthat dependent on $F_5$ are relevant.\\n\\nTo compute the mass of the solution one has to take into\\naccount that the action has been modified by the addition\\nof the term (\\\\ref{Sw}), so the mass formula should also\\nbe modified accordingly. The discussion in the beginning\\nof this section outlines the steps that are necessary\\nin order to compute the new mass formula. This computation\\nis technically rather complex because of the complicated\\ntensor contractions in $W$. We will use instead the following\\nshortcut. We will start from (\\\\ref{komar}) and use Stokes'\\ntheorem to rewrite it as in (\\\\ref{sto}). We should emphasise\\nthat the starting point does not represent the entire mass\\nof the corrected solution since it does not properly take\\ninto account that the mass formula has been modified.\\nWe now use the field equations,\\n\\\\be \\\\label{einst1}\\nR_{ij} = \\\\half \\\\pa_i \\\\f \\\\pa_j \\\\f\\n+ {g_s^2 \\\\over 96} F_{il_1\\\\ldots l_4} F_j{}^{l_1\\\\ldots l_4}\\n+ \\\\left({3 \\\\over 8} \\\\g(\\\\f) W g_{ij} - w_{ij} \\\\right)\\n\\\\ee\\nThe first two contributions can be analyzed as in the previous\\nsubsection. The last contribution represents an additional\\ngravitational contribution. It should thus be combined with\\nthe term on the left hand side to yield the mass of the solution.\\nWe thus propose as a mass formula\\n\\\\be \\\\label{massform}\\nM = {1\\\\over8\\\\p G_N}\\\\int_{S_\\\\infty}\\\\e_{a_1\\\\ldots a_8bc}\\\\nabla^{[b}\\\\xi^{c]}\\n+{1 \\\\over 4 \\\\pi G_N} \\\\int_\\\\S \\\\e_{d a_1 \\\\cdots a_9}\\n\\\\left({3 \\\\over 8} \\\\g(g_s) W g^{d}{}_e - w^{d}_{e} \\\\right) \\\\xi^e\\n\\\\ee\\nThe logic here  is similar to the one discussed in the\\nlast paragraph of the previous subsection: one could either\\nrewrite the bulk integral as a surface integral or just\\ndirectly compute the bulk integral.\\n\\nThe result for the mass is\\n\\\\be   \\\\label{masscor}\\n\\\\mu=\\\\mu_0\\n\\\\left(1 + \\\\g(g_s) {5 \\\\cdot 2^{10} \\\\over 2431} {1 \\\\over l^6}\\\\right)\\n=\\\\m_0\\n\\\\left(1 + {1 \\\\over N^{3/2}} {40 E_{3/2}(g_s) \\n\\\\over 2431 \\\\pi^{3/2}} \\\\right)\\n\\\\ee\\nwhere $\\\\mu_0= N/(2 \\\\p)^3 g_s \\\\a'^2$ is the mass density of the lowest\\norder solution. \\nIn this result the three terms in (\\\\ref{massform}) contribute to\\nthe correction with relative weights $-1, 3/2, 0$.\\n\\nThe form of the correction in (\\\\ref{masscor})\\nfollows by dimensional analysis and the\\nfact that the lowest order solution depends on the parameters of the\\nsolution only via $l^4$. The detailed form of the higher derivative\\nterm only determines the numerical coefficient. In particular, if the\\nnumerical coefficient is non-zero, as we find in (\\\\ref{masscor}),\\nthen the mass of $N_1+N_2$ branes is less than the mass of\\n$N_1$ branes plus the mass of $N_2$ branes. This follows from\\nthe inequality\\n\\\\be\\n{1 \\\\over \\\\sqrt{N_1 + N_2}} <\\n{1 \\\\over \\\\sqrt{N_1}}+{1 \\\\over \\\\sqrt{N_2}}.\\n\\\\ee\\nIt follows that energetically the branes would prefer to coalesce to form a\\nsingle group. Thus there should be a force acting on the\\ntwo sets of branes. This is opposite to what one expects\\nfrom BPS configurations, where the branes should not feel\\nany force. We believe that after taking into account the\\neffect of the (presently unknown) $F_5$ dependent higher derivative\\nterms the mass of the D3 brane solution will not renormalize.\\n\\nWith the definition of mass in (\\\\ref{massform}) one may\\nproceed as in the previous section to derive\\n\\\\be\\nM = -{g_s^2 \\\\over 96 \\\\p G_N} \\\\int_{S_\\\\infty \\\\cup \\\\ch} \\\\e_{tra_1...a_8}\\n\\\\xi^i A_{i l_1 l_2 l_3} F^{trl_1 l_2 l_3}\\n\\\\ee\\nOne may integrate $F_{t123r}$ to obtain $A_{t123}$,\\n\\\\bea\\nA_{t123}&=&{1 \\\\over g_s} (e^{-h_0}-1)\\n-{32 \\\\pi N \\\\g(g_s) \\\\a'^2 \\\\over 2431 l^2 r^{40} e^{9 h_0}}\\n\\\\left( 256 r^{28} e^{7 h_0} (3 l^4 + 5 r^4) \\\\right.  \\\\nonu\\n&&+ 16 l^{14} r^2 e^{\\\\half h_0}\\n(- 48 l^{16} - 352 l^{12} r^4 - 1037 l^8 r^8 + 1700 l^4 r^{12} + 19890\\nr^{16}))\\n\\\\eea\\nand from here we obtain\\n\\\\be\\nv=\\\\xi^i A_{i 123}|_{S_\\\\infty}-\\\\xi^i A_{i 123}|_\\\\ch = v_0\\n(1 + \\\\g(g_s) {5 \\\\cdot 2^{10} \\\\over 2431}{1 \\\\over l^6})\\n\\\\ee\\nwhere $v_0=-1/g_s$ is the value of the electric potential\\nfor the lowest order solution. The remaining of the\\ncomputation is exactly the same as the one in the previous\\nparagraph, and we end up with\\n\\\\be \\\\label{smarr2}\\n\\\\mu = {1 \\\\over \\\\sqrt{16 \\\\p G_N}}\\\\, (- g_s v)\\\\, q\\n\\\\ee\\nThe charge density of the solution retains its\\nlowest order value, as is required by charge quantization.\\nWe thus find that even though the mass of the solution renormalizes\\nand the charge does not renormalize, a BPS-type formula\\nstill holds. This is possible because the electric potential renormalizes.\\n\\nOne can understand this behavior\\nas follows. In the absence of corrections to the gauge field\\nequation, the formula for the charge,\\n$q \\\\sim \\\\int * d A$, remains uncorrected. Since $q$ does not\\nrenormalize and $*$ renormalizes (since it depends on the metric),\\n$A$ has to renormalize in such a way that the combined\\ncorrections to $*$ and $A$ cancel each other. So unless the gauge field\\nequation is corrected the electric potential will renormalize.\\nThen the first law (\\\\ref{smarr2}) can be used to infer that the mass\\nrenormalizes. As we argued above, however, any correction\\nto the mass would imply that the branes feel a force.\\nThis strongly indicates that the gauge field equations,\\nand therefore the self-duality condition of $F_5$\\nreceives corrections such that at the end the mass\\nof the brane does not renormalize.\\n\\nOne may easily check that the temperature and the entropy\\nremain equal to zero. For the temperature this follows\\nupon using (\\\\ref{temp}). It goes to zero as $r$, as in lowest\\norder solution, but the coefficient of $r$ receives corrections.\\nFor the entropy we use (\\\\ref{ent})-(\\\\ref{entropy}).\\nThe corrections to the entropy vanish as $r^{15}$ (after factoring out\\nthe behavior of the temperature).\\n\\n\\\\section{Other branes} \\\\label{otherbranes}\\n\\\\setcounter{equation}{0}\\n\\nCorrections to other R and NS $D$-brane solutions can be analyzed\\nas in the D3-brane case. Analogously to in the 3-brane case, an\\n$1d$ dimensional  effective action may be derived. The system of second\\norder equations  can be integrated by introducing\\nvariables suggested by the lowest order supersymmetry relations. As in the\\nD3 case, these equations contain source terms evaluated on the lowest\\norder solution. Once the complete source terms are known,\\nthe corrected solutions can be derived.\\n\\n\\\\subsection{Equations of motion}\\n\\nThe $D$ dimensional action in the Einstein frame relevant for\\ngeneral brane solutions is given by\\n\\\\bea\\nS=-\\\\frac{1}{16 \\\\pi G} \\\\int\\\\dd^Dx \\\\sqrt{-g} \\\\left( R- {4\\\\over D-2}(\\\\pa\\\\phi)^2\\n- {1\\\\over2(p+2)!} e^{\\\\tilde{a} \\\\phi} F_{p+2}^2\\n+ \\\\g e^{-{12\\\\over D-2}\\\\phi} W \\\\right)\\n\\\\eea\\nwhere\\n\\\\be\\n\\\\g = \\\\frac{1}{8} \\\\zeta(3) \\\\alpha'^3 g_s^{{12\\\\over D-2}} \\\\qquad\\n\\\\tilde{a} = \\\\frac{2(D-2 p -4)}{D-2} - a_{NS}\\n\\\\ee\\n$a_{NS}=2$ for NS branes but zero otherwise. The dilaton factor in front\\nof $W$ is that of a tree-level string correction. $W$ is expected to depend\\non $F_{p+2}$ and on its covariant derivatives as well as on the covariant\\nderivatives of the dilaton. As discussed in the introduction, this\\nexpression\\nis not known at present, so in our analysis we will keep $W$ arbitrary.\\n\\nThe equations of motion from the above action are\\n\\\\bea\\nE_{ij} &=& R_{ij} - \\\\frac{1}{2} g_{ij} R - \\\\frac{1}{2}\\n\\\\left( \\\\pa_i \\\\phi \\\\pa_j \\\\phi\\n- \\\\frac{1}{2} g_{ij} (\\\\pa \\\\phi)^2 \\\\right) \\\\\\\\\\n&& \\\\hspace{-1cm}-\\\\frac{e^{\\\\ta \\\\phi}}{2(p+2)!} \\\\left(\\n(p+2) F_{il_1 \\\\ldots l_{p+1}} F_{j}^{l_1 \\\\ldots l_{p+1}} - \\\\frac{1}{2}\\ng_{ij} F^2_{p+2} \\\\right)\\n+ \\\\gamma \\\\left( w_{ij} -\\n\\\\frac{1}{2} g_{ij}\\\\,e^{-\\\\frac{12}{D-2} \\\\phi}  W \\\\right) =0 \\\\nonu\\n%&&R_{ij} - {1 \\\\over 2} \\\\pa_i \\\\phi \\\\pa_j \\\\phi +\\n%{1\\\\over2(p+2)!} e^{\\\\tilde{a} \\\\phi} \\\\frac{p+1}{D-2} g_{ij} F_{p+2}^2\\n%- \\\\frac{1}{2(p+1)!} e^{\\\\tilde{a} \\\\phi} F_{il_1\\\\ldots l_{p+1}}\\n%F^{jl_1\\\\ldots l_{p+1}}\\n%\\\\nonu\\n%&&+\\\\g e^{-\\\\frac{3}{2} \\\\phi} \\\\left[\\\\frac{1}{(D-2)} (W - w_{mn} g^{mn})\\n%g_{ij}\\n%+ w_{ij} \\\\right] =0 \\\\\\\\\\nE&=& \\\\na^2 \\\\phi- \\\\frac{\\\\ta e^{\\\\ta \\\\phi}}{2(p+2)!} F^2_{p+2} +\\n\\\\g w_\\\\f =0\\n\\\\\\\\\\nE^{i_1 \\\\ldots i_{p+1} } &=& \\\\frac{1}{ \\\\sqrt{-g}} \\\\frac{1}{(p+1)!}\\n\\\\pa_l ( \\\\sqrt{-g} e^{\\\\ta \\\\phi} F^{li_1..i_{p+1}}) +\\n\\\\g w_A{}^{i_1..i_{p+1}} = 0\\n\\\\eea\\nwhere $w_{ij}$ is defined by\\n\\\\be\\n\\\\int\\\\dd^Dx\\\\sqrt{g}e^{-{12\\\\over D-2}\\\\f}\\\\d W=\\\\int\\\\dd^Dx\\\\sqrt{g} \\\\d\\ng^{ij}w_{ij}\\n\\\\ee\\nand $w_\\\\f$ and $w_A$\\ndenote the variation of $e^{-\\\\frac{12}{D-2} \\\\f} W$ w.r.t. the dilaton\\nand the gauge field, respectively.\\n\\nThe equations of motion admit both electric and magnetic\\nsolutions \\\\cite{HS,DL2,DKL}. Here we will consider\\nonly electric branes, but similar methods apply\\nto magnetic branes as well.\\nFor an electric brane solutions we take the ansatz\\n\\\\bea \\\\label{ansatze}\\nds^2 &=& e^a \\\\left( -dt^2 + \\\\sum_{a=1}^{d-1} (dx^a)^2   + e^h (dr^2 +\\nr^2 d \\\\Omega_{q+1}^2 )\\\\right) \\\\nonu\\nA_{t\\\\a_1...\\\\a_p} &=& \\\\e_{\\\\a_1...\\\\a_p} c(r).\\n\\\\eea\\nThe field equations evaluated on this ansatz give\\n\\\\bea\\n&&a'' + \\\\frac{(D-2)}{2} a'^2 + \\\\frac{q}{2} a' h' + (q+1)\\\\frac{a'}{r}  -\\ne^{\\\\tilde{a} \\\\phi} \\\\frac{q}{D-2} K^2 + \\\\gamma \\\\tilde{w}_t =0 \\\\label{e1} \\\\\\\\\\n&& (D-1) a'' + (q+1) h'' - \\\\frac{d}{2} a' h' + \\\\phi'^2 + \\\\frac{(q+1)}{r} a'\\n+  \\\\frac{(q+1)}{r} h' - e^{\\\\tilde{a} \\\\phi} \\\\frac{q}{D-2} K^2 \\\\nonu\\n&& \\\\qquad+ \\\\gamma\\n\\\\tilde{w}_r =0 \\\\label{e2}  \\\\\\\\\\n&& a'' + h'' + \\\\frac{(D-2)}{2} a'^2 + \\\\frac{1}{2} (2q + d) a' h' +\\n\\\\frac{1}{2} q h'^2  + (2q + d + 1) \\\\frac{a'}{r} + (2q + 1) \\\\frac{h'}{r}\\n\\\\nonu\\n&& \\\\qquad + e^{\\\\ta \\\\phi} \\\\frac{d}{D-2} K^2\\n+ \\\\gamma \\\\tilde{w}_m =0 \\\\label{e3} \\\\\\\\\\n&& \\\\phi'' + \\\\left(\\\\frac{(D-2)}{2} a' + \\\\frac{q}{2} h'+ \\\\frac{(q+1)}{r}\\n\\\\right) \\\\phi' + \\\\frac{\\\\ta}{2} e^{\\\\ta \\\\phi} K^2 + \\\\g \\\\tilde{w}_{\\\\phi} =0\\n\\\\label{e4} \\\\\\\\\\n&&{1 \\\\over (p+1)!} e^{-{D \\\\over 2} a - (q+2) h - \\\\ta \\\\f} r^{-(q+1)}\\n\\\\pa_r \\\\left(e^{({D \\\\over 2} -p-2) a + \\\\half q h +\\\\ta \\\\f} r^{(q+1)} k(r)\\n\\\\right)\\n+ \\\\g \\\\tilde w_A =0 \\\\label{geq}\\n\\\\eea\\nwhere $d=p+1$ and  $q=D-p-3$ and\\n\\\\bea\\n\\\\tilde{w}_{t} &=& 2 e^{h}\\n\\\\left[ \\\\frac{1}{D-2} (-g^{kl} w_{kl} + e^{-\\\\frac{12}{D-2} \\\\phi}\\nW ) g_{tt} + w_{tt}\\n\\\\right] \\\\\\\\\\n\\\\tilde{w}_{r} &=& -2 \\n\\\\left[ \\\\frac{1}{D-2} (-g^{kl} w_{kl} + e^{-\\\\frac{12}{D-2} \\\\phi}\\nW ) g_{rr} + w_{rr}\\n\\\\right] \\\\\\\\\\n\\\\tilde{w}_{m} &=& -2 e^{a+h} \\n\\\\left[ \\\\frac{1}{D-2} (-g^{kl} w_{kl} + e^{-\\\\frac{12}{D-2} \\\\phi}\\nW ) g_{mm}\\n + w_{mm} \\\\right] g^{mm} \\\\\\\\\\n\\\\tilde{w}_{\\\\phi} &=& g_{rr} w_{\\\\phi} \\\\\\\\\\n\\\\tilde{w}_{A} &=& e^{- \\\\tilde{a} \\\\phi} w_A \\\\\\\\\\nK^2 &=& k(r)^2 e^{-d a}, \\\\qquad k = {1 \\\\over p+2} c'\\n\\\\eea\\nand\\n\\\\be\\nw_A{}^{i_1 \\\\cdots i_{p+1}} = w_A \\\\e_{i_1 \\\\cdots i_{p+1}}.\\n\\\\ee\\nThe same equations also hold for magnetic solutions.\\nOne only has to exchange $q \\\\leftrightarrow d$ and\\ntake $\\\\tilde a \\\\to - \\\\tilde a$.\\n\\nThe lowest order equation admits the following electric solution\\n\\\\cite{HS,DL2,DKL}\\n\\\\bea\\ne^{h_0} &=& \\\\left[ 1 +\\n\\\\left(\\\\frac{l}{r} \\\\right)^q \\\\right]^{\\\\frac{4}{\\\\Delta}}, \\\\qquad\\na_0 = \\\\frac{-q}{D-2} h_0, \\\\nonu\\n\\\\phi_0 &=& \\\\frac{{\\\\ta}}{2} h_0, \\\\qquad\\nk(r) = Q e^{\\\\left[ - \\\\ta \\\\phi_0 - \\\\frac{q}{2} h_0 +\\n(d+1 - D/2) a_0 \\\\right]} r^{-(q+1)}, \\\\nonu\\n\\\\Delta &=& {\\\\ta}^2 + \\\\frac{2 d q}{D-2}, \\\\qquad\\nQ^2 = \\\\frac{4 q^2}{\\\\Delta} l^{2 q},\\n\\\\eea\\nwhere $Q$ is the charge of the solutions.\\n\\nWe would like to obtain perturbative solutions\\n\\\\bea\\na = a_0 + \\\\g a_1 \\\\nonu\\nh = h_0 + \\\\g h_1 \\\\nonu\\n\\\\phi = \\\\phi_0 + \\\\g \\\\phi_1 \\\\nonu\\nc = c_0 + \\\\g c_1\\n\\\\eea\\nBefore we proceed to integrate the equations we will present\\nan $1d$ effective action from which the field equations\\n(\\\\ref{e1})-(\\\\ref{geq}) can be derived.\\n\\n\\\\subsection{Effective action}\\n\\nAs in the case of the D3 brane, the $1d$ effective action is\\nmost naturally written in terms of $(d+1)$ dimensional fields.\\nThe $(d+1)$ dimensional action may be viewed as the reduction\\nof the $D$-dimensional theory over the sphere $S^{q+1}$ in transverse\\ninfinity and is given by\\n\\\\bea \\\\label{1dother}\\nI_{d+1}& =& \\\\int dr \\\\sqrt{-g_{d +1}} \\\\left[ R_{d+1} - \\\\frac{1}{2}\\ng_{d+1}^{rr} \\\\phi'^2 - {(q+1) (D-2) \\\\over (d-1)}\\ng_{d+1}^{rr} \\\\nu'^2 \\\\right. \\\\nonu\\n&&\\\\left. \\\\qquad +\\\\half g_{d+1}^{rr}\\n\\\\frac{e^{\\\\ta \\\\phi-d a}}{f (p+2)^2} c'(r)^2\\n- V(\\\\nu) \\\\right]\\n\\\\eea\\nwhere\\n\\\\be\\nV(\\\\nu) = - \\\\frac{q(q+1)}{l^2} e ^{- \\\\frac{2(D-2)}{d-1} \\\\nu}\\n\\\\ee\\nThe metric $g_{d+1}$ and the scalar field $\\\\nu$ are related to\\n$a$, $h$ and $f$ by\\n\\\\bea\\ng_{d+1,ij} dx^i dx^j &=& e^{\\\\alpha} (- f dt^2 + \\\\sum_{p=1}^{d-1} dx_p^2 +\\n\\\\frac{e^{h}}{f} dr^2 ) \\\\nonu\\n\\\\alpha &=& \\\\frac{1}{d-1} \\\\left( (D-2) a + (q+1) h + 2 (q+1)\\n\\\\log{\\\\frac{r}{l}}\\n\\\\right)  \\\\nonu\\n\\\\nu &=& \\\\frac{1}{2} \\\\left( a + h + 2 \\\\log{\\\\frac{r}{l}} \\\\right)\\n\\\\eea\\nThis can be shown  by using the standard reduction formula\\n\\\\be\\nds_{D}^2 = e^{-2 \\\\frac{(q+1)}{(d-1)} \\\\nu} g_{d+1,ij} dx^i dx^j +\\ne^{2 \\\\nu} l^2 d \\\\Omega_{q+1}^2\\n\\\\ee\\nand matching with (\\\\ref{ansatze}).\\n\\nThe $\\\\a'$ correction can be incorporated by adding to the\\naction the following term\\n\\\\be\\nI_{W} = \\\\gamma \\\\int dr \\\\sqrt{-g_{d +1}} e^{-\\\\frac{2(q+1)}{d-1} \\\\nu\\n- \\\\frac{12}{D-2} \\\\phi} W[r,a,h,\\\\phi,f,c].\\n\\\\ee\\n\\nTo connect the $D$-dimensional equations with the equations of the\\neffective action we note that\\n\\\\bea\\n\\\\d g^{tt} &=& - \\\\left(\\\\d a + \\\\frac{\\\\d f}{f} \\\\right) g^{tt} \\\\qquad\\n\\\\d g^{rr}  = \\\\left(- (\\\\d a + \\\\d h) + \\\\frac{\\\\d f}{f} \\\\right) g^{rr} \\\\nonu\\n\\\\d g^{mn} &=& - (\\\\d a  + \\\\d h) g^{mn} \\\\qquad\\n\\\\d A_{i_1 \\\\ldots i_{p+1}} = \\\\epsilon_{i_1 \\\\ldots i_{p+1}} \\\\d c\\n\\\\eea\\nSubstituting in the $D$-dimensional action we obtain\\n\\\\bea \\\\label{intout}\\n\\\\delta I &=& \\\\int d^{D} x \\\\sqrt{-g} \\\\left[ - E_{ij} g^{ij} \\\\d a +\\n\\\\frac{\\\\d f}{f} \\\\left( g^{rr} E_{rr} - g^{tt} E_{tt} \\\\right) -\\n\\\\left( g^{rr} E_{rr} + g^{mn} E_{mn} \\\\right) \\\\d h + E \\\\d \\\\phi \\\\right. \\\\nonu\\n&& \\\\left. + E_{[j}{}^{j i_1 \\\\ldots i_{p+1}} \\\\epsilon_{i_1 \\\\ldots i_{p+1}]}\\n\\\\right] \\\\nonu\\n&=& \\\\int d^{D} x \\\\sqrt{-g} \\\\left[ E_a \\\\d a + E_f \\\\d f  + E_h \\\\d h + E_c \\\\d c\\n\\\\right]\\n\\\\eea\\nSince the solutions of interest depend on only $r$\\none may integrate over all directions but $r$.\\nIntegrating the variation to an action we get (\\\\ref{1dother}).\\n\\n{}From (\\\\ref{intout}) we can read off the relation between the $D$\\nand $1d$ field equations:\\n\\\\bea\\nE_a &=& - E_{ij} g^{ij} \\\\nonu\\nE_f &=& \\\\frac{1}{f} \\\\left( g^{rr} E_{rr} - g^{tt} E_{tt} \\\\right) \\\\nonu\\nE_h &=& - \\\\left( g^{rr} E_{rr} + g^{mn} E_{mn} \\\\right) \\\\nonu\\nE_{\\\\phi} &=& E \\\\nonu\\nE_c &=& E^{i_1 \\\\ldots i_{p+1}} \\\\epsilon_{i_1 \\\\ldots i_{p+1}}\\n\\\\eea\\nThe sources  $\\\\tilde{w}$ in (\\\\ref{e1})-(\\\\ref{geq}) can be expressed\\nas a combination of the source terms in the $a$, $h$, $f$, $\\\\phi$, $c$\\nequations of motion:\\n\\\\be\\nw_{a,h,f,\\\\phi,c} = \\\\frac{1}{\\\\sqrt{-g}} \\\\frac{\\\\d}{\\\\d(a,h,f,\\\\phi,c)}\\n\\\\left( \\\\sqrt{-g} e^{-\\\\frac{12}{D-2} \\\\phi} W \\\\right)\\n\\\\ee\\nwith the result\\n\\\\bea\\n\\\\tilde{w_t} &=& \\\\frac{2 e^{(a+h)}}{d(D-2)}\\n\\\\left[ q w_a - (D-2) w_h \\\\right] \\\\nonu\\n\\\\tilde{w_r} &=& \\\\frac{2 e^{(a+h)}}{d(D-2)} \\\\left[ q w_a -\\n(D-2) (w_h + d w_f ) \\\\right] \\\\nonu\\n\\\\tilde{w}_m &=& \\\\frac{2 e^{(a+h)}}{d(q+1)(D-2)} \\\\left[ (D-2)\\n( (1+d) w_h + d w_f )\\n- (q + d(q+2)) w_a  \\\\right] \\\\nonu\\n\\\\tilde{w}_{\\\\phi} &=& e^{(a+h)} w_{\\\\phi} \\\\nonu\\nw_{A} &=& \\\\frac{1}{(p+1)!} w_c.\\n\\\\eea\\n\\n\\\\subsection{Integrating the equations}\\n\\nIn this section we integrate the equations assuming that the\\nsource terms $\\\\tilde w$ are known. It is convenient to\\nintroduce the following variables\\n\\\\bea\\nb &=& a + \\\\frac{q}{D-2} h \\\\nonu\\n\\\\Phi &=& \\\\phi - \\\\frac{{\\\\ta}}{2} h\\n\\\\eea\\nThese combinations are motivated by the fact that the supersymmetry\\nof the lowest order solution implies that $b$ and $\\\\Phi$ vanish\\non the lowest order solution. Equations (\\\\ref{e1})-(\\\\ref{e4})\\ndepend on the gauge field only through the combination $K^2$.\\nIt is convenient to introduce the notation\\n\\\\bea\\n\\\\bar{K}^2 &=& e^{{\\\\ta} \\\\phi} K^2 \\\\nonu\\n\\\\bar{K}^2 &=& \\\\bar{K_0}^2 + \\\\g \\\\bar{K_1}\\n\\\\eea\\nwhere $\\\\bar{K_0}$ is the lowest order value of $\\\\bar{K}$\\nand $\\\\bar{K_1}$ depends on the corrections.\\nIn terms of these variable equation (\\\\ref{e1})-(\\\\ref{e4}) become\\n\\\\bea\\n&& b_1'' - \\\\frac{q}{D-2} h_1'' - \\\\frac{q}{2} b_1' h_0' + \\\\frac{(q+1)}{r}\\nb_1'\\n- \\\\frac{q(q+1)}{(D-2)} \\\\frac{h_1'}{r} - \\\\frac{q}{D-2} \\\\bar{K}_1 +\\n\\\\tilde{w}_t =0  \\\\label{et} \\\\\\\\\\n&& (D-1) b_1 '' + \\\\frac{d}{D-2} h_1'' - \\\\frac{d}{2} b_1' h_0' +\\n\\\\frac{\\\\Delta}{2} h_0' h_1' + \\\\frac{(q+1)}{r} b_1' + \\\\frac{(q+1)d}{(D-2)}\\n\\\\frac{h_1'}{r} + {\\\\ta} \\\\Phi_1' h_0'   \\\\nonu\\n&&- \\\\frac{q}{D-2} \\\\bar{K}_1 +  \\\\tilde{w}_r =0 \\\\label{er} \\\\\\\\\\n&&b_1'' + \\\\frac{d}{D-2} h_1'' + \\\\frac{d}{2} b_1' h_0' + (2 q + d + 1)\\n\\\\frac{b_1'}{r} + \\\\frac{d(q+1)}{(D-2)} \\\\frac{h_1'}{r} + \\\\frac{d}{(D-2)}\\n\\\\bar{K}_1  +  \\\\tilde{w}_m = 0 \\\\label{em} \\\\\\\\\\n&&\\\\Phi_1'' + \\\\frac{(q+1)}{r} \\\\Phi_1' + \\\\frac{{\\\\ta}}{2} \\\\left( h_1'' +\\n\\\\frac{(D-2)}{2} b_1' h_0' + \\\\frac{(q+1)}{r} h_1' \\\\right) + \\\\frac{{\\\\ta}}{2}\\n\\\\bar{K}_1 +  \\\\tilde{w}_{\\\\phi} =0 \\\\label{ephi}\\n\\\\eea\\n\\nConsider the linear combination of equations\\n$d (\\\\ref{et}) + q (\\\\ref{em})$. The resulting equation can be integrated,\\n\\\\be\\nb_1' = \\\\frac{1}{(D-2)}\\\\frac{1}{r^{2 q + 1}}\\\\left[ -\\\\int r^{2 q + 1} \\\\left( d\\n\\\\tilde{w}_t + q \\\\tilde{w}_m \\\\right) + C_0 \\\\right]\\n\\\\ee\\nLet us introduce\\n\\\\be\\ny = \\\\frac{{\\\\ta}}{2} b_1 + \\\\frac{q}{(D-2)} \\\\Phi_1\\n\\\\ee\\nThe linear combination  of equation $\\\\frac{\\\\ta{a}}{2}\\n(\\\\ref{et}) + \\\\frac{q}{(D-2)} (\\\\ref{ephi})$ can be integrated as\\n\\\\be\\ny' = \\\\frac{1}{r^{q+1}} \\\\left[\\n-\\\\int r^{q+1} \\\\left( \\\\frac{{\\\\ta}}{2} \\\\tilde{w}_t + \\\\frac{q}{(D-2)}\\n\\\\tilde{w}_{\\\\phi} \\\\right) + Y_0 \\\\right] \\\\nonu\\n\\\\ee\\nIntegrating $b_1'$ and $y'$ once more one gets $\\\\Phi_1$,\\n\\\\be\\n\\\\Phi_1 = \\\\frac{(D-2)}{q} (y - \\\\frac{{\\\\ta}}{2} b_1)\\n\\\\ee\\nFinally, given $b_1$ and $y$, one may integrate the linear combination\\n$[(\\\\ref{er}) - (\\\\ref{et})]$ to obtain\\n\\\\be\\nh_1' = \\\\frac{1}{e^{\\\\frac{\\\\Delta}{2} h_0} r^{q+1}} \\\\left\\\\{ \\\\int r^{q+1}\\ne^{\\\\frac{\\\\Delta}{2} h_0} \\\\left[ (\\\\tilde w_t - \\\\tilde w_r)\\n- \\\\left( (D-2)b_1'' +\\n\\\\frac{(q-d)}{2} b_1' h_0' + {\\\\ta} \\\\Phi_1' h_0' \\\\right) \\\\right] + C_3\\n\\\\right\\\\}\\n\\\\ee\\nwhich can be further integrated to yield $h_1$.\\n\\nHaving obtained $a_1, h_1$ and $\\\\phi_1$ one then substitutes to the\\ngauge field equation (\\\\ref{geq}) to obtain $c_1$. Finally there is\\none further equation among (\\\\ref{e1})-(\\\\ref{e4}) to satisfy\\n(we only used three linear combinations to obtain $a_1, h_1$ and $\\\\phi_1$).\\nThis is expected to follow from the other equations up to a\\nconstant because of the Bianchi identity.\\n%(but we have not verified this).\\nThis final equation will thus impose a condition among the\\nintegration constants, as in the case of the D3 brane.\\n\\n\\\\section{Conclusions} \\\\label{disc}\\n\\\\setcounter{equation}{0}\\n\\nWe have studied in this paper the computation of quantum corrections\\nto brane solutions. These corrections are driven by the leading\\nhigher derivative corrections to the string theory effective\\naction. The corrections were computed perturbatively in $\\\\a'$,\\ni.e. the lowest order solution was substituted into the\\nleading higher derivative term of the effective action\\nand then the resulting equations were integrated to obtain the\\ncorrected solution. The straightforward application of this procedure,\\ni.e. the direct computation of the corrected equations,\\nis very tedious, basically due to the complicated tensor\\nstructure of the higher derivative terms. We\\ncompleted the computation in this manner but we\\nalso developed several alternative methods for analyzing the problem.\\n\\nThe first alternative method is the extension of the Palatini formalism\\nto higher derivative theories. In this method the\\nmetric and the Christoffel symbols are considered\\nas independent fields. The main advantage of this\\nmethod is that it reduces the number of partial\\nintegrations needed in order to derive the field\\nequations. This a significant simplification\\nbecause each factor of the Riemann tensor requires two\\npartial integrations in the standard derivation of the\\nfield equations, so for higher derivative theories that\\ndepend on $R^p$, where $R^p$ denotes $p$ Riemann\\ntensors contracted in some way, one gains at least\\n$p^2$ terms when using the Palatini method.\\nFurthermore, the organization of the\\ncomputation is more transparent.\\n\\nEven with the simplifications of the Palatini method, however,\\nthe computations are still very laborious. Things simplify\\nenormously if one is studying spherically symmetric solutions.\\nIn this case we derived an effective one dimensional action\\nthat governs the field equations, as we now describe.\\nWe start by substituting in the variation of the ten dimensional action,\\nthe ansatz for the metric  and the matter fields. Since by assumption\\nwe are considering a spherically symmetric solution, the resulting expression\\ndepends only on the radial coordinate $r$, and one may thus trivially\\nintegrate over all coordinates but $r$. After discarding an overall\\n(infinite) volume\\nfactor, the result can be integrated back to an one-dimensional\\naction where the  fields are the functions that appear in the\\noriginal ansatz. By construction the solutions of the\\none-dimensional field equations automatically solve\\nthe field equations of the original theory. Provided that\\nthe number of independent functions in the original ansatz\\nis equal to the number of field equations one gets by\\nsubstituting the ansatz in the original field equations,\\nthis method guarantees that the lower dimensional theory is a\\nconsistent truncation of the higher dimensional one (i.e.\\nall solutions of the lowest order equations lift to solutions\\nof the higher dimensional theory).\\n\\nIn the cases we study in this paper, the $1d$ action has\\nthe most transparent parametrization in terms of fields\\nthat appear in an intermediate step. In the brane solutions\\none can parametrize the transverse space in terms of polar\\ncoordinates. The intermediate theory is obtained by\\nreducing over the sphere at infinity. In the context\\nof near-horizon geometries, this is the sphere that appears\\nin the near-horizon limit.\\nWe have derived an effective $1d$ action for all D-branes\\n(the explicit formulas are for electric branes, but the\\nmagnetic case can be obtained along similar lines).\\nThese results can be used to study $\\\\a'$\\ncorrections to extremal and non-extremal branes, but\\nwe only studied extremal branes in this paper.\\n\\nIn the case of the D3 brane we further derive first order equations.\\nThe existence of such first order equations follows from the fact that\\nthe potential of the intermediate theory\\n(obtained by the reduction over the $S^5$ at infinity)\\nadmits an AdS critical\\npoint (since a particular solution of our equations is the\\n$AdS_5 \\\\times S^5$ solution). This implies that the lowest\\nequations admit a superpotential, and we indeed show\\nthat this is the case. The inclusion of the $\\\\a'$ corrections modifies\\nthe first order equations by the addition of source terms.\\n\\nThe main limitation in our considerations comes from the\\nfact that the complete set of the leading higher derivative\\nterms is not yet available. Provided that we are supplied with\\nthese terms, we show how to integrate the equations in all cases\\nto obtain the corrections to the solutions.\\nThe corrections are given in terms of integrals of the evaluation of the\\nhigher derivative terms on the lowest order solution.\\n\\nThe case of the D3 brane is under better control\\nbecause the dilaton is constant, so higher derivative\\nterms depending on derivatives of the dilaton\\ndo not contribute. To compute the correction one\\nstill needs to know the higher derivative terms that depend on $F_5$,\\nbut these terms are not known at present. Such terms are expected\\nto be present because they are present in the dilaton superfield\\n\\\\cite{paper}.\\n\\nThese terms would also lead to a modification of the self-duality\\nequation of $F_5$, as discussed in the introduction.\\nWe proceed by considering the effect of only the\\n$R^4$ term, so\\n%(as is the practice in almost all of the literature\\n%on $\\\\a'$ corrections to solutions)\\none may consider this  computation as a ``toy'' model computation.\\nIncluding the $R^4$ only, we explicitly integrate the\\nequations and obtain the corrected solution for this case.\\nWe find that the integration constants may be adjusted\\nso that the solution is asymptotically flat and\\nregular in the interior. This is a non-trivial result\\nbecause the integration constants at our disposal are\\nless than the number of terms that are diverging in the\\nnear-horizon limit. In turns out, however, that the coefficient\\nof these\\nterms are appropriately correlated and a smooth\\nlimit exists. In the near-horizon limit the solution\\nbecomes $AdS_5 \\\\times S^5$ with the same value of the\\ncosmological constant but a different (constant) value\\nof the dilaton than the lowest order solution. The fact that\\ncosmological constant is uncorrected is due to\\na cancellation.\\n\\nWe used the general method of Wald \\\\cite{Wald1,Wald2,Wald3} to analyze the\\nthermodynamics\\nof the corrected solutions. In the presence of higher derivative terms the\\nADM mass formula and other thermodynamic quantities receive corrections\\nand we discuss how to obtain the new formulas.\\nIn particular, we computed all thermodynamics quantities of the\\ncorrected D3 brane solution. We find that the temperature and the\\nentropy remain equal to zero, the charge is uncorrected but the\\nmass and the electric potential renormalize. For solutions with\\nzero temperature or entropy the first law of the thermodynamics\\nin integrated form (Smarr formula) implies that the mass density\\n$\\\\mu$, charge density $q$\\nand electric potential $v$ are related by\\n\\\\be \\\\label{smarr1}\\n\\\\mu = -{g_s \\\\over \\\\sqrt{16 \\\\pi G_N}} v q\\n\\\\ee\\nwhere the factor depending on Newton's constant is conventional.\\nThe lowest order D3 brane solution satisfies (\\\\ref{smarr1}) with\\n$\\\\mu \\\\sim q \\\\sim N$, where $N$ is the number of D3 branes\\nand $v \\\\sim g_s^{-1}$. In the corrected solution $q$ remains\\nuncorrected but $\\\\mu$ and $v$ renormalize such that (\\\\ref{smarr1})\\nstill holds.\\n\\nWe emphasise again that in computing the corrections to\\nthe D3 brane solution we did not take into account (presently\\nunknown) higher derivative\\nterms that depend on $F_5$. Such terms will\\nmodify the field equations\\n(in particular the self-duality condition for $F_5$) as well as the\\nformula for the charges of the solution (similarly to the fact that\\nthe $R^4$ term\\nmodifies the ADM mass formula). A simple argument\\nthat uses dimensional analysis and the form of the lowest order\\nsolution shows that any (positive) correction to\\nthe mass density would imply that it is energetically favored for\\nD3 branes to coalesce together rather than remain separated.\\nThis contradicts the no-force condition\\nand strongly suggests that half supersymmetric\\nD3 brane solution do not renormalize. This in turn suggests\\nthat the $F_5$ terms will make a significant contribution.\\nTo properly address this issue the exact knowledge of the\\n$F_5$-dependent higher derivative terms will be required.\\n\\nIn this paper we studied corrections to extremal branes. Even though\\nthe exact form of the higher derivative terms are not known,\\nwe succeeded in integrating the equations in general.\\nSome of our\\nresults, such the effective one-dimensional action, hold for\\nnon-extremal branes as well.\\nIt would be interesting to investigate whether the\\nnon-extremal equations can be similarly integrated in general.\\nOther generalizations of our analysis\\ninvolve studying corrections to intersecting brane configurations.\\nIt will be interesting to see if the simple intersection rules generalize\\nwhen $\\\\a'$ corrections are included. This study will be relevant for\\nobtaining $\\\\a'$ corrections to black hole configurations.\\n\\n\\n\\\\section*{Acknowledgments}\\nKS and AS are supported by NWO.\\nThis material is also based upon work supported by the National Science\\nFoundation under Grant No. PHY-9802484 and PHY-0099590.\\nAny opinions, findings, and conclusions or recommendations\\nexpressed in this material are those of the authors and do not necessarily\\nreflect the views of the National Science Foundation.\\n\\n\\\\appendix\\n\\n\\\\section{Explicit expressions for $W$ and its variation\\\\label{direct}}\\n\\\\setcounter{equation}{0}\\n\\nIn this appendix we outline the details of the direct computation of the\\nvariation of the $\\\\a'^3$ term in the action for arbitrary $p$-branes, and present some\\nresults for specific lowest order solutions.\\n\\nWe will be completely general in that we will consider a generic $p$-brane in $D$\\ndimensions, with an ansatz for the metric of the form:\\n\\\\be\\\\label{metricansatz}\\n\\\\dd s^2=e^a\\\\left[(-f\\\\dd t^2+\\\\dd\\\\vec{x}^2_p) +e^h(f^{-1}\\\\dd r^2+r^2\\\\dd\\\\O_d^2)\\\\right],\\n\\\\ee\\nwhere $a=a(r)$ and $h=h(r)$, and $p$ and $d$ satisfy $p+d=D-2$.\\n\\nIn a background with these symmetries the non-zero components of the Weyl tensor are:\\n\\\\bea\\\\label{xy}\\nC^a_{\\\\,\\\\,cbd}&=& Q\\\\,(\\\\d^a_b g_{cd}-\\\\d^a_d g_{bc})\\\\nn\\nC^t_{\\\\,\\\\,atb}&=& S\\\\, g_{ab}\\\\nn\\nC^r_{\\\\,\\\\,arb}&=& T\\\\, g_{ab} \\\\nn\\nC^m_{\\\\,\\\\,anb}&=& U\\\\,\\\\d^m_n g_{ab}\\\\nn\\nC^t_{\\\\,\\\\,rtr}&=& V g_{rr} \\\\nn\\nC^r_{\\\\,\\\\,mrn}&=& X\\\\, g_{mn}\\\\nn\\nC^t_{\\\\,\\\\,mtn}&=& Y\\\\, g_{mn}\\\\nn\\nC^p_{\\\\,\\\\,mqn}&=& Z\\\\,(\\\\d^p_q g_{mn}-\\\\d^p_n g_{mq})~.\\n\\\\eea\\nThe explicit expressions for the functions $Q,\\\\ldots, Z$ are:\\n\\\\bea\\\\label{x}\\nQ&=&-{e^{-a-h}\\\\over4(D-1)(D-2)r^2}\\\\left[2rf'(4d-rh'+2drh')+4(d-d^2+r^2f'')+\\\\right.\\\\nn\\n&+&\\\\left.df\\\\left(4drh'+ (d-1)r^2h'^2 +4(d-1+r^2h''\\\\right)\\\\right]\\\\nn\\nS&=&-{e^{-a-h}\\\\over4(D-1)(D-2)r^2}\\\\left[4d-4d^2+rf'(10d-2Dd-3rh' +5drh' +Drh'-dDrh')\\n\\\\right.\\\\nn\\n&+&\\\\left.6r^2f'' -2Dr^2f'' +df\\\\left(4drh' +(d-1)r^2h'^2 +4(d-1+r^2h'')\\\\right)\\\\right]\\\\nn\\nT&=&{e^{-a-h}\\\\over4(D-1)(D-2)r^2}\\\\left[-4d +4d^2+rf'(-10d +2Dd +3rh' -5drh'-Drh'+Ddrh')\\n\\\\right.\\\\nn\\n&-&\\\\left.{\\\\over}6r^2f'' +2Dr^2f'' +df\\\\left((4-4d-2(1+2d-D)rh' -(d-1)r^2h'^2 -6r^2h''\\n+2Dr^2h''\\\\right))\\\\right]\\\\nn\\nU&=&-{e^{-a-h}\\\\over4(D-1)(D-2)r^2}\\\\left[(2rf'(2+4d-2D+2drh'-Drh') -4(d^2-1+D-Dd-r^2f'')\\n\\\\right.\\\\nn\\n&+&f\\\\left(4d^2-4+4D-4Dd +2(-1+2d+2d^2+D-2dD)rh'+{\\\\over}\\\\right.\\\\nn\\n&+&\\\\left.{\\\\over}\\\\left.(d-1)(1+d-D)r^2h'^2 +2r^2h'' +4dr^2h'' -2Dr^2h''\\\\right)\\\\right]\\\\nn\\nV&=&{e^{-a-h}\\\\over4(D-1)(D-2)r^2}\\\\left[(D-3)rf'(4d-2rh' +2drh' +Drh') +2(-2d+2d^2 -6r^2f''\\n\\\\right.\\\\nn\\n&+&\\\\left.{\\\\over}5Dr^2f'' -D^2r^2f'')+df(4-4d-2(1+2d-D)rh' -(d-1)r^2h'^2 -6r^2h''\\n+2Dr^2h'')\\\\right]\\\\nn\\nX&=&-{e^{-a-h}\\\\over4(D-1)(D-2)r^2}\\\\left[4-4d^2-4D +4Dd+rf'(8+10d-10D-2Dd+2D^2+rh'\\\\right.\\\\nn\\n&+&5drh' -4Drh' -dDrh'+D^2rh') +6r^2f''-2Dr^2f''\\\\nn\\n&+&\\\\left.{\\\\over}(1+d-D)f(-4+4d+2(1+2d-D)rh' +(d-1)r^2h'^2 +6r^2h'' -2Dr^2h'')\\\\right]\\\\nn\\nY&=&{e^{-a-h}\\\\over4(D-1)(D-2)r^2}\\\\left[-4(d-1)(1+d-D)(-1+f) -2(4+5d+D(-5-d+D))rf'\\\\right.\\\\nn\\n&+&2(1-2d(d+1) +(2d-1)D) rfh' -(1+5d+D(-4-d+D))r^2f'h'+\\\\nn\\n&+&\\\\left.{\\\\over}(3-(d-4)d+(d-3)D)r^2fh'^2 +2(D-3)r^2f'' -2(1+2d-D)r^2f(h'^2+h'')\\\\right]\\\\nn\\nZ&=&-{e^{-a-h}\\\\over4(D-1)(D-2)r^2}\\\\left[2\\\\left(rf'(4+4d-4D+rh'+2drh'-2Drh')+\\\\right.\\\\right.\\\\nn\\n&-&\\\\left.{\\\\over}2(d+d^2-D-2dD+D^2-r^2f'')\\\\right) +(1+d-D)f\\\\left(4(1+d-D)rh'{\\\\over}\\\\right.\\\\nn\\n&+&\\\\left.\\\\left.{\\\\over} (d-D)r^2h'^2+4(d-D+r^2h'')\\\\right)\\\\right]\\n\\\\eea\\n\\nThe gravitational $\\\\a'^3$ correction $W$ in terms\\nof these variables can be expressed as:\\n\\\\bea\\nW &=& p(p-1) [ T^4 + S^4 + 4 (S^3 + T^3) Q + 3 (p-2) Q^4 + 4 Q^2 (T^2 +\\nS^2 + d U^2 ) + d U^4  + 4 d U^3 Q] \\\\nn\\n&+& d(d-1) [X^4 + Y^4 + 4 (X^3 + Y^3 ) Z + 3 (d-2) Z^4 + 4 Z^2 (X^2 +\\nY^2 + p U^2) + p U^4 + 4 p U^3 Z] \\\\nn\\n&+& 2 p [T^2 S^2 + V^2 T^2 + V^2 S^2 +2 (V^2 T S + S^2 V T + T^2 V S)] \\\\nn\\n&+& 2 d [X^2 Y^2 + V^2 X^2 + V^2 Y^2 +2 (V^2 X Y + Y^2 V X + X^2 V Y)] \\\\nn\\n&+& 2dp [X^2 T^2 + S^2 Y^2 + U^2 (X^2 + Y^2 + T^2 + S^2)+ \\\\nn\\n&+& 2 (S^2 U Y + Y^2 S U + T^2 U X + X^2 T U + U^2 T X + U^2 S Y) ]~.\\n\\\\le{W}\\nWe stress that these formulas are valid for arbitrary $p$ and $D$. In appendix \\\\ref{explicit}\\nwe\\nwill give the results for specific extremal and non-extremal D3-brane solutions.\\n\\nNext we compute the variation of $W$. Let us define\\n\\\\be\\n\\\\int\\\\dd^Dx\\\\sqrt{g}\\\\,e^{-{12\\\\over D-2}\\\\f}\\\\,\\\\d W=\\n\\\\int\\\\dd^Dx\\\\sqrt{g}\\\\,\\\\d g^{ij}w_{ij}\\n=\\\\int\\\\dd^Dx\\\\sqrt{g}\\\\,\\\\d g_{ij}w^{ij}.\\n\\\\ee\\nNotice that $w^{ij}=-g^{ik} g^{jl} w_{kl}$.\\nExplicit computation of $w_{ij}$ gives:\\n\\\\be\\nw^{ij} = w_1^{ij} + \\\\omega^{ij}\\n\\\\ee\\nwhere\\n\\\\be\\nw_1^{ij} =\\\\frac{1}{2}\\\\,e^{-{12\\\\over D-2}\\\\f} \\\\left[ \\\\left( -4\\nB_{mk}{}^{ln} + 4 B_{mk}^{ln}\\n- 3 B_m{}^{ln}{}_{k} \\\\right) C^{mip}{}_n C^{kj}{}_{pl} -\\nB_{mk}{}^{li} B^{mjk}{}_l + (i \\\\leftrightarrow j) \\\\right]\\n\\\\ee\\n\\\\bea\\n\\\\o^{ij} &=&\\\\frac{1}{4} \\\\left[ \\\\na_n \\\\na_m \\\\left(D^{inmj} + D^{ijmn} -\\nD^{nimj} \\\\right) \\\\right. \\\\nonu\\n&-& \\\\frac{1}{(D-2)} \\\\left( \\\\na_l \\\\na^i (d^{jl} + d^{lj}) - g^{ij}\\n\\\\na_m \\\\na_n d^{nm}  - \\\\na^2  d^{ij}  + 2 ( R^i_m D^j{}_l{}^{lm} -\\nR^m_n D_m{}^{ijn}) \\\\right. \\\\nonu\\n&+& \\\\left. \\\\left. \\\\frac{2}{(D-1)} \\\\left((R^{ij} - \\\\na^i \\\\na^j + \\\\na^2 g^{ij})\\nD_{mn}{}^{mn}  - R D_l{}^{ilj} \\\\right) \\\\right) + (i \\\\leftrightarrow j)\\n\\\\right]\\n\\\\le{doubleu}\\nand we have defined\\n\\\\bea\\nB_{ijkl} &=& C^m{}_{ijn} C^n{}_{lkm} \\\\nonu\\nD_j{}^{lki} &=& e^{-{12\\\\over D-2}\\\\f}[\\\\left(2 B_{jm}{}^{ni} + 3\\nB_j{}^{ni}{}_m -2 B_{jm}^{ni}\\n\\\\right) C^{mlk}{}_n - B^{lni}{}_m C^m{}_j{}^k{}_n - B^{ln}_{mj}\\nC^m{}_n{}^{ki}]\\n-(k \\\\leftrightarrow i) \\\\nonu\\nd^{ij} &=& D_l{}^{ilj} - D^i{}_l{}^{lj}~.\\n\\\\eea\\n\\n\\n\\\\section{Explicit form of the corrections for extremal and non-extremal\\nD3-branes\\\\label{explicit}}\\n\\\\setcounter{equation}{0}\\n\\nIn this appendix we give explicit formulas for $W$ and its variation\\nfor thermal AdS, and for the extremal and non-extremal D3-brane.\\nThese solutions satisfy the constraint $2a_0'+h_0'=0$\\n(which is a necessary but not sufficient condition for supersymmetry), and we have:\\n\\\\bea\\ne^{h_0}&=&\\\\k_0+\\\\left(\\\\ell\\\\over r\\\\right)^{d-1}\\\\nn\\nf&=&1-\\\\left(r_0\\\\over r\\\\right)^{d-1}\\\\nn\\ne^{\\\\f_0}&=&g_s~.\\n\\\\eea\\n\\\\\\\\\\n{\\\\bf Thermal AdS$_5\\\\times S^5$}\\\\\\\\\\n\\\\\\\\\\nThe AdS limit can simply be taken by setting $\\\\k_0=0$. The scalars $Q,\\\\ldots,Z$ are all\\ngiven in terms of a single function $\\\\Psi$. We get:\\n\\\\bea\\nS &=& T = -Q = - \\\\Psi \\\\nn\\nV &=& 3 \\\\Psi \\\\nn\\n\\\\Psi &=& \\\\frac{r_0^4}{r^4 \\\\ell^2}.\\n\\\\eea\\nand\\n\\\\be\\nW = 180 \\\\Psi^4 ,\\n\\\\ee\\nwhich agrees with the expression in \\\\cite{GKT}.\\\\\\\\\\n\\\\\\\\\\n{\\\\bf Extremal and non-extremal D3-branes}\\\\\\\\\\n\\\\\\\\\\nFor the extremal D3-brane $r_0=0$, the result is:\\n\\\\bea\\nQ=S&=&0\\\\nn\\nT = V &=& 5 \\\\chi \\\\nn\\nU = Y &=& - \\\\chi \\\\nn\\nX &=& -4 \\\\chi \\\\nn\\nZ &=& 2 \\\\chi \\\\nn\\n\\\\chi &=& \\\\frac{\\\\ell^4 \\\\kappa_0}{r^6 }\\\\,e^{-{5\\\\over2}h_0} \\\\label{wweyl}  ~.\\n\\\\eea\\nand\\n\\\\bea\\nW &=& 28 800 \\\\chi^4 \\\\label{extrW} ~.\\n\\\\eea\\n\\nIn the non-extremal case, $W$ has a more complicated form:\\n\\\\bea\\nW&=&{60\\\\over r^{16}(\\\\ell^4+\\\\k_0r^4)^{10}}\\\\left[3\\\\ell^{32}r_0^{16}\\n+32\\\\k_0\\\\ell^{28}r^4r_0^{16} +219\\\\k_0^8r^{32}r_0^{16}+\\\\right.\\\\nn\\n&+&12\\\\k_0^7\\\\ell^4r^{28}r_0^{12}(62r^4+23r_0^4) +2\\\\k_0^2\\\\ell^{24}r^8r_0^8(12r^8\\n-12r^4r_0^4+83r_0^8)+\\\\nn\\n&+&4k_0^3\\\\ell^{20}r^{12}r_0^8(64r^8-58r^4r_0^4 +131r_0^8) +2\\\\k_0^6\\\\ell^8r^{24}r_0^8 (612r^8\\n-4r^4r_0^4 +371r_0^8)+\\\\nn\\n&+&16\\\\k_0^5 \\\\ell^{12}r^{20}r_0^4 (60r^{12} -14r^8r_0^4 +28r^4r_0^8 +53r_0^{12})+\\\\nn\\n&+&\\\\left. 2\\\\k_0^4\\\\ell^{16}r^{16} (240r^{16} -480r^{12}r_0^4 +832r^8r_0^8 -464r^4 r_0^{12}\\n+515r_0^{16})\\\\right]\\n\\\\eea\\n\\nWe also give here the variation of $W$ obtained from \\\\eq{doubleu} for the extremal\\nD3-brane. One finds that the off-diagonal components are zero and the diagonal ones\\nare equal to\\n\\\\bea\\n%W &=& \\\\frac{28800 \\\\k_0^4 \\\\ell^{16} }{r^{24} e^{10 h_0}} \\\\nonu\\nw^{tt} &=&-\\\\frac{4800 \\\\kappa_0^3 \\\\ell^{12}}{r^{28} e^{10 h_0}}\\n\\\\left( 56 \\\\ell^8 - 123 \\\\kappa_0 \\\\ell^4 r^4 + 42 \\\\kappa_0^2 r^8 \\\\right)\\ng^{tt} \\\\nonu\\nw^{aa} &=&-\\\\frac{4800 \\\\kappa_0^3 \\\\ell^{12}}{r^{28} e^{10 h_0}}\\n\\\\left( 56 \\\\ell^8 - 123 \\\\kappa_0 \\\\ell^4 r^4 + 42 \\\\kappa_0^2 r^8 \\\\right)\\ng^{aa} \\\\nonu\\nw^{rr} &=&-\\\\frac{9600 \\\\kappa_0^3 \\\\ell^{12}}{r^{28} e^{10 h_0}}\\n\\\\left( 7 \\\\ell^8 - 9 \\\\kappa_0 \\\\ell^4 r^4 + 6 \\\\kappa_0^2 r^8 \\\\right)\\ng^{rr} \\\\nonu\\nw^{mm} &=&\\\\frac{1920 \\\\kappa_0^3 \\\\ell^{12}}{r^{28} e^{10 h_0}}\\n\\\\left( 119 \\\\ell^8 - 267 \\\\kappa_0 \\\\ell^4 r^4 + 90 \\\\kappa_0^2 r^8 \\\\right)\\ng^{mm}\\n\\\\eea\\nwhere $a$ runs over the spatial worldvolume coordinates and $m$ over\\nthe coordinates of the sphere.\\n\\n\\n\\\\section{The most general solution of the lowest order equations \\\\label{gene}}\\n\\\\setcounter{equation}{0}\\n\\nIn this appendix we present the most general solution of the lowest\\norder equations (\\\\ref{eaex})-(\\\\ref{ephiex}). An analysis of this\\nsystem has also been presented in \\\\cite{Zhou:1999nm}. Let us define\\n\\\\be\\n\\\\a=2 a'+ h', \\\\qquad \\\\b = h', \\\\qquad \\\\g = \\\\f'\\n\\\\ee\\nConsider the\\nfollowing linear combinations of the equations\\n\\\\bea\\n{1 \\\\over 5} [(\\\\ref{eaex})- (\\\\ref{efex})]: &&\\n\\\\a' + {9 \\\\over r} \\\\a + 2 \\\\a^2 =0 \\\\label{alpha} \\\\\\\\\\n(\\\\ref{ephiex}): && \\\\g' + \\\\g (2 \\\\a + {5 \\\\over r}) =0 \\\\label{gamma} \\\\\\\\\\n-{4 \\\\over 5} [(\\\\ref{eaex})- {9 \\\\over 4} (\\\\ref{efex})]: &&\\n\\\\b' + {5 \\\\over r} \\\\b + \\\\b^2 - {36 \\\\over r} \\\\a - 9 \\\\a^2 + \\\\g^2 =0\\n\\\\label{beta}\\n\\\\eea\\nThe solution of these equations should still satisfy (\\\\ref{ehex}).\\n\\nEquations (\\\\ref{alpha})-(\\\\ref{gamma})-(\\\\ref{beta}) can be integrated\\nby elementary means. Let us first consider the special case\\n\\\\be \\\\label{sp}\\n\\\\a = 0 \\\\quad \\\\Rightarrow \\\\quad h+2 a = c_1\\n\\\\ee\\nThen we get\\n\\\\bea\\n\\\\g =\\n{4 c_2 \\\\over r^5} \\\\quad & \\\\Rightarrow & \\\\quad \\\\f = c_3 - {c_2 \\\\over r^4} \\\\\\\\\\n\\\\b = -{4 c_2 \\\\over r^5} \\\\tan \\\\left( c_4 - {c_2 \\\\over r^4} \\\\right)\\n\\\\quad & \\\\Rightarrow & h = c_5\\n+ \\\\log \\\\cos \\\\left(c_4 - {c_2 \\\\over r^4}  \\\\right)\\n\\\\eea\\nInserting in (\\\\ref{ehex}) we get\\n\\\\be \\\\label{inte}\\nc_2 e^{c_1 + c_5} = \\\\pm l^4\\n\\\\ee\\nRequiring that the solution is asymptotically flat\\nand the dilaton approaches 1 asymptotically fixes\\n\\\\be\\nc_1=0, \\\\qquad e^{-c_5} = \\\\cos c_4, \\\\qquad c_3=1.\\n\\\\ee\\nWe thus finally get the solution\\n\\\\bea \\\\label{d3ext}\\nds^2 &=&\\n\\\\left({\\\\cos (c_4 - {l^4 \\\\cos c_4 \\\\over r^4}) \\\\over \\\\cos c_4}\\\\right)^{-1/2}\\n(-dt^2 + d \\\\vec{x}^2)\\n+ \\\\left({\\\\cos (c_4 - {l^4 \\\\cos c_4 \\\\over r^4}) \\\\over \\\\cos c_4}\\\\right)^{1/2}\\n(dr^2 + r^2 d\\\\O_5^2)   \\\\nonu\\n\\\\phi &=& 1 \\\\mp {l^4 \\\\cos c_4  \\\\over r^4}\\n\\\\eea\\nand  the self-dual $F_5$ is given in (\\\\ref{sdsol}).\\nThe $\\\\mp$ sign in the dilaton is related to the two sign choices\\nin (\\\\ref{inte}). Neither the metric nor the five form\\ndepend on these signs. The reason is that one can change the relative\\nsign in $c_4 - l^4 \\\\cos c_4/r^4$ by taking $c_4 \\\\to - c_4$.\\nThis does not affect the metric and the five-form because this\\nconbination appears inside the cosine.\\nThe standard supersymmetric D3 brane solution is obtained by\\nthe limit $\\\\cos c_4 \\\\to 0$.\\n\\nEquation (\\\\ref{alpha}) admits more general solutions than (\\\\ref{sp}).\\nThe most general solution of (\\\\ref{alpha}) is\\n\\\\be\\n\\\\a = {4 \\\\over (r^8 d_0 - 1) r} \\\\quad \\\\Rightarrow \\\\quad\\nh+2 a = d_1 + \\\\half \\\\log \\\\left( d_0 -{1 \\\\over r^8} \\\\right)\\n\\\\ee\\nHere and in the following we assume $d_0>0$, but a similar analysis\\ncan be done for $d_0<0$. %Taking $d_0 \\\\to \\\\infty$ yields (\\\\ref{sp}).\\nInserting the solution of $\\\\a$ in (\\\\ref{gamma}) and integrating we obtain\\n\\\\be\\n\\\\g = {d_2 r^3 \\\\over d_0 r^8 -1} \\\\quad \\\\Rightarrow \\\\quad\\n\\\\f = d_3 +\\n{d_2 \\\\over 8 \\\\sqrt{d_0}} \\\\log {\\\\sqrt{d_0} r^4 -1 \\\\over \\\\sqrt{d_0} r^4 + 1}~.\\n\\\\ee\\n\\nEquation (\\\\ref{beta}) becomes\\n\\\\be \\\\label{beta1}\\n\\\\b' + {5 \\\\over r} \\\\b + \\\\b^2 + {64 d_0 D r^6 \\\\over (d_0 r^8 -1)^2} =0\\n\\\\ee\\nwhere $D=(d_2^2 - 144 d_0)/64 d_0$. This can be solved as follows. Let us\\ndefine\\n\\\\be\\nH=e^h, \\\\qquad \\\\rho = \\\\half ({1 \\\\over \\\\sqrt{d_0} r^4} +1)\\n\\\\ee\\nIn terms of these variables (\\\\ref{beta1}) becomes\\n\\\\be\\n\\\\pa_\\\\rho^2 H + {D \\\\over \\\\r^2 (1 -\\\\r)^2} H =0.\\n\\\\ee\\nThe most general solution of this equation is\\n\\\\be\\nH=d_4 \\\\r^{\\\\a_+} (1-\\\\r)^{\\\\a_-}\\n+ d_5 \\\\r^{\\\\a_-} (1-\\\\r)^{\\\\a_+}\\n\\\\ee\\nwhere $\\\\a_{\\\\pm} = \\\\half (1 \\\\pm \\\\sqrt{1 - 4 D})$. The exponents are\\nreal for $D \\\\leq 1/4$. %(or $d_2^2 \\\\leq 160 d_0$).\\nThe case\\n$D=1/4$ is a special case since in this case $\\\\a_+=\\\\a_-$.\\nIn this case the second independent solution involves a logarithm.\\nOne should still impose (\\\\ref{ehex}) which should relate\\nthe integration constants to the scale $l$.\\nAsymptotic flatness fixes\\n$d_4 + d_5 = 2, d_1 = - \\\\half \\\\log d_0, d_3=1$.\\n\\n\\n\\n\\\\begin{thebibliography}{99}\\n\\n\\n\\\\bibitem{KR}\\nR.~Kallosh and A.~Rajaraman,\\n``Vacua of M-theory and string theory,''\\nPhys.\\\\ Rev.\\\\ D {\\\\bf 58}, 125003 (1998)\\n[hep-th/9805041].\\n%%CITATION = HEP-TH 9805041;%%\\n\\n\\\\bibitem{CMP}\\nC.~G.~Callan, R.~C.~Myers and M.~J.~Perry,\\n``Black Holes In String Theory,''\\nNucl.\\\\ Phys.\\\\ B {\\\\bf 311}, 673 (1989).\\n%%CITATION = NUPHA,B311,673;%%\\n\\n  \\\\bibitem{BG}\\nT.~Banks and M.~B.~Green,\\n``Non-perturbative effects in AdS(5) x S(5) string theory and\\nd = 4 SUSY  Yang-Mills,''\\nJHEP {\\\\bf 9805}, 002 (1998)\\n[hep-th/9804170].\\n%%CITATION = HEP-TH 9804170;%%\\n\\n\\\\bibitem{GKT}\\nS.~S.~Gubser, I.~R.~Klebanov and A.~A.~Tseytlin,\\n``Coupling constant dependence in the thermodynamics of N = 4\\nsupersymmetric\\nYang-Mills theory,''\\nNucl.\\\\ Phys.\\\\ B {\\\\bf 534}, 202 (1998)\\n[hep-th/9805156].\\n%%CITATION = HEP-TH 9805156;%%\\n\\n\\\\bibitem{PT}\\nJ.~Pawelczyk and S.~Theisen,\\n``AdS(5) x S(5) black hole metric at O($\\\\alpha'^3$),''\\nJHEP {\\\\bf 9809}, 010 (1998)\\n[hep-th/9808126].\\n%%CITATION = HEP-TH 9808126;%%\\n\\n\\\\bibitem{GW}\\nD.~J.~Gross and E.~Witten,\\n``Superstring Modifications Of Einstein's Equations,''\\nNucl.\\\\ Phys.\\\\ B {\\\\bf 277}, 1 (1986).\\n%%CITATION = NUPHA,B277,1;%%\\n\\n%\\\\cite{Gross:1986mw}\\n\\\\bibitem{GS}\\nD.~J.~Gross and J.~H.~Sloan,\\n``The Quartic Effective Action For The Heterotic String,''\\nNucl.\\\\ Phys.\\\\ B {\\\\bf 291}, 41 (1987).\\n%%CITATION = NUPHA,B291,41;%%\\n\\n%\\\\cite{Grisaru:vi}\\n\\\\bibitem{Grisaru:vi}\\nM.~T.~Grisaru, A.~E.~van de Ven and D.~Zanon,\\n``Four Loop Beta Function For The N=1 And N=2 Supersymmetric\\nNonlinear Sigma Model In Two-Dimensions,''\\nPhys.\\\\ Lett.\\\\ B {\\\\bf 173}, 423 (1986);\\n%%CITATION = PHLTA,B173,423;%%\\nM.~T.~Grisaru and D.~Zanon,\\n``Sigma Model Superstring Corrections To The Einstein-Hilbert Action,''\\nPhys.\\\\ Lett.\\\\ B {\\\\bf 177}, 347 (1986).\\n%%CITATION = PHLTA,B177,347;%%\\n\\n\\\\bibitem{paper}\\nS.~de Haro, A.~Sinkovics and K.~Skenderis,\\n``On a supersymmetric completion of the $R^4$ term in IIB supergravity,''\\nto appear in Phys. Rev.  D, arXiv:hep-th/0210080.\\n%%CITATION = HEP-TH 0210080;%%\\n\\n\\n%\\\\cite{Frolov:2001xr}\\n\\\\bibitem{Frolov:2001xr}\\nS.~Frolov, I.~R.~Klebanov and A.~A.~Tseytlin,\\n``String corrections to the holographic RG flow of supersymmetric  SU(N) x\\nSU(N+M) gauge theory,''\\nNucl.\\\\ Phys.\\\\ B {\\\\bf 620}, 84 (2002)\\n[arXiv:hep-th/0108106].\\n%%CITATION = HEP-TH 0108106;%%\\n\\n\\n%\\\\cite{Peeters:2001ub}\\n\\\\bibitem{Peeters:2001ub}\\nK.~Peeters, P.~Vanhove and A.~Westerberg,\\n``Chiral splitting and world-sheet gravitinos in higher-derivative\\nstring  amplitudes,''\\nClass.\\\\ Quant.\\\\ Grav.\\\\  {\\\\bf 19}, 2699 (2002)\\n[arXiv:hep-th/0112157].\\n%%CITATION = HEP-TH 0112157;%%\\n\\n\\\\bibitem{FT}\\nS.~Frolov and A.~A.~Tseytlin,\\n``$R^4$ corrections to conifolds and G(2) holonomy metrics,''\\nNucl.\\\\ Phys.\\\\ B {\\\\bf 632}, 69 (2002)\\n[arXiv:hep-th/0111128].\\n%%CITATION = HEP-TH 0111128;%%\\n\\n\\\\bibitem{HW} P.~S.~Howe and P.~C.~West,\\n``The Complete N=2, D = 10 Supergravity,''\\nNucl.\\\\ Phys.\\\\ B {\\\\bf 238}, 181 (1984).\\n%CITATION = NUPHA,B238,181;%%\\n\\n\\\\bibitem{Green1}\\nM.~B.~Green and M.~Gutperle,\\n``Effects of D-instantons,''\\nNucl.\\\\ Phys.\\\\ B {\\\\bf 498}, 195 (1997)\\n[hep-th/9701093].\\n%%CITATION = HEP-TH 9701093;%%\\n\\n\\\\bibitem{Wald1}\\nR.~M.~Wald,\\n``Black Hole Entropy In Noether Charge,''\\nPhys.\\\\ Rev.\\\\ D {\\\\bf 48}, 3427 (1993)\\n[arXiv:gr-qc/9307038].\\n%%CITATION = GR-QC 9307038;%%\\n\\n\\n\\\\bibitem{Wald2}\\nV.~Iyer and R.~M.~Wald,\\n``Some properties of Noether charge and a proposal for dynamical black\\nhole entropy,''\\nPhys.\\\\ Rev.\\\\ D {\\\\bf 50} (1994) 846\\n[arXiv:gr-qc/9403028].\\n%%CITATION = GR-QC 9403028;%%\\n\\n\\n\\\\bibitem{Wald3}\\nV.~Iyer and R.~M.~Wald,\\n``A Comparison of Noether charge and Euclidean methods for computing the\\nentropy\\nof stationary black holes,''\\nPhys.\\\\ Rev.\\\\ D {\\\\bf 52} (1995) 4430\\n[arXiv:gr-qc/9503052].\\n%%CITATION = GR-QC 9503052;%%\\n\\n\\n\\\\bibitem{NonR}\\nL.~Alvarez-Gaume and D.~Z.~Freedman,\\n``Geometrical Structure And Ultraviolet Finiteness In The Supersymmetric\\nSigma Model,''\\nCommun.\\\\ Math.\\\\ Phys.\\\\  {\\\\bf 80}, 443 (1981);\\n%%CITATION = CMPHA,80,443;%%\\nP.~S.~Howe and G.~Papadopoulos,\\n``Ultraviolet Behavior Of Two-Dimensional Supersymmetric Nonlinear\\nSigma Models,''\\nNucl.\\\\ Phys.\\\\ B {\\\\bf 289}, 264 (1987).\\n%%CITATION = NUPHA,B289,264;%%\\n\\n\\\\bibitem{Kaloper:1997ux}\\nN.~Kaloper and K.~A.~Meissner,\\n``Duality beyond the first loop,''\\nPhys.\\\\ Rev.\\\\ D {\\\\bf 56}, 7940 (1997)\\n[arXiv:hep-th/9705193].\\n%%CITATION = HEP-TH 9705193;%%\\n\\n\\\\bibitem{pusp}\\nN.~Berkovits,\\n``Super-Poincare covariant quantization of the superstring,''\\nJHEP {\\\\bf 0004} (2000) 018\\n[arXiv:hep-th/0001035].\\n%%CITATION = HEP-TH 0001035;%%\\n\\n\\\\bibitem{BH}\\nN.~Berkovits and P.~S.~Howe,\\n``Ten-dimensional supergravity constraints from the pure\\nspinor formalism  for the superstring,''\\nNucl.\\\\ Phys.\\\\ B {\\\\bf 635} (2002) 75\\n[arXiv:hep-th/0112160].\\n%%CITATION = HEP-TH 0112160;%%\\n\\n\\\\bibitem{dBS}\\nJ.~de Boer and K.~Skenderis,\\n``Covariant computation of the low energy effective action of the\\nheterotic superstring,''\\nNucl.\\\\ Phys.\\\\ B {\\\\bf 481}, 129 (1996)\\n[arXiv:hep-th/9608078];\\n%%CITATION = HEP-TH 9608078;%%\\n``Target space supersymmetric sigma model techniques,''\\narXiv:hep-th/9611066.\\n%%CITATION = HEP-TH 9611066;%%\\n\\n\\n\\\\bibitem{E32}\\nM.~B.~Green and S.~Sethi,\\n``Supersymmetry constraints on type IIB supergravity,''\\nPhys.\\\\ Rev.\\\\ D {\\\\bf 59}, 046006 (1999)\\n[hep-th/9808061];\\n%%CITATION = HEP-TH 9808061;%%\\nB.~Pioline,\\n``A note on non-perturbative R**4 couplings,''\\nPhys.\\\\ Lett.\\\\ B {\\\\bf 431}, 73 (1998)\\n[arXiv:hep-th/9804023].\\n%%CITATION = HEP-TH 9804023;%%\\n\\n\\\\bibitem{Tseytlin}\\nA.~A.~Tseytlin,\\n``Ambiguity In The Effective Action In String Theories,''\\nPhys.\\\\ Lett.\\\\ B {\\\\bf 176} (1986) 92.\\n%%CITATION = PHLTA,B176,92;%%\\n\\n\\\\bibitem{Wald}\\nR.M. Wald, ``General Relativity'', University of Chicago Press (1984)\\n\\n\\\\bibitem{DL1}\\nM.~J.~Duff and J.~X.~Lu,\\n``The Selfdual type IIB superthreebrane,''\\nPhys.\\\\ Lett.\\\\ B {\\\\bf 273}, 409 (1991).\\n%%CITATION = PHLTA,B273,409;%%\\n\\n\\\\bibitem{Town}\\nP.~K.~Townsend,\\n``Positive Energy And The Scalar Potential In Higher\\nDimensional (Super)Gravity Theories,''\\nPhys.\\\\ Lett.\\\\ B {\\\\bf 148}, 55 (1984).\\n%%CITATION = PHLTA,B148,55;%%\\n\\n\\\\bibitem{ST}\\nK.~Skenderis and P.~K.~Townsend,\\n``Gravitational stability and renormalization-group flow,''\\nPhys.\\\\ Lett.\\\\ B {\\\\bf 468}, 46 (1999)\\n[hep-th/9909070].\\n%%CITATION = HEP-TH 9909070;%%\\n\\n\\\\bibitem{DFGK}\\nO.~DeWolfe, D.~Z.~Freedman, S.~S.~Gubser and A.~Karch,\\n``Modeling the fifth dimension with scalars and gravity,''\\nPhys.\\\\ Rev.\\\\ D {\\\\bf 62}, 046008 (2000)\\n[hep-th/9909134].\\n%%CITATION = HEP-TH 9909134;%%\\n\\n\\\\bibitem{Malda}\\nJ.~Maldacena,\\n``The large N limit of superconformal field theories and supergravity,''\\nAdv.\\\\ Theor.\\\\ Math.\\\\ Phys.\\\\  {\\\\bf 2}, 231 (1998)\\n[Int.\\\\ J.\\\\ Theor.\\\\ Phys.\\\\  {\\\\bf 38}, 1113 (1998)]\\n[hep-th/9711200].\\n%%CITATION = HEP-TH 9711200;%%\\n\\n\\\\bibitem{count} For a review see\\nK.~Skenderis,\\n``Asymptotically anti-de Sitter spacetimes and their stress energy\\ntensor,''\\nInt.\\\\ J.\\\\ Mod.\\\\ Phys.\\\\ A {\\\\bf 16}, 740 (2001)\\n[arXiv:hep-th/0010138].\\n%%CITATION = HEP-TH 0010138;%%\\n\\n\\\\bibitem{countfl} K.~Skenderis,\\n``Lecture notes on holographic renormalization,''\\nClass.\\\\ Quant.\\\\ Grav.\\\\  {\\\\bf 19}, 5849 (2002)\\n[arXiv:hep-th/0209067].\\n%%CITATION = HEP-TH 0209067;%%\\n\\n\\\\bibitem{DGHR}\\nA.~Dabholkar, G.~Gibbons, J.~A.~Harvey and F.~Ruiz Ruiz,\\n``Superstrings And Solitons,''\\nNucl.\\\\ Phys.\\\\ B {\\\\bf 340}, 33 (1990).\\n%%CITATION = NUPHA,B340,33;%%\\n\\n\\\\bibitem{deWit}\\nB.~de Wit, ``Modifications of the area law and $N=2$ supersymmetric black\\nholes'', arXiv: {\\\\tt hep-th/9906095}\\n\\n\\\\bibitem{dirac}\\nR.~I.~Nepomechie,\\n``Magnetic Monopoles From Antisymmetric Tensor Gauge Fields,''\\nPhys.\\\\ Rev.\\\\ D {\\\\bf 31}, 1921 (1985);\\n%%CITATION = PHRVA,D31,1921;%%\\nC.~Teitelboim,\\n``Monopoles Of Higher Rank,''\\nPhys.\\\\ Lett.\\\\ B {\\\\bf 167}, 69 (1986).\\n%%CITATION = PHLTA,B167,69;%%\\n\\n\\\\bibitem{bhrev}\\nK.~Skenderis,\\n``Black holes and branes in string theory,''\\nLect.\\\\ Notes Phys.\\\\  {\\\\bf 541}, 325 (2000)\\n[arXiv:hep-th/9901050].\\n%%CITATION = HEP-TH 9901050;%%\\n\\n\\\\bibitem{HS}\\nG.~T.~Horowitz and A.~Strominger,\\n``Black strings and P-branes,''\\nNucl.\\\\ Phys.\\\\ B {\\\\bf 360}, 197 (1991).\\n%%CITATION = NUPHA,B360,197;%%\\n\\n\\\\bibitem{DL2}\\nM.~J.~Duff and J.~X.~Lu,\\n``Black and super p-branes in diverse dimensions,''\\nNucl.\\\\ Phys.\\\\ B {\\\\bf 416}, 301 (1994)\\n[hep-th/9306052].\\n%%CITATION = HEP-TH 9306052;%%\\n\\n\\\\bibitem{DKL}\\nM.~J.~Duff, R.~R.~Khuri and J.~X.~Lu,\\n``String solitons,''\\nPhys.\\\\ Rept.\\\\  {\\\\bf 259}, 213 (1995)\\n[hep-th/9412184].\\n%%CITATION = HEP-TH 9412184;%%\\n\\n%\\\\cite{Zhou:1999nm}\\n\\\\bibitem{Zhou:1999nm}\\nB.~Zhou and C.~J.~Zhu,\\n``The complete black brane solutions in D-dimensional coupled gravity\\nsystem,''\\narXiv:hep-th/9905146.\\n%%CITATION = HEP-TH 9905146;%%\\n\\n%\\\\bibitem{IIB}\\n%J.~H.~Schwarz,\\n%``Covariant Field Equations Of Chiral N=2 D = 10 Supergravity,''\\n%Nucl.\\\\ Phys.\\\\ B {\\\\bf 226}, 269 (1983).\\n%%CITATION = NUPHA,B226,269;%%\\n\\n\\n\\n\\n\\\\end{thebibliography}\\n\\n\\\\end{document}\\n\\n\\n\\n\\n\\n\\n\""
      ]
     },
     "execution_count": 48,
     "metadata": {},
     "output_type": "execute_result"
    }
   ],
   "source": [
    "data"
   ]
  },
  {
   "cell_type": "code",
   "execution_count": null,
   "metadata": {},
   "outputs": [],
   "source": []
  }
 ],
 "metadata": {
  "kernelspec": {
   "display_name": "Python 3",
   "language": "python",
   "name": "python3"
  },
  "language_info": {
   "codemirror_mode": {
    "name": "ipython",
    "version": 3
   },
   "file_extension": ".py",
   "mimetype": "text/x-python",
   "name": "python",
   "nbconvert_exporter": "python",
   "pygments_lexer": "ipython3",
   "version": "3.6.6"
  }
 },
 "nbformat": 4,
 "nbformat_minor": 2
}
